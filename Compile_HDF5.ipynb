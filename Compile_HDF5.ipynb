{
 "cells": [
  {
   "cell_type": "markdown",
   "id": "ac39c21d-db36-4274-b3e5-6f58fe5ccfcb",
   "metadata": {},
   "source": [
    "## **Jupyter Notebook for exporting data into a HDF5 file.**\n",
    "- version: 2.0 <br>\n",
    "- author: William Rigaut <br>\n",
    "- date: 06.01.2025  <br>"
   ]
  },
  {
   "cell_type": "code",
   "execution_count": 1,
   "id": "32f3af29",
   "metadata": {},
   "outputs": [],
   "source": [
    "sample_metadata = {\n",
    "    \"sample_name\": \"2711_LaCeNdFeB\",\n",
    "    \"composition\": \"LaCeNdFeB\",\n",
    "    \n",
    "    \"type\": \"Triode\",\n",
    "    \"substrate\": \"SiO2\",\n",
    "    \"deposition_temperature\": \"300K\",\n",
    "    \"layer_1\": {\"element\": \"Ta\", \"thickness\": \"100nm\"},\n",
    "    \"layer_2\": {\"element\": \"NdLaCeFeB\", \"thickness\": \"1500nm\"},\n",
    "    \"layer_3\": {\"element\": \"Ta\", \"thickness\": \"10nm\"},\n",
    "    \"annealing_temperature\": \"873K\",\n",
    "    \"annealing_time\": \"600s\"\n",
    "}"
   ]
  },
  {
   "cell_type": "code",
   "execution_count": 2,
   "id": "875bdd46",
   "metadata": {},
   "outputs": [
    {
     "name": "stderr",
     "output_type": "stream",
     "text": [
      "100%|██████████| 289/289 [00:10<00:00, 28.27it/s]\n",
      "100%|██████████| 277/277 [00:44<00:00,  6.20it/s]\n",
      "100%|██████████| 293/293 [00:09<00:00, 32.31it/s]\n"
     ]
    }
   ],
   "source": [
    "import packages.compilers.compile_hdf5 as compile_hdf5\n",
    "import packages.compilers.compile_edx as compile_edx\n",
    "import packages.compilers.compile_xrd as compile_xrd\n",
    "import packages.compilers.compile_moke as compile_moke\n",
    "import pathlib\n",
    "import os\n",
    "import h5py\n",
    "from tqdm import tqdm\n",
    "\n",
    "\n",
    "datapath = pathlib.Path(\"./data/2711_LaCeNdFeB/\")\n",
    "#os.mkdir(datapath)\n",
    "\n",
    "HDF5_path = datapath / \"2711_LaCeNdFeB.hdf5\"\n",
    "compile_hdf5.create_new_hdf5(HDF5_path, sample_metadata)\n",
    "\n",
    "filepath_edx = pathlib.Path(\"../Jupyter_App/data/EDX/2711_LaCeNdFeB\")\n",
    "for file in tqdm([f for f in os.listdir(filepath_edx) if f.endswith('.spx')]):\n",
    "    fullpath = filepath_edx / file\n",
    "    compile_edx.write_edx_to_hdf5(HDF5_path, fullpath)\n",
    "\n",
    "\n",
    "filepath_xrd = pathlib.Path(\"../Jupyter_App/data/XRD/NdLaCeFeB 2711 600 10min/\")\n",
    "for file in tqdm([f for f in os.listdir(filepath_xrd) if f.startswith(\"Areamap\") and f.endswith('.ras')]):\n",
    "    fullpath = filepath_xrd / file\n",
    "    compile_xrd.write_xrd_to_hdf5(HDF5_path, fullpath)\n",
    "\n",
    "filepath_moke = pathlib.Path(\"../Jupyter_App/data/MOKE/NdFeB-sq films/2711 NdLaCeFeB TdepRT 600 10min\")\n",
    "for file in tqdm([f for f in os.listdir(filepath_moke) if f.endswith('_magnetization.txt')]):\n",
    "    fullpath = filepath_moke / file\n",
    "    compile_moke.write_moke_to_hdf5(HDF5_path, fullpath)\n",
    "\n"
   ]
  },
  {
   "cell_type": "code",
   "execution_count": 2,
   "id": "b68f9950",
   "metadata": {},
   "outputs": [
    {
     "ename": "NameError",
     "evalue": "name 'pathlib' is not defined",
     "output_type": "error",
     "traceback": [
      "\u001b[0;31m---------------------------------------------------------------------------\u001b[0m",
      "\u001b[0;31mNameError\u001b[0m                                 Traceback (most recent call last)",
      "Cell \u001b[0;32mIn[2], line 3\u001b[0m\n\u001b[1;32m      1\u001b[0m \u001b[38;5;28;01mimport\u001b[39;00m \u001b[38;5;21;01mpackages\u001b[39;00m\u001b[38;5;21;01m.\u001b[39;00m\u001b[38;5;21;01mreaders\u001b[39;00m\u001b[38;5;21;01m.\u001b[39;00m\u001b[38;5;21;01mread_hdf5\u001b[39;00m \u001b[38;5;28;01mas\u001b[39;00m \u001b[38;5;21;01mread_hdf5\u001b[39;00m\n\u001b[0;32m----> 3\u001b[0m datapath \u001b[38;5;241m=\u001b[39m \u001b[43mpathlib\u001b[49m\u001b[38;5;241m.\u001b[39mPath(\u001b[38;5;124m\"\u001b[39m\u001b[38;5;124m./data/2711_LaCeNdFeB/\u001b[39m\u001b[38;5;124m\"\u001b[39m)\n\u001b[1;32m      4\u001b[0m HDF5_path \u001b[38;5;241m=\u001b[39m datapath \u001b[38;5;241m/\u001b[39m \u001b[38;5;124m\"\u001b[39m\u001b[38;5;124m2711_LaCeNdFeB.hdf5\u001b[39m\u001b[38;5;124m\"\u001b[39m\n\u001b[1;32m      6\u001b[0m data \u001b[38;5;241m=\u001b[39m read_hdf5\u001b[38;5;241m.\u001b[39mget_full_dataset(HDF5_path)\n",
      "\u001b[0;31mNameError\u001b[0m: name 'pathlib' is not defined"
     ]
    }
   ],
   "source": [
    "import packages.readers.read_hdf5 as read_hdf5\n",
    "import pathlib\n",
    "\n",
    "datapath = pathlib.Path(\"./data/2711_LaCeNdFeB/\")\n",
    "HDF5_path = datapath / \"2711_LaCeNdFeB.hdf5\"\n",
    "\n",
    "data = read_hdf5.get_full_dataset(HDF5_path)\n",
    "print(data)"
   ]
  },
  {
   "cell_type": "markdown",
   "id": "cddc3fbc-21f7-4e89-bf49-1bb99c134c76",
   "metadata": {},
   "source": [
    "**@end-of-notebook**"
   ]
  }
 ],
 "metadata": {
  "kernelspec": {
   "display_name": "Python 3 (ipykernel)",
   "language": "python",
   "name": "python3"
  },
  "language_info": {
   "codemirror_mode": {
    "name": "ipython",
    "version": 3
   },
   "file_extension": ".py",
   "mimetype": "text/x-python",
   "name": "python",
   "nbconvert_exporter": "python",
   "pygments_lexer": "ipython3",
   "version": "3.12.3"
  }
 },
 "nbformat": 4,
 "nbformat_minor": 5
}
