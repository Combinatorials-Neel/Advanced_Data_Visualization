{
 "cells": [
  {
   "cell_type": "markdown",
   "id": "ac39c21d-db36-4274-b3e5-6f58fe5ccfcb",
   "metadata": {},
   "source": [
    "## **Jupyter Notebook for exporting data into a HDF5 file.**\n",
    "- version: 2.0 <br>\n",
    "- author: William Rigaut <br>\n",
    "- date: 06.01.2025  <br>"
   ]
  },
  {
   "cell_type": "code",
   "execution_count": 1,
   "id": "32f3af29",
   "metadata": {},
   "outputs": [],
   "source": [
    "sample_metadata = {\n",
    "    \"sample_name\": \"2711_LaCeNdFeB\",\n",
    "    \"composition\": \"LaCeNdFeB\",\n",
    "    \n",
    "    \"type\": \"Triode\",\n",
    "    \"substrate\": \"SiO2\",\n",
    "    \"deposition_temperature\": \"300K\",\n",
    "    \"layer_1\": {\"element\": \"Ta\", \"thickness\": \"100nm\"},\n",
    "    \"layer_2\": {\"element\": \"NdLaCeFeB\", \"thickness\": \"1500nm\"},\n",
    "    \"layer_3\": {\"element\": \"Ta\", \"thickness\": \"10nm\"},\n",
    "    \"annealing_temperature\": \"873K\",\n",
    "    \"annealing_time\": \"600s\"\n",
    "}"
   ]
  },
  {
   "cell_type": "code",
   "execution_count": 2,
   "id": "875bdd46",
   "metadata": {},
   "outputs": [
    {
     "name": "stderr",
     "output_type": "stream",
     "text": [
      "100%|██████████| 289/289 [00:09<00:00, 29.74it/s]\n",
      "100%|██████████| 277/277 [00:40<00:00,  6.91it/s]\n",
      "100%|██████████| 293/293 [00:09<00:00, 30.41it/s]\n"
     ]
    }
   ],
   "source": [
    "import packages.compilers.compile_hdf5 as compile_hdf5\n",
    "import packages.compilers.compile_edx as compile_edx\n",
    "import packages.compilers.compile_xrd as compile_xrd\n",
    "import packages.compilers.compile_moke as compile_moke\n",
    "import pathlib\n",
    "import os\n",
    "import h5py\n",
    "from tqdm import tqdm\n",
    "\n",
    "\n",
    "datapath = pathlib.Path(\"./data/\")\n",
    "#os.mkdir(datapath)\n",
    "\n",
    "HDF5_path = datapath / \"2711_LaCeNdFeB.hdf5\"\n",
    "compile_hdf5.create_new_hdf5(HDF5_path, sample_metadata)\n",
    "\n",
    "filepath_edx = pathlib.Path(\"../Jupyter_App/data/EDX/2711_LaCeNdFeB\")\n",
    "for file in tqdm([f for f in os.listdir(filepath_edx) if f.endswith('.spx')]):\n",
    "    fullpath = filepath_edx / file\n",
    "    compile_edx.write_edx_to_hdf5(HDF5_path, fullpath)\n",
    "\n",
    "\n",
    "filepath_xrd = pathlib.Path(\"../Jupyter_App/data/XRD/NdLaCeFeB 2711 600 10min/\")\n",
    "for file in tqdm([f for f in os.listdir(filepath_xrd) if f.startswith(\"Areamap\") and f.endswith('.ras')]):\n",
    "    fullpath = filepath_xrd / file\n",
    "    compile_xrd.write_xrd_to_hdf5(HDF5_path, fullpath)\n",
    "\n",
    "filepath_moke = pathlib.Path(\"../../High-throughput-interactive-app/data/MOKE/NdLaCeFeB-triple-target/2711 NdLaCeFeB TdepRT 600 10min\")\n",
    "for file in tqdm([f for f in os.listdir(filepath_moke) if f.endswith('_magnetization.txt')]):\n",
    "    fullpath = filepath_moke / file\n",
    "    compile_moke.write_moke_to_hdf5(HDF5_path, fullpath)\n",
    "\n"
   ]
  },
  {
   "cell_type": "code",
   "execution_count": 1,
   "id": "b68f9950",
   "metadata": {},
   "outputs": [
    {
     "name": "stdout",
     "output_type": "stream",
     "text": [
      "<xarray.Dataset> Size: 19kB\n",
      "Dimensions:                       (y: 17, x: 17)\n",
      "Coordinates:\n",
      "  * y                             (y) int64 136B -40 -35 -30 -25 ... 25 30 35 40\n",
      "  * x                             (x) int64 136B -40 -35 -30 -25 ... 25 30 35 40\n",
      "Data variables:\n",
      "    Ce Composition                (y, x) float64 2kB nan nan nan ... nan nan nan\n",
      "    Fe Composition                (y, x) float64 2kB nan nan nan ... nan nan nan\n",
      "    La Composition                (y, x) float64 2kB nan nan nan ... nan nan nan\n",
      "    Nd Composition                (y, x) float64 2kB nan nan nan ... nan nan nan\n",
      "    Coercivity                    (y, x) float64 2kB nan nan nan ... nan nan nan\n",
      "    CubicRE Lattice Parameter A   (y, x) float64 2kB nan nan nan ... nan nan nan\n",
      "    Nd2Fe14B Lattice Parameter A  (y, x) float64 2kB nan nan nan ... nan nan nan\n",
      "    Nd2Fe14B Lattice Parameter C  (y, x) float64 2kB nan nan nan ... nan nan nan\n",
      "{}\n"
     ]
    }
   ],
   "source": [
    "import packages.readers.read_hdf5 as read_hdf5\n",
    "import pathlib\n",
    "\n",
    "datapath = pathlib.Path(\"./data/2711_LaCeNdFeB/\")\n",
    "HDF5_path = datapath / \"2711_LaCeNdFeB.hdf5\"\n",
    "\n",
    "data = read_hdf5.get_full_dataset(HDF5_path)\n",
    "print(data)\n",
    "print(data.attrs)"
   ]
  },
  {
   "cell_type": "code",
   "execution_count": 2,
   "id": "cebfa66b",
   "metadata": {},
   "outputs": [
    {
     "data": {
      "image/png": "[encoded data removed]",
      "text/plain": [
       "<Figure size 640x480 with 2 Axes>"
      ]
     },
     "metadata": {},
     "output_type": "display_data"
    }
   ],
   "source": [
    "coercivity_plot = data[\"Coercivity\"].plot.pcolormesh(cmap='rainbow')"
   ]
  },
  {
   "cell_type": "markdown",
   "id": "cddc3fbc-21f7-4e89-bf49-1bb99c134c76",
   "metadata": {},
   "source": [
    "**@end-of-notebook**"
   ]
  }
 ],
 "metadata": {
  "kernelspec": {
   "display_name": "Python 3 (ipykernel)",
   "language": "python",
   "name": "python3"
  },
  "language_info": {
   "codemirror_mode": {
    "name": "ipython",
    "version": 3
   },
   "file_extension": ".py",
   "mimetype": "text/x-python",
   "name": "python",
   "nbconvert_exporter": "python",
   "pygments_lexer": "ipython3",
   "version": "3.12.3"
  }
 },
 "nbformat": 4,
 "nbformat_minor": 5
}
