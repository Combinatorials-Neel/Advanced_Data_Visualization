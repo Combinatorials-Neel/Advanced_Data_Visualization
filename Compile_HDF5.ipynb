{
 "cells": [
  {
   "cell_type": "markdown",
   "id": "ac39c21d-db36-4274-b3e5-6f58fe5ccfcb",
   "metadata": {},
   "source": [
    "## **Jupyter Notebook for exporting data into a HDF5 file.**\n",
    "- Version: 2.0 <br>\n",
    "- Author: William Rigaut <br>\n",
    "- Date: 20.01.2025  <br>\n",
    "- Package developped at Institut Néel to generate .hdf5 files from experimental data."
   ]
  },
  {
   "cell_type": "markdown",
   "id": "0ca2378a",
   "metadata": {},
   "source": [
    "This Notebook is used to compile our datasets into .hdf5 files and is provided with the source code used to execute the compiler.\n",
    "\n",
    "If you want to read an existing .hdf5 file, please open the Reader_HDF5_NEEL.ipynb instead."
   ]
  },
  {
   "cell_type": "code",
   "execution_count": 1,
   "id": "32f3af29",
   "metadata": {},
   "outputs": [],
   "source": [
    "# This code is used to add the sample metadata manually to the HDF5 file\n",
    "# This process will be automatized in a futur version of the app\n",
    "sample_metadata = {\n",
    "    \"sample_name\": \"2711_LaCeNdFeB\",\n",
    "    \"composition\": \"LaCeNdFeB\",\n",
    "    \n",
    "    \"type\": \"Triode\",\n",
    "    \"substrate\": \"SiO2\",\n",
    "    \"deposition_temperature\": \"300K\",\n",
    "    \"layer_1\": {\"element\": \"Ta\", \"thickness\": \"100nm\"},\n",
    "    \"layer_2\": {\"element\": \"NdLaCeFeB\", \"thickness\": \"1500nm\"},\n",
    "    \"layer_3\": {\"element\": \"Ta\", \"thickness\": \"10nm\"},\n",
    "    \"annealing_temperature\": \"873K\",\n",
    "    \"annealing_time\": \"600s\"\n",
    "}"
   ]
  },
  {
   "cell_type": "code",
   "execution_count": 2,
   "id": "875bdd46",
   "metadata": {},
   "outputs": [
    {
     "name": "stderr",
     "output_type": "stream",
     "text": [
      "100%|██████████| 289/289 [00:17<00:00, 16.84it/s]\n",
      "100%|██████████| 277/277 [01:08<00:00,  4.06it/s]\n",
      "100%|██████████| 293/293 [00:16<00:00, 18.22it/s]\n"
     ]
    }
   ],
   "source": [
    "# Importing the compilers\n",
    "import packages.compilers.compile_hdf5 as compile_hdf5\n",
    "import packages.compilers.compile_edx as compile_edx\n",
    "import packages.compilers.compile_xrd as compile_xrd\n",
    "import packages.compilers.compile_moke as compile_moke\n",
    "\n",
    "# and useful libraries\n",
    "import pathlib\n",
    "import os\n",
    "import h5py\n",
    "from tqdm import tqdm\n",
    "\n",
    "\n",
    "datapath = pathlib.Path(\"./data/\")\n",
    "#os.mkdir(datapath)\n",
    "\n",
    "# Creating the HDF5 file with the sample metadata\n",
    "HDF5_path = datapath / \"2711_LaCeNdFeB.hdf5\"\n",
    "compile_hdf5.create_new_hdf5(HDF5_path, sample_metadata)\n",
    "\n",
    "# Adding the EDX data\n",
    "filepath_edx = pathlib.Path(\"../Jupyter_App/data/EDX/2711_LaCeNdFeB\")\n",
    "for file in tqdm([f for f in os.listdir(filepath_edx) if f.endswith('.spx')]):\n",
    "    fullpath = filepath_edx / file\n",
    "    compile_edx.write_edx_to_hdf5(HDF5_path, fullpath)\n",
    "\n",
    "# Adding the XRD data\n",
    "filepath_xrd = pathlib.Path(\"../Jupyter_App/data/XRD/NdLaCeFeB 2711 600 10min/\")\n",
    "for file in tqdm([f for f in os.listdir(filepath_xrd) if f.startswith(\"Areamap\") and f.endswith('.ras')]):\n",
    "    fullpath = filepath_xrd / file\n",
    "    compile_xrd.write_xrd_to_hdf5(HDF5_path, fullpath)\n",
    "\n",
    "# Adding the MOKE data\n",
    "filepath_moke = pathlib.Path(\"../../High-throughput-interactive-app/data/MOKE/NdLaCeFeB-triple-target/2711 NdLaCeFeB TdepRT 600 10min\")\n",
    "for file in tqdm([f for f in os.listdir(filepath_moke) if f.endswith('_magnetization.txt')]):\n",
    "    fullpath = filepath_moke / file\n",
    "    compile_moke.write_moke_to_hdf5(HDF5_path, fullpath)\n",
    "\n"
   ]
  },
  {
   "cell_type": "markdown",
   "id": "cddc3fbc-21f7-4e89-bf49-1bb99c134c76",
   "metadata": {},
   "source": [
    "**@end-of-notebook**"
   ]
  }
 ],
 "metadata": {
  "kernelspec": {
   "display_name": "Python 3 (ipykernel)",
   "language": "python",
   "name": "python3"
  },
  "language_info": {
   "codemirror_mode": {
    "name": "ipython",
    "version": 3
   },
   "file_extension": ".py",
   "mimetype": "text/x-python",
   "name": "python",
   "nbconvert_exporter": "python",
   "pygments_lexer": "ipython3",
   "version": "3.12.3"
  }
 },
 "nbformat": 4,
 "nbformat_minor": 5
}
