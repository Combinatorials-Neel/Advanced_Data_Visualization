{
 "cells": [
  {
   "cell_type": "markdown",
   "id": "ac39c21d-db36-4274-b3e5-6f58fe5ccfcb",
   "metadata": {},
   "source": [
    "## **Advanced data vizualisation using hdf5 datafiles from Institut Néel**\n",
    "- Version: 1.0 <br>\n",
    "- Author: William Rigaut <br>\n",
    "- Date: 17.06.2025  <br>\n",
    "- Package developped at Institut Néel to visualize and manipulate the data with python commands. A tool to quickly visualize the data is already available at https://github.com/Escouflenfer/combinatorials-app. This Notebook will allow you to customize plots with much less restrictions but needs basic python knowledge."
   ]
  },
  {
   "cell_type": "markdown",
   "id": "a88d7ae5",
   "metadata": {},
   "source": [
    "### **1. Introduction**"
   ]
  },
  {
   "cell_type": "markdown",
   "id": "d60a414e",
   "metadata": {},
   "source": [
    "<p>An <b>HDF5</b> datafile compiled from high-throughput experiments at Institut Néel contains different measurement scans for each point in a 2D-grid over a thin film deposited on a 100mm substrate. This 2D-grid contains a point every 5mm centered around the center of the wafer itself, by considering the circular shape of the substrate one datafile contains 249 scans for each main characterization technique.</p>\n",
    "\n",
    "<p>At each position, four main characterization techniques can be performed: <p>\n",
    "\n",
    "- <b>Energy Dispersive X-ray spectroscopy (EDX)</b> where element composition can be determined using a scanning electron microscope.\n",
    "\n",
    "- <b>Scanning Magneto Optics Kerr Effect (MOKE)</b> where the coercive field on the surface of a magnetic thin film can be obtained by a fast optical measurement under a pulsed magnetic field.\n",
    "\n",
    "- <b>X-Ray Diffraction (XRD)</b> where structural properties can be determined (Phases and lattice parameters) using either a automated laboratory diffractometer or synchrotron radiation.\n",
    "\n",
    "- <b>Profilometry (DEKTAK)</b>  is also used to estimate magnetic film thickness at every position with a calibration experiment using a patterned substrate. This technique is new and it has not been applied to older datasets. Profilometry data will be added in a futur version of the package and is currently not supported.\n",
    "\n",
    "The HDF5 file structure is defined using a standard very similar to the <b>NeXuS hdf5 file format</b> used in synchrotron facilities (https://www.nexusformat.org/)."
   ]
  },
  {
   "cell_type": "markdown",
   "id": "babdb526",
   "metadata": {},
   "source": [
    "### **2. Read and display data from hdf5 file using a GUI**"
   ]
  },
  {
   "cell_type": "markdown",
   "id": "055b91d7",
   "metadata": {},
   "source": [
    "Before starting, you can download the example dataset [here](https://drive.google.com/file/d/1mE-7jC6ur7xdcSRf6CvO0iAE3oxIJdZA/view?usp=sharing). This file contains a full dataset for the (NdLaCe)FeB system.\n",
    "\n",
    "A first overview of the HDF5 datafile can be done using a graphical user interface (GUI) program such as:\n",
    "- `pyMca` http://www.silx.org/doc/PyMca/dev/install.html\n",
    "- `hdf5view` https://pypi.org/project/hdf5view/\n",
    "\n",
    "<p>Without GUI, the python module <b>h5py</b>, which is actually used by the reader can also be considered.</p>\n",
    "\n",
    "<p>Here is an example with the PyMca software:</p>"
   ]
  },
  {
   "cell_type": "markdown",
   "id": "a35b5023",
   "metadata": {},
   "source": [
    "![HDF5 file display using PyMca software](examples/Figure_1-PyMca.png)"
   ]
  },
  {
   "cell_type": "markdown",
   "id": "31159279",
   "metadata": {},
   "source": [
    "Inside the hdf5 file you will be able to find a first subgroup labeled `entry`, containing 4 groups:\n",
    "- `edx` containing all EDX scans at each wafer position.\n",
    "- `moke` containing all MOKE scans at each wafer position.\n",
    "- `sample` containing basic sample info such as layer structure, deposition temperature, ect...\n",
    "- `xrd` containing all XRD scans at each wafer position.\n",
    "\n",
    "These group will be reviewed in more details using the reader itself, but feel free to explore the dataset on your own and please ask me if you find something you think is not very clear or convenient."
   ]
  },
  {
   "cell_type": "markdown",
   "id": "6a1469e3",
   "metadata": {},
   "source": [
    "### **3. Using the hdf5 reader from Institut Néel**"
   ]
  },
  {
   "cell_type": "markdown",
   "id": "32465689",
   "metadata": {},
   "source": [
    "##### **3.1 Default xarray full dataset**"
   ]
  },
  {
   "cell_type": "markdown",
   "id": "ece79ebf",
   "metadata": {},
   "source": [
    "First, you can import the `read_hdf5` functions along the `pathlib` python library to use path that are OS independant."
   ]
  },
  {
   "cell_type": "code",
   "execution_count": 1,
   "id": "da8b5815",
   "metadata": {},
   "outputs": [],
   "source": [
    "import packages.readers.read_hdf5 as read_hdf5\n",
    "import pathlib"
   ]
  },
  {
   "cell_type": "markdown",
   "id": "a5fcdaa5",
   "metadata": {},
   "source": [
    "Then you simply need to specify the path to your HDF5 datafile using the following command: "
   ]
  },
  {
   "cell_type": "code",
   "execution_count": 2,
   "id": "b68f9950",
   "metadata": {},
   "outputs": [],
   "source": [
    "HDF5_path = pathlib.Path(\"/Users/williamrigaut/Desktop/combinatorials/combinatorials-data/NdCeFeB_2-5.hdf5\")"
   ]
  },
  {
   "cell_type": "markdown",
   "id": "d7e81119",
   "metadata": {},
   "source": [
    "The package `read_hdf5` includes a function `get_full_dataset()` that will read inside the HDF5 file to retrieve <b>composition</b>, <b>coercivity</b> and <b>lattice parameters</b> of all the fitted phases for every position using an xarray. You can call it by using the following:\n"
   ]
  },
  {
   "cell_type": "code",
   "execution_count": 3,
   "id": "4fc466fe",
   "metadata": {},
   "outputs": [
    {
     "data": {
      "text/html": [
       "<div><svg style=\"position: absolute; width: 0; height: 0; overflow: hidden\">\n",
       "<defs>\n",
       "<symbol id=\"icon-database\" viewBox=\"0 0 32 32\">\n",
       "<path d=\"M16 0c-8.837 0-16 2.239-16 5v4c0 2.761 7.163 5 16 5s16-2.239 16-5v-4c0-2.761-7.163-5-16-5z\"></path>\n",
       "<path d=\"M16 17c-8.837 0-16-2.239-16-5v6c0 2.761 7.163 5 16 5s16-2.239 16-5v-6c0 2.761-7.163 5-16 5z\"></path>\n",
       "<path d=\"M16 26c-8.837 0-16-2.239-16-5v6c0 2.761 7.163 5 16 5s16-2.239 16-5v-6c0 2.761-7.163 5-16 5z\"></path>\n",
       "</symbol>\n",
       "<symbol id=\"icon-file-text2\" viewBox=\"0 0 32 32\">\n",
       "<path d=\"M28.681 7.159c-0.694-0.947-1.662-2.053-2.724-3.116s-2.169-2.030-3.116-2.724c-1.612-1.182-2.393-1.319-2.841-1.319h-15.5c-1.378 0-2.5 1.121-2.5 2.5v27c0 1.378 1.122 2.5 2.5 2.5h23c1.378 0 2.5-1.122 2.5-2.5v-19.5c0-0.448-0.137-1.23-1.319-2.841zM24.543 5.457c0.959 0.959 1.712 1.825 2.268 2.543h-4.811v-4.811c0.718 0.556 1.584 1.309 2.543 2.268zM28 29.5c0 0.271-0.229 0.5-0.5 0.5h-23c-0.271 0-0.5-0.229-0.5-0.5v-27c0-0.271 0.229-0.5 0.5-0.5 0 0 15.499-0 15.5 0v7c0 0.552 0.448 1 1 1h7v19.5z\"></path>\n",
       "<path d=\"M23 26h-14c-0.552 0-1-0.448-1-1s0.448-1 1-1h14c0.552 0 1 0.448 1 1s-0.448 1-1 1z\"></path>\n",
       "<path d=\"M23 22h-14c-0.552 0-1-0.448-1-1s0.448-1 1-1h14c0.552 0 1 0.448 1 1s-0.448 1-1 1z\"></path>\n",
       "<path d=\"M23 18h-14c-0.552 0-1-0.448-1-1s0.448-1 1-1h14c0.552 0 1 0.448 1 1s-0.448 1-1 1z\"></path>\n",
       "</symbol>\n",
       "</defs>\n",
       "</svg>\n",
       "<style>/* CSS stylesheet for displaying xarray objects in jupyterlab.\n",
       " *\n",
       " */\n",
       "\n",
       ":root {\n",
       "  --xr-font-color0: var(--jp-content-font-color0, rgba(0, 0, 0, 1));\n",
       "  --xr-font-color2: var(--jp-content-font-color2, rgba(0, 0, 0, 0.54));\n",
       "  --xr-font-color3: var(--jp-content-font-color3, rgba(0, 0, 0, 0.38));\n",
       "  --xr-border-color: var(--jp-border-color2, #e0e0e0);\n",
       "  --xr-disabled-color: var(--jp-layout-color3, #bdbdbd);\n",
       "  --xr-background-color: var(--jp-layout-color0, white);\n",
       "  --xr-background-color-row-even: var(--jp-layout-color1, white);\n",
       "  --xr-background-color-row-odd: var(--jp-layout-color2, #eeeeee);\n",
       "}\n",
       "\n",
       "html[theme=\"dark\"],\n",
       "html[data-theme=\"dark\"],\n",
       "body[data-theme=\"dark\"],\n",
       "body.vscode-dark {\n",
       "  --xr-font-color0: rgba(255, 255, 255, 1);\n",
       "  --xr-font-color2: rgba(255, 255, 255, 0.54);\n",
       "  --xr-font-color3: rgba(255, 255, 255, 0.38);\n",
       "  --xr-border-color: #1f1f1f;\n",
       "  --xr-disabled-color: #515151;\n",
       "  --xr-background-color: #111111;\n",
       "  --xr-background-color-row-even: #111111;\n",
       "  --xr-background-color-row-odd: #313131;\n",
       "}\n",
       "\n",
       ".xr-wrap {\n",
       "  display: block !important;\n",
       "  min-width: 300px;\n",
       "  max-width: 700px;\n",
       "}\n",
       "\n",
       ".xr-text-repr-fallback {\n",
       "  /* fallback to plain text repr when CSS is not injected (untrusted notebook) */\n",
       "  display: none;\n",
       "}\n",
       "\n",
       ".xr-header {\n",
       "  padding-top: 6px;\n",
       "  padding-bottom: 6px;\n",
       "  margin-bottom: 4px;\n",
       "  border-bottom: solid 1px var(--xr-border-color);\n",
       "}\n",
       "\n",
       ".xr-header > div,\n",
       ".xr-header > ul {\n",
       "  display: inline;\n",
       "  margin-top: 0;\n",
       "  margin-bottom: 0;\n",
       "}\n",
       "\n",
       ".xr-obj-type,\n",
       ".xr-array-name {\n",
       "  margin-left: 2px;\n",
       "  margin-right: 10px;\n",
       "}\n",
       "\n",
       ".xr-obj-type {\n",
       "  color: var(--xr-font-color2);\n",
       "}\n",
       "\n",
       ".xr-sections {\n",
       "  padding-left: 0 !important;\n",
       "  display: grid;\n",
       "  grid-template-columns: 150px auto auto 1fr 0 20px 0 20px;\n",
       "}\n",
       "\n",
       ".xr-section-item {\n",
       "  display: contents;\n",
       "}\n",
       "\n",
       ".xr-section-item input {\n",
       "  display: inline-block;\n",
       "  opacity: 0;\n",
       "  height: 0;\n",
       "}\n",
       "\n",
       ".xr-section-item input + label {\n",
       "  color: var(--xr-disabled-color);\n",
       "}\n",
       "\n",
       ".xr-section-item input:enabled + label {\n",
       "  cursor: pointer;\n",
       "  color: var(--xr-font-color2);\n",
       "}\n",
       "\n",
       ".xr-section-item input:focus + label {\n",
       "  border: 2px solid var(--xr-font-color0);\n",
       "}\n",
       "\n",
       ".xr-section-item input:enabled + label:hover {\n",
       "  color: var(--xr-font-color0);\n",
       "}\n",
       "\n",
       ".xr-section-summary {\n",
       "  grid-column: 1;\n",
       "  color: var(--xr-font-color2);\n",
       "  font-weight: 500;\n",
       "}\n",
       "\n",
       ".xr-section-summary > span {\n",
       "  display: inline-block;\n",
       "  padding-left: 0.5em;\n",
       "}\n",
       "\n",
       ".xr-section-summary-in:disabled + label {\n",
       "  color: var(--xr-font-color2);\n",
       "}\n",
       "\n",
       ".xr-section-summary-in + label:before {\n",
       "  display: inline-block;\n",
       "  content: \"►\";\n",
       "  font-size: 11px;\n",
       "  width: 15px;\n",
       "  text-align: center;\n",
       "}\n",
       "\n",
       ".xr-section-summary-in:disabled + label:before {\n",
       "  color: var(--xr-disabled-color);\n",
       "}\n",
       "\n",
       ".xr-section-summary-in:checked + label:before {\n",
       "  content: \"▼\";\n",
       "}\n",
       "\n",
       ".xr-section-summary-in:checked + label > span {\n",
       "  display: none;\n",
       "}\n",
       "\n",
       ".xr-section-summary,\n",
       ".xr-section-inline-details {\n",
       "  padding-top: 4px;\n",
       "  padding-bottom: 4px;\n",
       "}\n",
       "\n",
       ".xr-section-inline-details {\n",
       "  grid-column: 2 / -1;\n",
       "}\n",
       "\n",
       ".xr-section-details {\n",
       "  display: none;\n",
       "  grid-column: 1 / -1;\n",
       "  margin-bottom: 5px;\n",
       "}\n",
       "\n",
       ".xr-section-summary-in:checked ~ .xr-section-details {\n",
       "  display: contents;\n",
       "}\n",
       "\n",
       ".xr-array-wrap {\n",
       "  grid-column: 1 / -1;\n",
       "  display: grid;\n",
       "  grid-template-columns: 20px auto;\n",
       "}\n",
       "\n",
       ".xr-array-wrap > label {\n",
       "  grid-column: 1;\n",
       "  vertical-align: top;\n",
       "}\n",
       "\n",
       ".xr-preview {\n",
       "  color: var(--xr-font-color3);\n",
       "}\n",
       "\n",
       ".xr-array-preview,\n",
       ".xr-array-data {\n",
       "  padding: 0 5px !important;\n",
       "  grid-column: 2;\n",
       "}\n",
       "\n",
       ".xr-array-data,\n",
       ".xr-array-in:checked ~ .xr-array-preview {\n",
       "  display: none;\n",
       "}\n",
       "\n",
       ".xr-array-in:checked ~ .xr-array-data,\n",
       ".xr-array-preview {\n",
       "  display: inline-block;\n",
       "}\n",
       "\n",
       ".xr-dim-list {\n",
       "  display: inline-block !important;\n",
       "  list-style: none;\n",
       "  padding: 0 !important;\n",
       "  margin: 0;\n",
       "}\n",
       "\n",
       ".xr-dim-list li {\n",
       "  display: inline-block;\n",
       "  padding: 0;\n",
       "  margin: 0;\n",
       "}\n",
       "\n",
       ".xr-dim-list:before {\n",
       "  content: \"(\";\n",
       "}\n",
       "\n",
       ".xr-dim-list:after {\n",
       "  content: \")\";\n",
       "}\n",
       "\n",
       ".xr-dim-list li:not(:last-child):after {\n",
       "  content: \",\";\n",
       "  padding-right: 5px;\n",
       "}\n",
       "\n",
       ".xr-has-index {\n",
       "  font-weight: bold;\n",
       "}\n",
       "\n",
       ".xr-var-list,\n",
       ".xr-var-item {\n",
       "  display: contents;\n",
       "}\n",
       "\n",
       ".xr-var-item > div,\n",
       ".xr-var-item label,\n",
       ".xr-var-item > .xr-var-name span {\n",
       "  background-color: var(--xr-background-color-row-even);\n",
       "  margin-bottom: 0;\n",
       "}\n",
       "\n",
       ".xr-var-item > .xr-var-name:hover span {\n",
       "  padding-right: 5px;\n",
       "}\n",
       "\n",
       ".xr-var-list > li:nth-child(odd) > div,\n",
       ".xr-var-list > li:nth-child(odd) > label,\n",
       ".xr-var-list > li:nth-child(odd) > .xr-var-name span {\n",
       "  background-color: var(--xr-background-color-row-odd);\n",
       "}\n",
       "\n",
       ".xr-var-name {\n",
       "  grid-column: 1;\n",
       "}\n",
       "\n",
       ".xr-var-dims {\n",
       "  grid-column: 2;\n",
       "}\n",
       "\n",
       ".xr-var-dtype {\n",
       "  grid-column: 3;\n",
       "  text-align: right;\n",
       "  color: var(--xr-font-color2);\n",
       "}\n",
       "\n",
       ".xr-var-preview {\n",
       "  grid-column: 4;\n",
       "}\n",
       "\n",
       ".xr-index-preview {\n",
       "  grid-column: 2 / 5;\n",
       "  color: var(--xr-font-color2);\n",
       "}\n",
       "\n",
       ".xr-var-name,\n",
       ".xr-var-dims,\n",
       ".xr-var-dtype,\n",
       ".xr-preview,\n",
       ".xr-attrs dt {\n",
       "  white-space: nowrap;\n",
       "  overflow: hidden;\n",
       "  text-overflow: ellipsis;\n",
       "  padding-right: 10px;\n",
       "}\n",
       "\n",
       ".xr-var-name:hover,\n",
       ".xr-var-dims:hover,\n",
       ".xr-var-dtype:hover,\n",
       ".xr-attrs dt:hover {\n",
       "  overflow: visible;\n",
       "  width: auto;\n",
       "  z-index: 1;\n",
       "}\n",
       "\n",
       ".xr-var-attrs,\n",
       ".xr-var-data,\n",
       ".xr-index-data {\n",
       "  display: none;\n",
       "  background-color: var(--xr-background-color) !important;\n",
       "  padding-bottom: 5px !important;\n",
       "}\n",
       "\n",
       ".xr-var-attrs-in:checked ~ .xr-var-attrs,\n",
       ".xr-var-data-in:checked ~ .xr-var-data,\n",
       ".xr-index-data-in:checked ~ .xr-index-data {\n",
       "  display: block;\n",
       "}\n",
       "\n",
       ".xr-var-data > table {\n",
       "  float: right;\n",
       "}\n",
       "\n",
       ".xr-var-name span,\n",
       ".xr-var-data,\n",
       ".xr-index-name div,\n",
       ".xr-index-data,\n",
       ".xr-attrs {\n",
       "  padding-left: 25px !important;\n",
       "}\n",
       "\n",
       ".xr-attrs,\n",
       ".xr-var-attrs,\n",
       ".xr-var-data,\n",
       ".xr-index-data {\n",
       "  grid-column: 1 / -1;\n",
       "}\n",
       "\n",
       "dl.xr-attrs {\n",
       "  padding: 0;\n",
       "  margin: 0;\n",
       "  display: grid;\n",
       "  grid-template-columns: 125px auto;\n",
       "}\n",
       "\n",
       ".xr-attrs dt,\n",
       ".xr-attrs dd {\n",
       "  padding: 0;\n",
       "  margin: 0;\n",
       "  float: left;\n",
       "  padding-right: 10px;\n",
       "  width: auto;\n",
       "}\n",
       "\n",
       ".xr-attrs dt {\n",
       "  font-weight: normal;\n",
       "  grid-column: 1;\n",
       "}\n",
       "\n",
       ".xr-attrs dt:hover span {\n",
       "  display: inline-block;\n",
       "  background: var(--xr-background-color);\n",
       "  padding-right: 10px;\n",
       "}\n",
       "\n",
       ".xr-attrs dd {\n",
       "  grid-column: 2;\n",
       "  white-space: pre-wrap;\n",
       "  word-break: break-all;\n",
       "}\n",
       "\n",
       ".xr-icon-database,\n",
       ".xr-icon-file-text2,\n",
       ".xr-no-icon {\n",
       "  display: inline-block;\n",
       "  vertical-align: middle;\n",
       "  width: 1em;\n",
       "  height: 1.5em !important;\n",
       "  stroke-width: 0;\n",
       "  stroke: currentColor;\n",
       "  fill: currentColor;\n",
       "}\n",
       "</style><pre class='xr-text-repr-fallback'>&lt;xarray.Dataset&gt; Size: 33kB\n",
       "Dimensions:                       (y: 17, x: 17)\n",
       "Coordinates:\n",
       "  * y                             (y) float64 136B -40.0 -35.0 ... 35.0 40.0\n",
       "  * x                             (x) float64 136B -40.0 -35.0 ... 35.0 40.0\n",
       "Data variables: (12/14)\n",
       "    Ce Composition                (y, x) float64 2kB nan nan nan ... nan nan nan\n",
       "    Fe Composition                (y, x) float64 2kB nan nan nan ... nan nan nan\n",
       "    Nd Composition                (y, x) float64 2kB nan nan nan ... nan nan nan\n",
       "    coercivity_dmdh               (y, x) float64 2kB nan nan nan ... nan nan nan\n",
       "    coercivity_m0                 (y, x) float64 2kB nan nan nan ... nan nan nan\n",
       "    intercept_field               (y, x) float64 2kB nan nan nan ... nan nan nan\n",
       "    ...                            ...\n",
       "    Nd2Fe14B Phase Fraction       (y, x) float64 2kB nan nan nan ... nan nan nan\n",
       "    Nd2Fe14B Lattice Parameter A  (y, x) float64 2kB nan nan nan ... nan nan nan\n",
       "    Nd2Fe14B Lattice Parameter C  (y, x) float64 2kB nan nan nan ... nan nan nan\n",
       "    Nd2O3 Phase Fraction          (y, x) float64 2kB nan nan nan ... nan nan nan\n",
       "    Nd2O3 Lattice Parameter A     (y, x) float64 2kB nan nan nan ... nan nan nan\n",
       "    Nd2O3 Lattice Parameter C     (y, x) float64 2kB nan nan nan ... nan nan nan</pre><div class='xr-wrap' style='display:none'><div class='xr-header'><div class='xr-obj-type'>xarray.Dataset</div></div><ul class='xr-sections'><li class='xr-section-item'><input id='section-9555e650-e013-4be6-8e67-e925ae2c5e6c' class='xr-section-summary-in' type='checkbox' disabled ><label for='section-9555e650-e013-4be6-8e67-e925ae2c5e6c' class='xr-section-summary'  title='Expand/collapse section'>Dimensions:</label><div class='xr-section-inline-details'><ul class='xr-dim-list'><li><span class='xr-has-index'>y</span>: 17</li><li><span class='xr-has-index'>x</span>: 17</li></ul></div><div class='xr-section-details'></div></li><li class='xr-section-item'><input id='section-17e6dce5-615c-4800-81d4-0cae8cf49cba' class='xr-section-summary-in' type='checkbox'  checked><label for='section-17e6dce5-615c-4800-81d4-0cae8cf49cba' class='xr-section-summary' >Coordinates: <span>(2)</span></label><div class='xr-section-inline-details'></div><div class='xr-section-details'><ul class='xr-var-list'><li class='xr-var-item'><div class='xr-var-name'><span class='xr-has-index'>y</span></div><div class='xr-var-dims'>(y)</div><div class='xr-var-dtype'>float64</div><div class='xr-var-preview xr-preview'>-40.0 -35.0 -30.0 ... 35.0 40.0</div><input id='attrs-13f9afaf-142e-4e9e-b7aa-1d924d0f8e5c' class='xr-var-attrs-in' type='checkbox' ><label for='attrs-13f9afaf-142e-4e9e-b7aa-1d924d0f8e5c' title='Show/Hide attributes'><svg class='icon xr-icon-file-text2'><use xlink:href='#icon-file-text2'></use></svg></label><input id='data-3d9a26f3-b8fc-4b62-8096-4e1ee51a2bbd' class='xr-var-data-in' type='checkbox'><label for='data-3d9a26f3-b8fc-4b62-8096-4e1ee51a2bbd' title='Show/Hide data repr'><svg class='icon xr-icon-database'><use xlink:href='#icon-database'></use></svg></label><div class='xr-var-attrs'><dl class='xr-attrs'><dt><span>units :</span></dt><dd>mm</dd></dl></div><div class='xr-var-data'><pre>array([-40., -35., -30., -25., -20., -15., -10.,  -5.,   0.,   5.,  10.,  15.,\n",
       "        20.,  25.,  30.,  35.,  40.])</pre></div></li><li class='xr-var-item'><div class='xr-var-name'><span class='xr-has-index'>x</span></div><div class='xr-var-dims'>(x)</div><div class='xr-var-dtype'>float64</div><div class='xr-var-preview xr-preview'>-40.0 -35.0 -30.0 ... 35.0 40.0</div><input id='attrs-5d4442bb-28f8-4fa7-839f-33636491cd49' class='xr-var-attrs-in' type='checkbox' ><label for='attrs-5d4442bb-28f8-4fa7-839f-33636491cd49' title='Show/Hide attributes'><svg class='icon xr-icon-file-text2'><use xlink:href='#icon-file-text2'></use></svg></label><input id='data-f03f638b-803b-47bd-b4b5-26759c93c79d' class='xr-var-data-in' type='checkbox'><label for='data-f03f638b-803b-47bd-b4b5-26759c93c79d' title='Show/Hide data repr'><svg class='icon xr-icon-database'><use xlink:href='#icon-database'></use></svg></label><div class='xr-var-attrs'><dl class='xr-attrs'><dt><span>units :</span></dt><dd>mm</dd></dl></div><div class='xr-var-data'><pre>array([-40., -35., -30., -25., -20., -15., -10.,  -5.,   0.,   5.,  10.,  15.,\n",
       "        20.,  25.,  30.,  35.,  40.])</pre></div></li></ul></div></li><li class='xr-section-item'><input id='section-d2149906-bdbb-4d77-81e7-2fb6fe1b4d55' class='xr-section-summary-in' type='checkbox'  checked><label for='section-d2149906-bdbb-4d77-81e7-2fb6fe1b4d55' class='xr-section-summary' >Data variables: <span>(14)</span></label><div class='xr-section-inline-details'></div><div class='xr-section-details'><ul class='xr-var-list'><li class='xr-var-item'><div class='xr-var-name'><span>Ce Composition</span></div><div class='xr-var-dims'>(y, x)</div><div class='xr-var-dtype'>float64</div><div class='xr-var-preview xr-preview'>nan nan nan nan ... nan nan nan nan</div><input id='attrs-efb96253-a23e-418a-99e5-9c95b17b0fa3' class='xr-var-attrs-in' type='checkbox' ><label for='attrs-efb96253-a23e-418a-99e5-9c95b17b0fa3' title='Show/Hide attributes'><svg class='icon xr-icon-file-text2'><use xlink:href='#icon-file-text2'></use></svg></label><input id='data-e1f00613-e5f0-4858-8872-bd7fbac3faef' class='xr-var-data-in' type='checkbox'><label for='data-e1f00613-e5f0-4858-8872-bd7fbac3faef' title='Show/Hide data repr'><svg class='icon xr-icon-database'><use xlink:href='#icon-database'></use></svg></label><div class='xr-var-attrs'><dl class='xr-attrs'><dt><span>units :</span></dt><dd>at.%</dd></dl></div><div class='xr-var-data'><pre>array([[       nan,        nan,        nan,        nan,        nan,\n",
       "        5.47034838, 5.13701062, 5.56877057, 5.31439297, 5.49573608,\n",
       "        5.29615353, 5.02826491,        nan,        nan,        nan,\n",
       "               nan,        nan],\n",
       "       [       nan,        nan,        nan,        nan, 5.65475642,\n",
       "        5.50803147, 5.86632879, 5.49964816, 5.42354803, 4.98055279,\n",
       "        5.08573542, 4.96612218, 4.68639209,        nan,        nan,\n",
       "               nan,        nan],\n",
       "       [       nan,        nan,        nan, 5.61973085, 5.76004732,\n",
       "        5.5936831 , 5.58958897, 5.33327377, 5.32762379, 5.32327164,\n",
       "        5.2995955 , 5.0943905 , 4.89328313, 4.99205541,        nan,\n",
       "               nan,        nan],\n",
       "       [       nan,        nan, 5.88801927, 5.65398774, 5.90920529,\n",
       "        5.52669172, 5.34337724, 5.23021612, 5.03549113, 5.10130703,\n",
       "        5.13355558, 4.96569193, 5.05261903, 4.77560891, 4.78214856,\n",
       "               nan,        nan],\n",
       "       [       nan, 5.69757995, 6.06574436, 5.51029804, 5.60822515,\n",
       "        5.71345591, 5.47485533, 5.2346258 , 5.37642378, 5.12176199,\n",
       "        5.2249361 , 5.09429774, 4.9609101 , 5.20382505, 4.63457051,\n",
       "        4.8448241 ,        nan],\n",
       "...\n",
       "       [       nan, 6.02455816, 5.47697127, 5.79955913, 5.64082783,\n",
       "        5.77787257, 5.28813745, 4.95362643, 5.04204466, 5.30224166,\n",
       "        4.95470707, 4.79236526, 4.6824653 , 4.83816572, 4.36127868,\n",
       "        4.44258336,        nan],\n",
       "       [       nan,        nan, 5.72272155, 5.72415477, 5.58240874,\n",
       "        5.49157911, 5.68115989, 5.25195796, 5.0725455 , 5.10774413,\n",
       "        5.1568898 , 5.290955  , 4.82054249, 5.09717453, 4.60229499,\n",
       "               nan,        nan],\n",
       "       [       nan,        nan,        nan, 5.59401039, 5.53221626,\n",
       "        5.63387031, 5.61143024, 5.2910849 , 5.39384349, 5.10794393,\n",
       "        4.99505013, 5.02128799, 4.96925464, 4.76915078,        nan,\n",
       "               nan,        nan],\n",
       "       [       nan,        nan,        nan,        nan, 5.19136973,\n",
       "        5.32144326, 5.78425045, 5.19039987, 5.17408058, 5.0574274 ,\n",
       "        5.04278029, 4.96647499, 5.06621089,        nan,        nan,\n",
       "               nan,        nan],\n",
       "       [       nan,        nan,        nan,        nan,        nan,\n",
       "        5.96491538, 5.6132429 , 5.34940531, 5.54340998, 4.86518826,\n",
       "        5.01922771, 5.27052401,        nan,        nan,        nan,\n",
       "               nan,        nan]])</pre></div></li><li class='xr-var-item'><div class='xr-var-name'><span>Fe Composition</span></div><div class='xr-var-dims'>(y, x)</div><div class='xr-var-dtype'>float64</div><div class='xr-var-preview xr-preview'>nan nan nan nan ... nan nan nan nan</div><input id='attrs-4d255a9a-7532-4dbf-b110-f1a441d28c2d' class='xr-var-attrs-in' type='checkbox' ><label for='attrs-4d255a9a-7532-4dbf-b110-f1a441d28c2d' title='Show/Hide attributes'><svg class='icon xr-icon-file-text2'><use xlink:href='#icon-file-text2'></use></svg></label><input id='data-8909221a-3b84-4520-988f-f385349b9bbd' class='xr-var-data-in' type='checkbox'><label for='data-8909221a-3b84-4520-988f-f385349b9bbd' title='Show/Hide data repr'><svg class='icon xr-icon-database'><use xlink:href='#icon-database'></use></svg></label><div class='xr-var-attrs'><dl class='xr-attrs'><dt><span>units :</span></dt><dd>at.%</dd></dl></div><div class='xr-var-data'><pre>array([[        nan,         nan,         nan,         nan,         nan,\n",
       "        86.89170278, 86.9933114 , 86.74089791, 86.91623097, 86.0257506 ,\n",
       "        86.54102972, 86.62436668,         nan,         nan,         nan,\n",
       "                nan,         nan],\n",
       "       [        nan,         nan,         nan,         nan, 86.69816819,\n",
       "        87.20608648, 86.91589798, 87.04392479, 86.85812692, 87.08056515,\n",
       "        87.06539216, 87.01040037, 87.13323522,         nan,         nan,\n",
       "                nan,         nan],\n",
       "       [        nan,         nan,         nan, 86.64971235, 86.88217657,\n",
       "        86.68265818, 87.06850556, 87.19270626, 87.12966286, 86.92192928,\n",
       "        87.12657792, 86.89855873, 87.09139138, 86.82562107,         nan,\n",
       "                nan,         nan],\n",
       "       [        nan,         nan, 86.80132753, 87.13471305, 86.63739065,\n",
       "        87.20752479, 87.14584015, 87.16233251, 87.47862771, 87.27033653,\n",
       "        87.17527097, 87.09906479, 86.9662028 , 87.19551996, 87.27768158,\n",
       "                nan,         nan],\n",
       "       [        nan, 86.9313961 , 86.51623014, 87.24389489, 87.05129974,\n",
       "        87.10735445, 87.28510048, 87.23178819, 87.08646761, 87.21449642,\n",
       "        87.18748904, 86.91173985, 87.29418662, 86.77805194, 87.24269244,\n",
       "        86.59127364,         nan],\n",
       "...\n",
       "       [        nan, 86.54061714, 87.16100264, 86.51243431, 87.27992526,\n",
       "        86.91361125, 87.21253776, 87.25037591, 87.31290409, 87.14979181,\n",
       "        86.9861331 , 87.06074538, 87.11208724, 87.35135983, 87.26765273,\n",
       "        86.97551155,         nan],\n",
       "       [        nan,         nan, 86.92401979, 86.64698409, 86.78565607,\n",
       "        86.9246291 , 86.92221087, 87.40720704, 87.0784762 , 87.40540468,\n",
       "        87.11328812, 86.85933647, 87.0806529 , 86.70832096, 86.8812636 ,\n",
       "                nan,         nan],\n",
       "       [        nan,         nan,         nan, 86.90407451, 86.7152643 ,\n",
       "        86.9850283 , 86.51211252, 86.94790542, 87.10979374, 87.1785188 ,\n",
       "        87.00841014, 87.1275814 , 86.79647867, 87.12752559,         nan,\n",
       "                nan,         nan],\n",
       "       [        nan,         nan,         nan,         nan, 86.79766228,\n",
       "        86.96781754, 86.51459116, 87.21469966, 87.0021497 , 86.83441429,\n",
       "        86.70837165, 87.04437661, 86.72273615,         nan,         nan,\n",
       "                nan,         nan],\n",
       "       [        nan,         nan,         nan,         nan,         nan,\n",
       "        86.28654141, 86.54608282, 86.46587167, 86.45289498, 87.0439227 ,\n",
       "        87.01072752, 86.80770306,         nan,         nan,         nan,\n",
       "                nan,         nan]])</pre></div></li><li class='xr-var-item'><div class='xr-var-name'><span>Nd Composition</span></div><div class='xr-var-dims'>(y, x)</div><div class='xr-var-dtype'>float64</div><div class='xr-var-preview xr-preview'>nan nan nan nan ... nan nan nan nan</div><input id='attrs-6aa7c518-cd10-4283-b81b-507a91e8f624' class='xr-var-attrs-in' type='checkbox' ><label for='attrs-6aa7c518-cd10-4283-b81b-507a91e8f624' title='Show/Hide attributes'><svg class='icon xr-icon-file-text2'><use xlink:href='#icon-file-text2'></use></svg></label><input id='data-cd93e7f5-e4da-4a19-b7da-24414b85966c' class='xr-var-data-in' type='checkbox'><label for='data-cd93e7f5-e4da-4a19-b7da-24414b85966c' title='Show/Hide data repr'><svg class='icon xr-icon-database'><use xlink:href='#icon-database'></use></svg></label><div class='xr-var-attrs'><dl class='xr-attrs'><dt><span>units :</span></dt><dd>at.%</dd></dl></div><div class='xr-var-data'><pre>array([[       nan,        nan,        nan,        nan,        nan,\n",
       "        7.63794884, 7.86967798, 7.69033152, 7.76937606, 8.47851332,\n",
       "        8.16281675, 8.34736841,        nan,        nan,        nan,\n",
       "               nan,        nan],\n",
       "       [       nan,        nan,        nan,        nan, 7.64707539,\n",
       "        7.28588205, 7.21777323, 7.45642705, 7.71832505, 7.93888206,\n",
       "        7.84887243, 8.02347745, 8.1803727 ,        nan,        nan,\n",
       "               nan,        nan],\n",
       "       [       nan,        nan,        nan, 7.7305568 , 7.3577761 ,\n",
       "        7.72365871, 7.34190547, 7.47401998, 7.54271335, 7.75479908,\n",
       "        7.57382658, 8.00705078, 8.01532549, 8.18232352,        nan,\n",
       "               nan,        nan],\n",
       "       [       nan,        nan, 7.31065321, 7.21129922, 7.45340405,\n",
       "        7.26578349, 7.5107826 , 7.60745137, 7.48588116, 7.62835644,\n",
       "        7.69117345, 7.93524328, 7.98117818, 8.02887113, 7.94016986,\n",
       "               nan,        nan],\n",
       "       [       nan, 7.37102395, 7.41802551, 7.24580706, 7.34047512,\n",
       "        7.17918963, 7.24004419, 7.533586  , 7.53710861, 7.66374159,\n",
       "        7.58757486, 7.99396241, 7.74490328, 8.018123  , 8.12273705,\n",
       "        8.56390227,        nan],\n",
       "...\n",
       "       [       nan, 7.4348247 , 7.36202609, 7.68800656, 7.0792469 ,\n",
       "        7.30851618, 7.4993248 , 7.79599766, 7.64505125, 7.54796653,\n",
       "        8.05915983, 8.14688937, 8.20544745, 7.81047445, 8.37106858,\n",
       "        8.5819051 ,        nan],\n",
       "       [       nan,        nan, 7.35325867, 7.62886115, 7.63193519,\n",
       "        7.58379179, 7.39662924, 7.340835  , 7.8489783 , 7.4868512 ,\n",
       "        7.72982208, 7.84970853, 8.09880461, 8.19450451, 8.51644141,\n",
       "               nan,        nan],\n",
       "       [       nan,        nan,        nan, 7.50191511, 7.75251944,\n",
       "        7.38110139, 7.87645723, 7.76100968, 7.49636277, 7.71353727,\n",
       "        7.99653973, 7.85113062, 8.23426669, 8.10332364,        nan,\n",
       "               nan,        nan],\n",
       "       [       nan,        nan,        nan,        nan, 8.01096799,\n",
       "        7.71073921, 7.70115839, 7.59490047, 7.82376972, 8.1081583 ,\n",
       "        8.24884807, 7.98914841, 8.21105296,        nan,        nan,\n",
       "               nan,        nan],\n",
       "       [       nan,        nan,        nan,        nan,        nan,\n",
       "        7.74854321, 7.84067428, 8.18472302, 8.00369504, 8.09088903,\n",
       "        7.97004477, 7.92177294,        nan,        nan,        nan,\n",
       "               nan,        nan]])</pre></div></li><li class='xr-var-item'><div class='xr-var-name'><span>coercivity_dmdh</span></div><div class='xr-var-dims'>(y, x)</div><div class='xr-var-dtype'>float64</div><div class='xr-var-preview xr-preview'>nan nan nan nan ... nan nan nan nan</div><input id='attrs-1f368b9a-bf0a-4975-a7dc-8ecba43ac0e1' class='xr-var-attrs-in' type='checkbox' ><label for='attrs-1f368b9a-bf0a-4975-a7dc-8ecba43ac0e1' title='Show/Hide attributes'><svg class='icon xr-icon-file-text2'><use xlink:href='#icon-file-text2'></use></svg></label><input id='data-f34301d8-b6e5-4517-bafc-7d0936d09561' class='xr-var-data-in' type='checkbox'><label for='data-f34301d8-b6e5-4517-bafc-7d0936d09561' title='Show/Hide data repr'><svg class='icon xr-icon-database'><use xlink:href='#icon-database'></use></svg></label><div class='xr-var-attrs'><dl class='xr-attrs'><dt><span>units :</span></dt><dd>T</dd></dl></div><div class='xr-var-data'><pre>array([[       nan,        nan,        nan,        nan,        nan,\n",
       "               nan, 1.0133074 , 0.99666405, 0.92050253, 0.65568806,\n",
       "        0.98497684,        nan,        nan,        nan,        nan,\n",
       "               nan,        nan],\n",
       "       [       nan,        nan,        nan,        nan, 0.87512009,\n",
       "        1.2533635 , 1.16603688, 1.2725736 , 0.91024052, 0.99182629,\n",
       "        1.16135944, 0.92333767, 0.80263369,        nan,        nan,\n",
       "               nan,        nan],\n",
       "       [       nan,        nan,        nan, 1.10438575, 1.35544981,\n",
       "        1.3491562 , 1.22520661, 1.2080416 , 1.03786384, 1.22560977,\n",
       "        1.0760547 , 1.01037013, 1.10518164, 0.9646905 ,        nan,\n",
       "               nan,        nan],\n",
       "       [       nan,        nan, 1.03520543, 1.17332528, 1.225709  ,\n",
       "        1.39301086, 1.58731464, 1.40870502, 1.35582985, 1.60998742,\n",
       "        1.12950529, 1.24361009, 1.01056953, 0.92361866, 1.06927979,\n",
       "               nan,        nan],\n",
       "       [       nan, 1.24867433, 1.17021858, 1.35592579, 1.54907128,\n",
       "        2.1311509 , 1.43514126, 1.24759193, 1.43006987, 1.2186661 ,\n",
       "        1.6372367 , 1.4925787 , 0.80897874, 1.18833054, 0.96687942,\n",
       "        0.74437843,        nan],\n",
       "...\n",
       "       [       nan, 1.17508974, 1.24717089, 1.27040013, 1.47405713,\n",
       "        1.1817359 , 1.5789887 , 1.40296076, 1.02952636, 1.20358181,\n",
       "        1.07542671, 1.41962641, 0.89042743, 0.84069467, 0.65808648,\n",
       "        0.89769107,        nan],\n",
       "       [       nan,        nan, 1.03738377, 1.24657045, 1.05228233,\n",
       "        1.14972236, 1.26542784, 1.41068193, 1.39327023, 1.15965866,\n",
       "        1.28331005, 1.12102985, 0.58915908, 0.57431247, 0.89460595,\n",
       "               nan,        nan],\n",
       "       [       nan,        nan,        nan, 1.13979185, 1.13457832,\n",
       "        1.77647491, 1.28936278, 1.2630814 , 0.70253956, 0.99448712,\n",
       "        0.7427509 , 0.65653833, 0.57419369, 0.96653675,        nan,\n",
       "               nan,        nan],\n",
       "       [       nan,        nan,        nan,        nan, 0.92117474,\n",
       "        0.72661025, 1.09292539, 0.90204997, 1.11636206, 1.13749823,\n",
       "        1.04658661, 1.10119224, 0.78421645,        nan,        nan,\n",
       "               nan,        nan],\n",
       "       [       nan,        nan,        nan,        nan,        nan,\n",
       "               nan, 0.89251651, 0.66028848, 0.91775798, 0.33227733,\n",
       "        0.47780848,        nan,        nan,        nan,        nan,\n",
       "               nan,        nan]])</pre></div></li><li class='xr-var-item'><div class='xr-var-name'><span>coercivity_m0</span></div><div class='xr-var-dims'>(y, x)</div><div class='xr-var-dtype'>float64</div><div class='xr-var-preview xr-preview'>nan nan nan nan ... nan nan nan nan</div><input id='attrs-d0dde2f0-6158-4727-bd4c-e4c92954f754' class='xr-var-attrs-in' type='checkbox' ><label for='attrs-d0dde2f0-6158-4727-bd4c-e4c92954f754' title='Show/Hide attributes'><svg class='icon xr-icon-file-text2'><use xlink:href='#icon-file-text2'></use></svg></label><input id='data-390bb023-a85a-4b31-9a48-253e3a66f523' class='xr-var-data-in' type='checkbox'><label for='data-390bb023-a85a-4b31-9a48-253e3a66f523' title='Show/Hide data repr'><svg class='icon xr-icon-database'><use xlink:href='#icon-database'></use></svg></label><div class='xr-var-attrs'><dl class='xr-attrs'><dt><span>units :</span></dt><dd>T</dd></dl></div><div class='xr-var-data'><pre>array([[       nan,        nan,        nan,        nan,        nan,\n",
       "               nan, 0.96913695, 0.95205417, 0.96472983, 0.89947314,\n",
       "        0.91803719,        nan,        nan,        nan,        nan,\n",
       "               nan,        nan],\n",
       "       [       nan,        nan,        nan,        nan, 0.98579869,\n",
       "        1.10024586, 1.10038818, 1.14193662, 1.13094993, 1.1024602 ,\n",
       "        1.07321564, 0.9678673 , 0.89146956,        nan,        nan,\n",
       "               nan,        nan],\n",
       "       [       nan,        nan,        nan, 1.03820369, 1.22565969,\n",
       "        1.22300228, 1.22582148, 1.23118696, 1.19290564, 1.1814936 ,\n",
       "        1.14524371, 1.07648863, 0.97475432, 0.87632319,        nan,\n",
       "               nan,        nan],\n",
       "       [       nan,        nan, 1.07964113, 1.21728488, 1.31748277,\n",
       "        1.29480716, 1.31611217, 1.34536573, 1.29663224, 1.22682958,\n",
       "        1.15423914, 1.13546583, 0.96658051, 0.90159016, 0.807543  ,\n",
       "               nan,        nan],\n",
       "       [       nan, 1.09867619, 1.19232261, 1.27004007, 1.31438301,\n",
       "        1.33355087, 1.31702225, 1.33653521, 1.24976845, 1.24017258,\n",
       "        1.25607054, 1.21367603, 1.03050507, 1.01331295, 0.90411888,\n",
       "        0.72213746,        nan],\n",
       "...\n",
       "       [       nan, 1.04814462, 1.16318003, 1.27171536, 1.32457592,\n",
       "        1.2939267 , 1.23831862, 1.2314011 , 1.18336951, 1.12070018,\n",
       "        1.09763259, 1.0324293 , 0.93603455, 0.79623389, 0.6137116 ,\n",
       "        0.56730624,        nan],\n",
       "       [       nan,        nan, 1.01891793, 1.12155329, 1.1835854 ,\n",
       "        1.24764574, 1.2005949 , 1.18039188, 1.21098624, 1.11864542,\n",
       "        1.06633962, 0.9009874 , 0.74379206, 0.67564948, 0.60658843,\n",
       "               nan,        nan],\n",
       "       [       nan,        nan,        nan, 0.96373141, 1.09331763,\n",
       "        1.1232167 , 1.14066747, 1.11473475, 1.07770266, 0.97368773,\n",
       "        0.85287587, 0.72344807, 0.68305871, 0.61190775,        nan,\n",
       "               nan,        nan],\n",
       "       [       nan,        nan,        nan,        nan, 0.83300906,\n",
       "        0.88080454, 0.89391547, 0.94647286, 0.87446944, 0.80616986,\n",
       "        0.67102734, 0.61474932, 0.60731742,        nan,        nan,\n",
       "               nan,        nan],\n",
       "       [       nan,        nan,        nan,        nan,        nan,\n",
       "               nan, 0.67190751, 0.68249469, 0.6320131 , 0.56544256,\n",
       "        0.54054832,        nan,        nan,        nan,        nan,\n",
       "               nan,        nan]])</pre></div></li><li class='xr-var-item'><div class='xr-var-name'><span>intercept_field</span></div><div class='xr-var-dims'>(y, x)</div><div class='xr-var-dtype'>float64</div><div class='xr-var-preview xr-preview'>nan nan nan nan ... nan nan nan nan</div><input id='attrs-88969794-22a9-4fe1-95a4-d6d54ffbf539' class='xr-var-attrs-in' type='checkbox' ><label for='attrs-88969794-22a9-4fe1-95a4-d6d54ffbf539' title='Show/Hide attributes'><svg class='icon xr-icon-file-text2'><use xlink:href='#icon-file-text2'></use></svg></label><input id='data-5dc0594b-22dd-4a18-bd3f-a9e939860744' class='xr-var-data-in' type='checkbox'><label for='data-5dc0594b-22dd-4a18-bd3f-a9e939860744' title='Show/Hide data repr'><svg class='icon xr-icon-database'><use xlink:href='#icon-database'></use></svg></label><div class='xr-var-attrs'><dl class='xr-attrs'><dt><span>units :</span></dt><dd>T</dd></dl></div><div class='xr-var-data'><pre>array([[       nan,        nan,        nan,        nan,        nan,\n",
       "               nan, 2.21296474, 2.1757252 , 2.21588359, 2.15787496,\n",
       "        2.16567088,        nan,        nan,        nan,        nan,\n",
       "               nan,        nan],\n",
       "       [       nan,        nan,        nan,        nan, 2.29878942,\n",
       "        2.44657189, 2.43333207, 2.5045955 , 2.54356297, 2.38647527,\n",
       "        2.34317463, 2.22495422, 2.21590734,        nan,        nan,\n",
       "               nan,        nan],\n",
       "       [       nan,        nan,        nan, 2.36043025, 2.62115637,\n",
       "        2.61666184, 2.65908289, 2.67382014, 2.57163795, 2.68170099,\n",
       "        2.51190477, 2.49538447, 2.33025515, 2.12001587,        nan,\n",
       "               nan,        nan],\n",
       "       [       nan,        nan, 2.37762414, 2.65967617, 2.80651856,\n",
       "        2.78509946, 2.86551259, 2.90277295, 2.73570135, 2.66326778,\n",
       "        2.63605524, 2.46419712, 2.33619676, 2.19854371, 2.1443529 ,\n",
       "               nan,        nan],\n",
       "       [       nan, 2.4315897 , 2.68681226, 2.82308128, 2.81144201,\n",
       "        2.84516599, 2.85986129, 2.9588624 , 2.91918035, 2.95123145,\n",
       "        2.54788614, 2.70926893, 2.39774686, 2.25061234, 2.10663406,\n",
       "        1.93624066,        nan],\n",
       "...\n",
       "       [       nan, 2.34522033, 2.62272168, 2.76761267, 2.94839213,\n",
       "        2.79556165, 2.68819679, 2.62019103, 2.60617151, 2.46270174,\n",
       "        2.43968679, 2.32941134, 2.23995889, 2.03805753, 1.83692572,\n",
       "        1.77762721,        nan],\n",
       "       [       nan,        nan, 2.29760554, 2.45210196, 2.49851338,\n",
       "        2.6955597 , 2.64585846, 2.59353038, 2.5823704 , 2.45810443,\n",
       "        2.34266285, 2.17792715, 1.98231432, 1.91456132, 1.84337089,\n",
       "               nan,        nan],\n",
       "       [       nan,        nan,        nan, 2.22223333, 2.36155485,\n",
       "        2.3404675 , 2.46001739, 2.4644625 , 2.42082298, 2.26457491,\n",
       "        2.11459483, 1.92893582, 1.90095963, 1.7965592 ,        nan,\n",
       "               nan,        nan],\n",
       "       [       nan,        nan,        nan,        nan, 2.05052548,\n",
       "        2.15928707, 2.13562682, 2.23499091, 2.0952728 , 1.99440873,\n",
       "        1.92952674, 1.87075014, 1.81619003,        nan,        nan,\n",
       "               nan,        nan],\n",
       "       [       nan,        nan,        nan,        nan,        nan,\n",
       "               nan, 1.87194909, 1.8773027 , 1.83875971, 1.78328616,\n",
       "        1.7449672 ,        nan,        nan,        nan,        nan,\n",
       "               nan,        nan]])</pre></div></li><li class='xr-var-item'><div class='xr-var-name'><span>max_kerr_rotation</span></div><div class='xr-var-dims'>(y, x)</div><div class='xr-var-dtype'>float64</div><div class='xr-var-preview xr-preview'>nan nan nan nan ... nan nan nan nan</div><input id='attrs-06600bb3-bb5f-43ab-b9c0-c3ed00319eca' class='xr-var-attrs-in' type='checkbox' ><label for='attrs-06600bb3-bb5f-43ab-b9c0-c3ed00319eca' title='Show/Hide attributes'><svg class='icon xr-icon-file-text2'><use xlink:href='#icon-file-text2'></use></svg></label><input id='data-cf5ffd02-f285-4596-aedb-f967dd821ba5' class='xr-var-data-in' type='checkbox'><label for='data-cf5ffd02-f285-4596-aedb-f967dd821ba5' title='Show/Hide data repr'><svg class='icon xr-icon-database'><use xlink:href='#icon-database'></use></svg></label><div class='xr-var-attrs'><dl class='xr-attrs'><dt><span>units :</span></dt><dd>V</dd></dl></div><div class='xr-var-data'><pre>array([[       nan,        nan,        nan,        nan,        nan,\n",
       "               nan, 0.04499955, 0.04324957, 0.04133292, 0.04124959,\n",
       "        0.04120792,        nan,        nan,        nan,        nan,\n",
       "               nan,        nan],\n",
       "       [       nan,        nan,        nan,        nan, 0.04770786,\n",
       "        0.04362456, 0.04141625, 0.03912461, 0.0371663 , 0.03720796,\n",
       "        0.03808295, 0.03845795, 0.03833295,        nan,        nan,\n",
       "               nan,        nan],\n",
       "       [       nan,        nan,        nan, 0.04929117, 0.04437456,\n",
       "        0.04104126, 0.03841628, 0.03599964, 0.03479132, 0.03391633,\n",
       "        0.03495798, 0.03445799, 0.03604131, 0.03820795,        nan,\n",
       "               nan,        nan],\n",
       "       [       nan,        nan, 0.05004117, 0.04520788, 0.04133292,\n",
       "        0.03824962, 0.03545798, 0.033708  , 0.03174968, 0.03279134,\n",
       "        0.03266634, 0.03191635, 0.03387466, 0.03549964, 0.03829128,\n",
       "               nan,        nan],\n",
       "       [       nan, 0.05224948, 0.04724953, 0.04337457, 0.04008293,\n",
       "        0.03499965, 0.033208  , 0.0297497 , 0.02937471, 0.02741639,\n",
       "        0.03045803, 0.0297497 , 0.03249967, 0.03487465, 0.0366663 ,\n",
       "        0.04108292,        nan],\n",
       "...\n",
       "       [       nan, 0.05241614, 0.04895784, 0.04520788, 0.04099959,\n",
       "        0.03958294, 0.03791629, 0.03687463, 0.03537465, 0.03574964,\n",
       "        0.03595797, 0.0365413 , 0.03883294, 0.04145792, 0.04570788,\n",
       "        0.04904118,        nan],\n",
       "       [       nan,        nan, 0.05087449, 0.04683287, 0.04499955,\n",
       "        0.04149959, 0.04041626, 0.03966627, 0.03758296, 0.03829128,\n",
       "        0.03983293, 0.04166625, 0.04254124, 0.04445789, 0.05016616,\n",
       "               nan,        nan],\n",
       "       [       nan,        nan,        nan, 0.05141615, 0.04766619,\n",
       "        0.04479122, 0.04312457, 0.04220791, 0.04091626, 0.04133292,\n",
       "        0.04404123, 0.04520788, 0.04624954, 0.05133282,        nan,\n",
       "               nan,        nan],\n",
       "       [       nan,        nan,        nan,        nan, 0.05195781,\n",
       "        0.04904118, 0.04808285, 0.04633287, 0.04554121, 0.04604121,\n",
       "        0.04733286, 0.04858285, 0.05145782,        nan,        nan,\n",
       "               nan,        nan],\n",
       "       [       nan,        nan,        nan,        nan,        nan,\n",
       "               nan, 0.05249948, 0.0501245 , 0.0497495 , 0.05029116,\n",
       "        0.05316614,        nan,        nan,        nan,        nan,\n",
       "               nan,        nan]])</pre></div></li><li class='xr-var-item'><div class='xr-var-name'><span>reflectivity</span></div><div class='xr-var-dims'>(y, x)</div><div class='xr-var-dtype'>float64</div><div class='xr-var-preview xr-preview'>nan nan nan nan ... nan nan nan nan</div><input id='attrs-e0ad5eaf-e016-481a-af75-cfb896355715' class='xr-var-attrs-in' type='checkbox' ><label for='attrs-e0ad5eaf-e016-481a-af75-cfb896355715' title='Show/Hide attributes'><svg class='icon xr-icon-file-text2'><use xlink:href='#icon-file-text2'></use></svg></label><input id='data-abc2053d-0147-46a2-8dbe-06ffe85988b7' class='xr-var-data-in' type='checkbox'><label for='data-abc2053d-0147-46a2-8dbe-06ffe85988b7' title='Show/Hide data repr'><svg class='icon xr-icon-database'><use xlink:href='#icon-database'></use></svg></label><div class='xr-var-attrs'><dl class='xr-attrs'><dt><span>units :</span></dt><dd>V</dd></dl></div><div class='xr-var-data'><pre>array([[       nan,        nan,        nan,        nan,        nan,\n",
       "               nan, 1.70406173, 1.70602666, 1.69829651, 1.69438345,\n",
       "        1.69790219,        nan,        nan,        nan,        nan,\n",
       "               nan,        nan],\n",
       "       [       nan,        nan,        nan,        nan, 1.7089601 ,\n",
       "        1.71213742, 1.71527758, 1.70988682, 1.7085281 , 1.7079219 ,\n",
       "        1.69858964, 1.6954419 , 1.68666031,        nan,        nan,\n",
       "               nan,        nan],\n",
       "       [       nan,        nan,        nan, 1.68343684, 1.68584788,\n",
       "        1.6815865 , 1.68986227, 1.6944276 , 1.69423015, 1.6983663 ,\n",
       "        1.69490218, 1.68928003, 1.68679668, 1.69756366,        nan,\n",
       "               nan,        nan],\n",
       "       [       nan,        nan, 1.69988085, 1.70306534, 1.69553363,\n",
       "        1.69494087, 1.68745744, 1.68200608, 1.679444  , 1.68328373,\n",
       "        1.67526289, 1.67288432, 1.67387718, 1.66791274, 1.66948746,\n",
       "               nan,        nan],\n",
       "       [       nan, 1.6740026 , 1.67890053, 1.6790473 , 1.6802597 ,\n",
       "        1.68275514, 1.68271831, 1.68619409, 1.69460642, 1.69064002,\n",
       "        1.68977076, 1.690713  , 1.69862212, 1.69680988, 1.69579094,\n",
       "        1.68691995,        nan],\n",
       "...\n",
       "       [       nan, 1.65821355, 1.66301351, 1.66544613, 1.6723373 ,\n",
       "        1.67915181, 1.67425918, 1.67884469, 1.6851898 , 1.68696881,\n",
       "        1.68821693, 1.68032937, 1.67079735, 1.66313979, 1.64642998,\n",
       "        1.62643097,        nan],\n",
       "       [       nan,        nan, 1.6603175 , 1.65670153, 1.65536572,\n",
       "        1.66428948, 1.68116217, 1.67309679, 1.674783  , 1.67730921,\n",
       "        1.68613825, 1.67603196, 1.6679037 , 1.64927961, 1.62248539,\n",
       "               nan,        nan],\n",
       "       [       nan,        nan,        nan, 1.65659702, 1.65795511,\n",
       "        1.65643358, 1.66677019, 1.67513161, 1.67166142, 1.68221256,\n",
       "        1.6772078 , 1.67481753, 1.65077064, 1.63233176,        nan,\n",
       "               nan,        nan],\n",
       "       [       nan,        nan,        nan,        nan, 1.67010063,\n",
       "        1.67704754, 1.6806803 , 1.67923531, 1.67622739, 1.66486385,\n",
       "        1.66166121, 1.6355403 , 1.62058697,        nan,        nan,\n",
       "               nan,        nan],\n",
       "       [       nan,        nan,        nan,        nan,        nan,\n",
       "               nan, 1.67092298, 1.6588066 , 1.64445212, 1.6438882 ,\n",
       "        1.64292617,        nan,        nan,        nan,        nan,\n",
       "               nan,        nan]])</pre></div></li><li class='xr-var-item'><div class='xr-var-name'><span>Nd2Fe14B Phase Fraction</span></div><div class='xr-var-dims'>(y, x)</div><div class='xr-var-dtype'>float64</div><div class='xr-var-preview xr-preview'>nan nan nan nan ... nan nan nan nan</div><input id='attrs-7d5bf508-b96d-41d2-9c84-ce53501ff764' class='xr-var-attrs-in' type='checkbox' disabled><label for='attrs-7d5bf508-b96d-41d2-9c84-ce53501ff764' title='Show/Hide attributes'><svg class='icon xr-icon-file-text2'><use xlink:href='#icon-file-text2'></use></svg></label><input id='data-ae276e20-d213-4efc-a52b-05e7d0b08abc' class='xr-var-data-in' type='checkbox'><label for='data-ae276e20-d213-4efc-a52b-05e7d0b08abc' title='Show/Hide data repr'><svg class='icon xr-icon-database'><use xlink:href='#icon-database'></use></svg></label><div class='xr-var-attrs'><dl class='xr-attrs'></dl></div><div class='xr-var-data'><pre>array([[   nan,    nan,    nan,    nan,    nan, 0.9666, 0.9683, 0.9687,\n",
       "        0.971 , 0.9722, 0.9688, 0.9669,    nan,    nan,    nan,    nan,\n",
       "           nan],\n",
       "       [   nan,    nan,    nan,    nan, 0.9678, 0.9652, 0.9666, 0.9699,\n",
       "        0.9684, 0.9708, 0.9733, 0.9728, 0.9722,    nan,    nan,    nan,\n",
       "           nan],\n",
       "       [   nan,    nan,    nan, 0.9638, 0.968 , 0.9675, 0.9658, 0.966 ,\n",
       "        0.968 , 0.9639, 0.9736, 0.9698, 0.9711, 0.9735,    nan,    nan,\n",
       "           nan],\n",
       "       [   nan,    nan, 0.9677, 0.9615, 0.9629, 0.9647, 0.9631, 0.963 ,\n",
       "        0.962 , 0.9648, 0.9676, 0.9647, 0.9728, 0.972 , 0.9723,    nan,\n",
       "           nan],\n",
       "       [   nan, 0.969 , 0.9637, 0.9638, 0.9633, 0.9637, 0.9625, 0.9609,\n",
       "        0.9626, 0.9626, 0.9629, 0.9667, 0.9712, 0.9729, 0.9719, 0.9707,\n",
       "           nan],\n",
       "       [0.9676, 0.9638, 0.9632, 0.9616, 0.9606, 0.9601, 0.9619, 0.9603,\n",
       "        0.9594, 0.9609, 0.9631, 0.9629, 0.9659, 0.9681, 0.9722, 0.9719,\n",
       "        0.9686],\n",
       "       [0.9686, 0.9651, 0.962 , 0.9635, 0.9621, 0.9612, 0.9623, 0.9616,\n",
       "        0.9581, 0.9611, 0.9614, 0.9628, 0.9681, 0.9709, 0.9728, 0.971 ,\n",
       "...\n",
       "        0.9618, 0.9616, 0.9618, 0.9634, 0.9695, 0.9667, 0.9701, 0.9698,\n",
       "        0.9673],\n",
       "       [0.9722, 0.965 , 0.9621, 0.9619, 0.9623, 0.9598, 0.962 , 0.9612,\n",
       "        0.9618, 0.963 , 0.9656, 0.9625, 0.9683, 0.9697, 0.9699, 0.9679,\n",
       "        0.9661],\n",
       "       [   nan, 0.9703, 0.972 , 0.9638, 0.9621, 0.9606, 0.9607, 0.9626,\n",
       "        0.962 , 0.9634, 0.967 , 0.9675, 0.9683, 0.9716, 0.9681, 0.9659,\n",
       "           nan],\n",
       "       [   nan,    nan, 0.9716, 0.971 , 0.9628, 0.9651, 0.9656, 0.9656,\n",
       "        0.964 , 0.9663, 0.9679, 0.9682, 0.9698, 0.9684, 0.9665,    nan,\n",
       "           nan],\n",
       "       [   nan,    nan,    nan, 0.9734, 0.9691, 0.9662, 0.9683, 0.9701,\n",
       "        0.971 , 0.9675, 0.9673, 0.9697, 0.9664, 0.967 ,    nan,    nan,\n",
       "           nan],\n",
       "       [   nan,    nan,    nan,    nan, 0.9702, 0.9701, 0.9695, 0.9689,\n",
       "        0.9686, 0.9671, 0.9676, 0.9658, 0.9654,    nan,    nan,    nan,\n",
       "           nan],\n",
       "       [   nan,    nan,    nan,    nan,    nan, 0.9653, 0.966 , 0.9652,\n",
       "        0.9646, 0.9633, 0.9621, 0.961 ,    nan,    nan,    nan,    nan,\n",
       "           nan]])</pre></div></li><li class='xr-var-item'><div class='xr-var-name'><span>Nd2Fe14B Lattice Parameter A</span></div><div class='xr-var-dims'>(y, x)</div><div class='xr-var-dtype'>float64</div><div class='xr-var-preview xr-preview'>nan nan nan nan ... nan nan nan nan</div><input id='attrs-3d738f40-144c-41e5-a114-d6b7f4475e72' class='xr-var-attrs-in' type='checkbox' disabled><label for='attrs-3d738f40-144c-41e5-a114-d6b7f4475e72' title='Show/Hide attributes'><svg class='icon xr-icon-file-text2'><use xlink:href='#icon-file-text2'></use></svg></label><input id='data-f0481f44-fcba-4b4a-a825-ad1f6004fd5a' class='xr-var-data-in' type='checkbox'><label for='data-f0481f44-fcba-4b4a-a825-ad1f6004fd5a' title='Show/Hide data repr'><svg class='icon xr-icon-database'><use xlink:href='#icon-database'></use></svg></label><div class='xr-var-attrs'><dl class='xr-attrs'></dl></div><div class='xr-var-data'><pre>array([[     nan,      nan,      nan,      nan,      nan, 0.878433,\n",
       "        0.878553, 0.878596, 0.878741, 0.878998, 0.878977, 0.879358,\n",
       "             nan,      nan,      nan,      nan,      nan],\n",
       "       [     nan,      nan,      nan,      nan, 0.8786  , 0.878555,\n",
       "        0.878807, 0.878664, 0.878912, 0.879029, 0.878993, 0.879246,\n",
       "        0.879207,      nan,      nan,      nan,      nan],\n",
       "       [     nan,      nan,      nan, 0.878538, 0.878755, 0.878659,\n",
       "        0.878905, 0.878717, 0.878991, 0.87902 , 0.879   , 0.879185,\n",
       "        0.879124, 0.879322,      nan,      nan,      nan],\n",
       "       [     nan,      nan, 0.87871 , 0.878621, 0.878903, 0.878728,\n",
       "        0.878972, 0.878801, 0.879015, 0.878998, 0.87886 , 0.879132,\n",
       "        0.879011, 0.879254, 0.879017,      nan,      nan],\n",
       "       [     nan, 0.878489, 0.87883 , 0.878726, 0.878921, 0.878878,\n",
       "        0.879033, 0.878859, 0.879018, 0.879009, 0.878889, 0.87905 ,\n",
       "        0.878936, 0.879079, 0.878923, 0.87896 ,      nan],\n",
       "       [0.878615, 0.878628, 0.878889, 0.87877 , 0.878985, 0.878891,\n",
       "        0.879119, 0.878913, 0.879024, 0.878982, 0.878843, 0.879   ,\n",
       "        0.878854, 0.87904 , 0.878799, 0.878821, 0.878525],\n",
       "       [0.878646, 0.878591, 0.87896 , 0.878802, 0.879029, 0.878943,\n",
       "        0.879102, 0.878926, 0.87908 , 0.879008, 0.878802, 0.878978,\n",
       "...\n",
       "        0.878876, 0.879048, 0.87904 , 0.87878 , 0.878918, 0.878714,\n",
       "        0.8789  , 0.87873 , 0.878834, 0.878502, 0.878363],\n",
       "       [0.878449, 0.878801, 0.878728, 0.878976, 0.87882 , 0.879085,\n",
       "        0.878892, 0.879065, 0.878809, 0.878803, 0.878893, 0.878749,\n",
       "        0.878945, 0.8788  , 0.878881, 0.878576, 0.878418],\n",
       "       [     nan, 0.878686, 0.878611, 0.878919, 0.87876 , 0.878985,\n",
       "        0.878808, 0.879031, 0.878771, 0.878841, 0.878975, 0.878831,\n",
       "        0.879025, 0.878845, 0.878895, 0.878539,      nan],\n",
       "       [     nan,      nan, 0.87857 , 0.878805, 0.878665, 0.878847,\n",
       "        0.878736, 0.87891 , 0.878828, 0.878798, 0.879038, 0.87887 ,\n",
       "        0.879117, 0.878859, 0.878905,      nan,      nan],\n",
       "       [     nan,      nan,      nan, 0.878679, 0.87857 , 0.878795,\n",
       "        0.878644, 0.878892, 0.878723, 0.878836, 0.879068, 0.878927,\n",
       "        0.879126, 0.878867,      nan,      nan,      nan],\n",
       "       [     nan,      nan,      nan,      nan, 0.878407, 0.878689,\n",
       "        0.87856 , 0.878793, 0.878698, 0.878775, 0.879005, 0.878893,\n",
       "        0.879124,      nan,      nan,      nan,      nan],\n",
       "       [     nan,      nan,      nan,      nan,      nan, 0.878305,\n",
       "        0.878415, 0.878487, 0.878623, 0.878786, 0.878956, 0.87898 ,\n",
       "             nan,      nan,      nan,      nan,      nan]])</pre></div></li><li class='xr-var-item'><div class='xr-var-name'><span>Nd2Fe14B Lattice Parameter C</span></div><div class='xr-var-dims'>(y, x)</div><div class='xr-var-dtype'>float64</div><div class='xr-var-preview xr-preview'>nan nan nan nan ... nan nan nan nan</div><input id='attrs-f9120f87-2f04-4482-af3f-1ec6a3eb31d5' class='xr-var-attrs-in' type='checkbox' disabled><label for='attrs-f9120f87-2f04-4482-af3f-1ec6a3eb31d5' title='Show/Hide attributes'><svg class='icon xr-icon-file-text2'><use xlink:href='#icon-file-text2'></use></svg></label><input id='data-fc2f7d81-9472-4caf-a275-574935751658' class='xr-var-data-in' type='checkbox'><label for='data-fc2f7d81-9472-4caf-a275-574935751658' title='Show/Hide data repr'><svg class='icon xr-icon-database'><use xlink:href='#icon-database'></use></svg></label><div class='xr-var-attrs'><dl class='xr-attrs'></dl></div><div class='xr-var-data'><pre>array([[     nan,      nan,      nan,      nan,      nan, 1.217907,\n",
       "        1.218017, 1.218026, 1.218197, 1.218552, 1.218516, 1.219026,\n",
       "             nan,      nan,      nan,      nan,      nan],\n",
       "       [     nan,      nan,      nan,      nan, 1.218182, 1.218029,\n",
       "        1.218309, 1.21806 , 1.218384, 1.21851 , 1.218478, 1.218853,\n",
       "        1.218806,      nan,      nan,      nan,      nan],\n",
       "       [     nan,      nan,      nan, 1.21812 , 1.218323, 1.218098,\n",
       "        1.21837 , 1.218057, 1.2184  , 1.218386, 1.218328, 1.21868 ,\n",
       "        1.218619, 1.218922,      nan,      nan,      nan],\n",
       "       [     nan,      nan, 1.218386, 1.218145, 1.218436, 1.218142,\n",
       "        1.218393, 1.218148, 1.218361, 1.218317, 1.218139, 1.218473,\n",
       "        1.218357, 1.218748, 1.21849 ,      nan,      nan],\n",
       "       [     nan, 1.218178, 1.218522, 1.218278, 1.218431, 1.2183  ,\n",
       "        1.218432, 1.21815 , 1.218313, 1.218322, 1.218132, 1.218345,\n",
       "        1.218275, 1.218515, 1.218333, 1.218426,      nan],\n",
       "       [1.218416, 1.21834 , 1.218568, 1.218278, 1.218491, 1.218293,\n",
       "        1.218511, 1.21816 , 1.218303, 1.218251, 1.218013, 1.218241,\n",
       "        1.218073, 1.218385, 1.218159, 1.218246, 1.217861],\n",
       "       [1.21843 , 1.218273, 1.218639, 1.218297, 1.218525, 1.218337,\n",
       "        1.218425, 1.218124, 1.218327, 1.218199, 1.217915, 1.218216,\n",
       "...\n",
       "        1.218132, 1.218336, 1.218323, 1.21794 , 1.218157, 1.217871,\n",
       "        1.218158, 1.217971, 1.21812 , 1.217763, 1.217615],\n",
       "       [1.218221, 1.218549, 1.218316, 1.218567, 1.218213, 1.218469,\n",
       "        1.218189, 1.218385, 1.218013, 1.218023, 1.218161, 1.217944,\n",
       "        1.218234, 1.218093, 1.218253, 1.217867, 1.21768 ],\n",
       "       [     nan, 1.218458, 1.218204, 1.218494, 1.218206, 1.218361,\n",
       "        1.218073, 1.218309, 1.217978, 1.21803 , 1.218242, 1.218067,\n",
       "        1.218374, 1.218212, 1.218303, 1.21787 ,      nan],\n",
       "       [     nan,      nan, 1.21818 , 1.218406, 1.218097, 1.218234,\n",
       "        1.218022, 1.218235, 1.218058, 1.218043, 1.218394, 1.218208,\n",
       "        1.218581, 1.218302, 1.21839 ,      nan,      nan],\n",
       "       [     nan,      nan,      nan, 1.218316, 1.218054, 1.218276,\n",
       "        1.21799 , 1.218239, 1.218024, 1.218166, 1.218506, 1.21836 ,\n",
       "        1.218668, 1.21837 ,      nan,      nan,      nan],\n",
       "       [     nan,      nan,      nan,      nan, 1.217916, 1.218217,\n",
       "        1.217947, 1.218234, 1.218099, 1.218171, 1.218512, 1.218361,\n",
       "        1.21869 ,      nan,      nan,      nan,      nan],\n",
       "       [     nan,      nan,      nan,      nan,      nan, 1.21772 ,\n",
       "        1.21782 , 1.21787 , 1.21801 , 1.21821 , 1.21845 , 1.21841 ,\n",
       "             nan,      nan,      nan,      nan,      nan]])</pre></div></li><li class='xr-var-item'><div class='xr-var-name'><span>Nd2O3 Phase Fraction</span></div><div class='xr-var-dims'>(y, x)</div><div class='xr-var-dtype'>float64</div><div class='xr-var-preview xr-preview'>nan nan nan nan ... nan nan nan nan</div><input id='attrs-6482014e-973f-4988-844e-cbdbd9060250' class='xr-var-attrs-in' type='checkbox' disabled><label for='attrs-6482014e-973f-4988-844e-cbdbd9060250' title='Show/Hide attributes'><svg class='icon xr-icon-file-text2'><use xlink:href='#icon-file-text2'></use></svg></label><input id='data-29eacbb4-cf34-439e-ba02-82bb0593d0d9' class='xr-var-data-in' type='checkbox'><label for='data-29eacbb4-cf34-439e-ba02-82bb0593d0d9' title='Show/Hide data repr'><svg class='icon xr-icon-database'><use xlink:href='#icon-database'></use></svg></label><div class='xr-var-attrs'><dl class='xr-attrs'></dl></div><div class='xr-var-data'><pre>array([[   nan,    nan,    nan,    nan,    nan, 0.0334, 0.0317, 0.0313,\n",
       "        0.029 , 0.0278, 0.0312, 0.0331,    nan,    nan,    nan,    nan,\n",
       "           nan],\n",
       "       [   nan,    nan,    nan,    nan, 0.0322, 0.0348, 0.0334, 0.0301,\n",
       "        0.0316, 0.0292, 0.0267, 0.0272, 0.0278,    nan,    nan,    nan,\n",
       "           nan],\n",
       "       [   nan,    nan,    nan, 0.0362, 0.032 , 0.0325, 0.0342, 0.034 ,\n",
       "        0.032 , 0.0361, 0.0264, 0.0302, 0.0289, 0.0265,    nan,    nan,\n",
       "           nan],\n",
       "       [   nan,    nan, 0.0323, 0.0385, 0.0371, 0.0353, 0.0369, 0.037 ,\n",
       "        0.038 , 0.0352, 0.0324, 0.0353, 0.0272, 0.028 , 0.0277,    nan,\n",
       "           nan],\n",
       "       [   nan, 0.031 , 0.0363, 0.0362, 0.0367, 0.0363, 0.0375, 0.0391,\n",
       "        0.0374, 0.0374, 0.0371, 0.0333, 0.0288, 0.0271, 0.0281, 0.0293,\n",
       "           nan],\n",
       "       [0.0324, 0.0362, 0.0368, 0.0384, 0.0394, 0.0399, 0.0381, 0.0397,\n",
       "        0.0406, 0.0391, 0.0369, 0.0371, 0.0341, 0.0319, 0.0278, 0.0281,\n",
       "        0.0314],\n",
       "       [0.0314, 0.0349, 0.038 , 0.0365, 0.0379, 0.0388, 0.0377, 0.0384,\n",
       "        0.0419, 0.0389, 0.0386, 0.0372, 0.0319, 0.0291, 0.0272, 0.029 ,\n",
       "...\n",
       "        0.0382, 0.0384, 0.0382, 0.0366, 0.0305, 0.0333, 0.0299, 0.0302,\n",
       "        0.0327],\n",
       "       [0.0278, 0.035 , 0.0379, 0.0381, 0.0377, 0.0402, 0.038 , 0.0388,\n",
       "        0.0382, 0.037 , 0.0344, 0.0375, 0.0317, 0.0303, 0.0301, 0.0321,\n",
       "        0.0339],\n",
       "       [   nan, 0.0297, 0.028 , 0.0362, 0.0379, 0.0394, 0.0393, 0.0374,\n",
       "        0.038 , 0.0366, 0.033 , 0.0325, 0.0317, 0.0284, 0.0319, 0.0341,\n",
       "           nan],\n",
       "       [   nan,    nan, 0.0284, 0.029 , 0.0372, 0.0349, 0.0344, 0.0344,\n",
       "        0.036 , 0.0337, 0.0321, 0.0318, 0.0302, 0.0316, 0.0335,    nan,\n",
       "           nan],\n",
       "       [   nan,    nan,    nan, 0.0266, 0.0309, 0.0338, 0.0317, 0.0299,\n",
       "        0.029 , 0.0325, 0.0327, 0.0303, 0.0336, 0.033 ,    nan,    nan,\n",
       "           nan],\n",
       "       [   nan,    nan,    nan,    nan, 0.0298, 0.0299, 0.0305, 0.0311,\n",
       "        0.0314, 0.0329, 0.0324, 0.0342, 0.0346,    nan,    nan,    nan,\n",
       "           nan],\n",
       "       [   nan,    nan,    nan,    nan,    nan, 0.0347, 0.034 , 0.0348,\n",
       "        0.0354, 0.0367, 0.0379, 0.039 ,    nan,    nan,    nan,    nan,\n",
       "           nan]])</pre></div></li><li class='xr-var-item'><div class='xr-var-name'><span>Nd2O3 Lattice Parameter A</span></div><div class='xr-var-dims'>(y, x)</div><div class='xr-var-dtype'>float64</div><div class='xr-var-preview xr-preview'>nan nan nan nan ... nan nan nan nan</div><input id='attrs-182aac65-3bd0-43b2-bb41-f7e79ba48876' class='xr-var-attrs-in' type='checkbox' ><label for='attrs-182aac65-3bd0-43b2-bb41-f7e79ba48876' title='Show/Hide attributes'><svg class='icon xr-icon-file-text2'><use xlink:href='#icon-file-text2'></use></svg></label><input id='data-510ac671-0a51-4317-99a6-6f849f78c2e0' class='xr-var-data-in' type='checkbox'><label for='data-510ac671-0a51-4317-99a6-6f849f78c2e0' title='Show/Hide data repr'><svg class='icon xr-icon-database'><use xlink:href='#icon-database'></use></svg></label><div class='xr-var-attrs'><dl class='xr-attrs'><dt><span>units :</span></dt><dd>nm</dd></dl></div><div class='xr-var-data'><pre>array([[     nan,      nan,      nan,      nan,      nan, 0.38541 ,\n",
       "        0.38539 , 0.38549 , 0.385361, 0.385587, 0.3857  , 0.385959,\n",
       "             nan,      nan,      nan,      nan,      nan],\n",
       "       [     nan,      nan,      nan,      nan, 0.3852  , 0.38552 ,\n",
       "        0.38556 , 0.38546 , 0.38559 , 0.38568 , 0.385622, 0.385852,\n",
       "        0.385784,      nan,      nan,      nan,      nan],\n",
       "       [     nan,      nan,      nan, 0.38556 , 0.38525 , 0.38538 ,\n",
       "        0.38565 , 0.38554 , 0.38573 , 0.38619 , 0.38551 , 0.38586 ,\n",
       "        0.38587 , 0.386051,      nan,      nan,      nan],\n",
       "       [     nan,      nan, 0.38516 , 0.3854  , 0.38576 , 0.38565 ,\n",
       "        0.38575 , 0.38577 , 0.38602 , 0.38607 , 0.38578 , 0.38628 ,\n",
       "        0.385755, 0.385905, 0.385998,      nan,      nan],\n",
       "       [     nan, 0.38491 , 0.38559 , 0.38551 , 0.3857  , 0.38553 ,\n",
       "        0.38589 , 0.38586 , 0.386   , 0.38618 , 0.38608 , 0.38598 ,\n",
       "        0.385597, 0.385785, 0.385925, 0.386043,      nan],\n",
       "       [0.38505 , 0.38529 , 0.38553 , 0.38561 , 0.385744, 0.385804,\n",
       "        0.3859  , 0.385957, 0.386071, 0.38606 , 0.38615 , 0.38626 ,\n",
       "        0.38592 , 0.38591 , 0.385841, 0.386017, 0.385921],\n",
       "       [0.38498 , 0.38524 , 0.385542, 0.38559 , 0.385767, 0.38589 ,\n",
       "        0.38597 , 0.385957, 0.386136, 0.38617 , 0.386102, 0.38619 ,\n",
       "...\n",
       "        0.38592 , 0.3862  , 0.38623 , 0.38611 , 0.38622 , 0.38621 ,\n",
       "        0.385728, 0.38575 , 0.385972, 0.385971, 0.385978],\n",
       "       [0.3849  , 0.38565 , 0.38561 , 0.38581 , 0.38564 , 0.38595 ,\n",
       "        0.38592 , 0.3861  , 0.38607 , 0.38616 , 0.38592 , 0.38628 ,\n",
       "        0.385655, 0.385754, 0.386009, 0.385903, 0.385916],\n",
       "       [     nan, 0.38518 , 0.38516 , 0.38573 , 0.38581 , 0.385879,\n",
       "        0.38589 , 0.38606 , 0.38601 , 0.38619 , 0.38581 , 0.38573 ,\n",
       "        0.385846, 0.385975, 0.386037, 0.385987,      nan],\n",
       "       [     nan,      nan, 0.3853  , 0.38549 , 0.38577 , 0.38562 ,\n",
       "        0.38564 , 0.38575 , 0.38582 , 0.3857  , 0.385715, 0.385787,\n",
       "        0.386034, 0.385988, 0.386161,      nan,      nan],\n",
       "       [     nan,      nan,      nan, 0.385179, 0.38542 , 0.38549 ,\n",
       "        0.3856  , 0.38544 , 0.385431, 0.3856  , 0.385869, 0.38579 ,\n",
       "        0.386034, 0.3861  ,      nan,      nan,      nan],\n",
       "       [     nan,      nan,      nan,      nan, 0.385146, 0.385262,\n",
       "        0.385339, 0.385558, 0.385594, 0.385771, 0.385881, 0.385926,\n",
       "        0.386209,      nan,      nan,      nan,      nan],\n",
       "       [     nan,      nan,      nan,      nan,      nan, 0.38529 ,\n",
       "        0.385505, 0.385554, 0.385684, 0.385956, 0.385936, 0.385937,\n",
       "             nan,      nan,      nan,      nan,      nan]])</pre></div></li><li class='xr-var-item'><div class='xr-var-name'><span>Nd2O3 Lattice Parameter C</span></div><div class='xr-var-dims'>(y, x)</div><div class='xr-var-dtype'>float64</div><div class='xr-var-preview xr-preview'>nan nan nan nan ... nan nan nan nan</div><input id='attrs-f13094d1-28f9-4f20-8d8e-06dd633bf24c' class='xr-var-attrs-in' type='checkbox' ><label for='attrs-f13094d1-28f9-4f20-8d8e-06dd633bf24c' title='Show/Hide attributes'><svg class='icon xr-icon-file-text2'><use xlink:href='#icon-file-text2'></use></svg></label><input id='data-6f33620f-f7cd-4242-9026-d012a3ba5a30' class='xr-var-data-in' type='checkbox'><label for='data-6f33620f-f7cd-4242-9026-d012a3ba5a30' title='Show/Hide data repr'><svg class='icon xr-icon-database'><use xlink:href='#icon-database'></use></svg></label><div class='xr-var-attrs'><dl class='xr-attrs'><dt><span>units :</span></dt><dd>nm</dd></dl></div><div class='xr-var-data'><pre>array([[     nan,      nan,      nan,      nan,      nan, 0.6034  ,\n",
       "        0.60442 , 0.60393 , 0.606283, 0.606283, 0.60558 , 0.606283,\n",
       "             nan,      nan,      nan,      nan,      nan],\n",
       "       [     nan,      nan,      nan,      nan, 0.60415 , 0.60319 ,\n",
       "        0.60353 , 0.60381 , 0.6047  , 0.60473 , 0.606283, 0.606283,\n",
       "        0.606283,      nan,      nan,      nan,      nan],\n",
       "       [     nan,      nan,      nan, 0.60176 , 0.60385 , 0.60354 ,\n",
       "        0.60323 , 0.60335 , 0.6034  , 0.60185 , 0.606283, 0.60542 ,\n",
       "        0.60611 , 0.606283,      nan,      nan,      nan],\n",
       "       [     nan,      nan, 0.60358 , 0.60187 , 0.60186 , 0.6022  ,\n",
       "        0.60251 , 0.60209 , 0.60213 , 0.60224 , 0.60368 , 0.60236 ,\n",
       "        0.606283, 0.606283, 0.606283,      nan,      nan],\n",
       "       [     nan, 0.60375 , 0.60213 , 0.6023  , 0.60242 , 0.60299 ,\n",
       "        0.6021  , 0.60207 , 0.60211 , 0.60197 , 0.60219 , 0.60363 ,\n",
       "        0.606283, 0.606283, 0.606283, 0.606283,      nan],\n",
       "       [0.60371 , 0.60217 , 0.60209 , 0.60183 , 0.60196 , 0.60179 ,\n",
       "        0.60214 , 0.60185 , 0.60194 , 0.60191 , 0.60211 , 0.60207 ,\n",
       "        0.60412 , 0.60533 , 0.606283, 0.606283, 0.606283],\n",
       "       [0.60363 , 0.60214 , 0.60187 , 0.60172 , 0.60187 , 0.60192 ,\n",
       "        0.60196 , 0.60185 , 0.60202 , 0.60209 , 0.60182 , 0.6026  ,\n",
       "...\n",
       "        0.60177 , 0.60184 , 0.60206 , 0.60196 , 0.60187 , 0.60217 ,\n",
       "        0.606283, 0.60594 , 0.606283, 0.606283, 0.606283],\n",
       "       [0.60425 , 0.60193 , 0.60187 , 0.60193 , 0.6019  , 0.60196 ,\n",
       "        0.60187 , 0.602   , 0.60175 , 0.60199 , 0.60372 , 0.60205 ,\n",
       "        0.606283, 0.606283, 0.606283, 0.606283, 0.606283],\n",
       "       [     nan, 0.60396 , 0.60388 , 0.60225 , 0.60195 , 0.60202 ,\n",
       "        0.60208 , 0.60233 , 0.60179 , 0.60184 , 0.60459 , 0.60546 ,\n",
       "        0.606283, 0.606283, 0.606283, 0.606283,      nan],\n",
       "       [     nan,      nan, 0.60405 , 0.60371 , 0.60204 , 0.60333 ,\n",
       "        0.60339 , 0.60368 , 0.60332 , 0.6044  , 0.606283, 0.606283,\n",
       "        0.606283, 0.606283, 0.606283,      nan,      nan],\n",
       "       [     nan,      nan,      nan, 0.606283, 0.60397 , 0.60407 ,\n",
       "        0.60414 , 0.60601 , 0.606283, 0.6062  , 0.606283, 0.606283,\n",
       "        0.606283, 0.606283,      nan,      nan,      nan],\n",
       "       [     nan,      nan,      nan,      nan, 0.606283, 0.606283,\n",
       "        0.606283, 0.606283, 0.606283, 0.606283, 0.606283, 0.606283,\n",
       "        0.606283,      nan,      nan,      nan,      nan],\n",
       "       [     nan,      nan,      nan,      nan,      nan, 0.606283,\n",
       "        0.606283, 0.606283, 0.606283, 0.606283, 0.606283, 0.606283,\n",
       "             nan,      nan,      nan,      nan,      nan]])</pre></div></li></ul></div></li><li class='xr-section-item'><input id='section-2fe0fd2c-3f00-4650-b0f4-6ee6adfb5f3a' class='xr-section-summary-in' type='checkbox'  ><label for='section-2fe0fd2c-3f00-4650-b0f4-6ee6adfb5f3a' class='xr-section-summary' >Indexes: <span>(2)</span></label><div class='xr-section-inline-details'></div><div class='xr-section-details'><ul class='xr-var-list'><li class='xr-var-item'><div class='xr-index-name'><div>y</div></div><div class='xr-index-preview'>PandasIndex</div><input type='checkbox' disabled/><label></label><input id='index-fcd63a80-d5e9-4d79-98ad-b548c4e01e43' class='xr-index-data-in' type='checkbox'/><label for='index-fcd63a80-d5e9-4d79-98ad-b548c4e01e43' title='Show/Hide index repr'><svg class='icon xr-icon-database'><use xlink:href='#icon-database'></use></svg></label><div class='xr-index-data'><pre>PandasIndex(Index([-40.0, -35.0, -30.0, -25.0, -20.0, -15.0, -10.0,  -5.0,   0.0,   5.0,\n",
       "        10.0,  15.0,  20.0,  25.0,  30.0,  35.0,  40.0],\n",
       "      dtype=&#x27;float64&#x27;, name=&#x27;y&#x27;))</pre></div></li><li class='xr-var-item'><div class='xr-index-name'><div>x</div></div><div class='xr-index-preview'>PandasIndex</div><input type='checkbox' disabled/><label></label><input id='index-ab8372f1-e8db-49e6-9c7b-567982504dc5' class='xr-index-data-in' type='checkbox'/><label for='index-ab8372f1-e8db-49e6-9c7b-567982504dc5' title='Show/Hide index repr'><svg class='icon xr-icon-database'><use xlink:href='#icon-database'></use></svg></label><div class='xr-index-data'><pre>PandasIndex(Index([-40.0, -35.0, -30.0, -25.0, -20.0, -15.0, -10.0,  -5.0,   0.0,   5.0,\n",
       "        10.0,  15.0,  20.0,  25.0,  30.0,  35.0,  40.0],\n",
       "      dtype=&#x27;float64&#x27;, name=&#x27;x&#x27;))</pre></div></li></ul></div></li><li class='xr-section-item'><input id='section-347db632-a3e1-4e4c-bd57-a3946ec03404' class='xr-section-summary-in' type='checkbox' disabled ><label for='section-347db632-a3e1-4e4c-bd57-a3946ec03404' class='xr-section-summary'  title='Expand/collapse section'>Attributes: <span>(0)</span></label><div class='xr-section-inline-details'></div><div class='xr-section-details'><dl class='xr-attrs'></dl></div></li></ul></div></div>"
      ],
      "text/plain": [
       "<xarray.Dataset> Size: 33kB\n",
       "Dimensions:                       (y: 17, x: 17)\n",
       "Coordinates:\n",
       "  * y                             (y) float64 136B -40.0 -35.0 ... 35.0 40.0\n",
       "  * x                             (x) float64 136B -40.0 -35.0 ... 35.0 40.0\n",
       "Data variables: (12/14)\n",
       "    Ce Composition                (y, x) float64 2kB nan nan nan ... nan nan nan\n",
       "    Fe Composition                (y, x) float64 2kB nan nan nan ... nan nan nan\n",
       "    Nd Composition                (y, x) float64 2kB nan nan nan ... nan nan nan\n",
       "    coercivity_dmdh               (y, x) float64 2kB nan nan nan ... nan nan nan\n",
       "    coercivity_m0                 (y, x) float64 2kB nan nan nan ... nan nan nan\n",
       "    intercept_field               (y, x) float64 2kB nan nan nan ... nan nan nan\n",
       "    ...                            ...\n",
       "    Nd2Fe14B Phase Fraction       (y, x) float64 2kB nan nan nan ... nan nan nan\n",
       "    Nd2Fe14B Lattice Parameter A  (y, x) float64 2kB nan nan nan ... nan nan nan\n",
       "    Nd2Fe14B Lattice Parameter C  (y, x) float64 2kB nan nan nan ... nan nan nan\n",
       "    Nd2O3 Phase Fraction          (y, x) float64 2kB nan nan nan ... nan nan nan\n",
       "    Nd2O3 Lattice Parameter A     (y, x) float64 2kB nan nan nan ... nan nan nan\n",
       "    Nd2O3 Lattice Parameter C     (y, x) float64 2kB nan nan nan ... nan nan nan"
      ]
     },
     "execution_count": 3,
     "metadata": {},
     "output_type": "execute_result"
    }
   ],
   "source": [
    "data = read_hdf5.get_full_dataset(HDF5_path)\n",
    "data # To display the xarray in the notebook"
   ]
  },
  {
   "cell_type": "markdown",
   "id": "cb2a3566",
   "metadata": {},
   "source": [
    "If you are only interested in one data variable, for example `Coercivity`, you can simply select this data with:"
   ]
  },
  {
   "cell_type": "code",
   "execution_count": 4,
   "id": "7182464f",
   "metadata": {},
   "outputs": [
    {
     "data": {
      "text/html": [
       "<div><svg style=\"position: absolute; width: 0; height: 0; overflow: hidden\">\n",
       "<defs>\n",
       "<symbol id=\"icon-database\" viewBox=\"0 0 32 32\">\n",
       "<path d=\"M16 0c-8.837 0-16 2.239-16 5v4c0 2.761 7.163 5 16 5s16-2.239 16-5v-4c0-2.761-7.163-5-16-5z\"></path>\n",
       "<path d=\"M16 17c-8.837 0-16-2.239-16-5v6c0 2.761 7.163 5 16 5s16-2.239 16-5v-6c0 2.761-7.163 5-16 5z\"></path>\n",
       "<path d=\"M16 26c-8.837 0-16-2.239-16-5v6c0 2.761 7.163 5 16 5s16-2.239 16-5v-6c0 2.761-7.163 5-16 5z\"></path>\n",
       "</symbol>\n",
       "<symbol id=\"icon-file-text2\" viewBox=\"0 0 32 32\">\n",
       "<path d=\"M28.681 7.159c-0.694-0.947-1.662-2.053-2.724-3.116s-2.169-2.030-3.116-2.724c-1.612-1.182-2.393-1.319-2.841-1.319h-15.5c-1.378 0-2.5 1.121-2.5 2.5v27c0 1.378 1.122 2.5 2.5 2.5h23c1.378 0 2.5-1.122 2.5-2.5v-19.5c0-0.448-0.137-1.23-1.319-2.841zM24.543 5.457c0.959 0.959 1.712 1.825 2.268 2.543h-4.811v-4.811c0.718 0.556 1.584 1.309 2.543 2.268zM28 29.5c0 0.271-0.229 0.5-0.5 0.5h-23c-0.271 0-0.5-0.229-0.5-0.5v-27c0-0.271 0.229-0.5 0.5-0.5 0 0 15.499-0 15.5 0v7c0 0.552 0.448 1 1 1h7v19.5z\"></path>\n",
       "<path d=\"M23 26h-14c-0.552 0-1-0.448-1-1s0.448-1 1-1h14c0.552 0 1 0.448 1 1s-0.448 1-1 1z\"></path>\n",
       "<path d=\"M23 22h-14c-0.552 0-1-0.448-1-1s0.448-1 1-1h14c0.552 0 1 0.448 1 1s-0.448 1-1 1z\"></path>\n",
       "<path d=\"M23 18h-14c-0.552 0-1-0.448-1-1s0.448-1 1-1h14c0.552 0 1 0.448 1 1s-0.448 1-1 1z\"></path>\n",
       "</symbol>\n",
       "</defs>\n",
       "</svg>\n",
       "<style>/* CSS stylesheet for displaying xarray objects in jupyterlab.\n",
       " *\n",
       " */\n",
       "\n",
       ":root {\n",
       "  --xr-font-color0: var(--jp-content-font-color0, rgba(0, 0, 0, 1));\n",
       "  --xr-font-color2: var(--jp-content-font-color2, rgba(0, 0, 0, 0.54));\n",
       "  --xr-font-color3: var(--jp-content-font-color3, rgba(0, 0, 0, 0.38));\n",
       "  --xr-border-color: var(--jp-border-color2, #e0e0e0);\n",
       "  --xr-disabled-color: var(--jp-layout-color3, #bdbdbd);\n",
       "  --xr-background-color: var(--jp-layout-color0, white);\n",
       "  --xr-background-color-row-even: var(--jp-layout-color1, white);\n",
       "  --xr-background-color-row-odd: var(--jp-layout-color2, #eeeeee);\n",
       "}\n",
       "\n",
       "html[theme=\"dark\"],\n",
       "html[data-theme=\"dark\"],\n",
       "body[data-theme=\"dark\"],\n",
       "body.vscode-dark {\n",
       "  --xr-font-color0: rgba(255, 255, 255, 1);\n",
       "  --xr-font-color2: rgba(255, 255, 255, 0.54);\n",
       "  --xr-font-color3: rgba(255, 255, 255, 0.38);\n",
       "  --xr-border-color: #1f1f1f;\n",
       "  --xr-disabled-color: #515151;\n",
       "  --xr-background-color: #111111;\n",
       "  --xr-background-color-row-even: #111111;\n",
       "  --xr-background-color-row-odd: #313131;\n",
       "}\n",
       "\n",
       ".xr-wrap {\n",
       "  display: block !important;\n",
       "  min-width: 300px;\n",
       "  max-width: 700px;\n",
       "}\n",
       "\n",
       ".xr-text-repr-fallback {\n",
       "  /* fallback to plain text repr when CSS is not injected (untrusted notebook) */\n",
       "  display: none;\n",
       "}\n",
       "\n",
       ".xr-header {\n",
       "  padding-top: 6px;\n",
       "  padding-bottom: 6px;\n",
       "  margin-bottom: 4px;\n",
       "  border-bottom: solid 1px var(--xr-border-color);\n",
       "}\n",
       "\n",
       ".xr-header > div,\n",
       ".xr-header > ul {\n",
       "  display: inline;\n",
       "  margin-top: 0;\n",
       "  margin-bottom: 0;\n",
       "}\n",
       "\n",
       ".xr-obj-type,\n",
       ".xr-array-name {\n",
       "  margin-left: 2px;\n",
       "  margin-right: 10px;\n",
       "}\n",
       "\n",
       ".xr-obj-type {\n",
       "  color: var(--xr-font-color2);\n",
       "}\n",
       "\n",
       ".xr-sections {\n",
       "  padding-left: 0 !important;\n",
       "  display: grid;\n",
       "  grid-template-columns: 150px auto auto 1fr 0 20px 0 20px;\n",
       "}\n",
       "\n",
       ".xr-section-item {\n",
       "  display: contents;\n",
       "}\n",
       "\n",
       ".xr-section-item input {\n",
       "  display: inline-block;\n",
       "  opacity: 0;\n",
       "  height: 0;\n",
       "}\n",
       "\n",
       ".xr-section-item input + label {\n",
       "  color: var(--xr-disabled-color);\n",
       "}\n",
       "\n",
       ".xr-section-item input:enabled + label {\n",
       "  cursor: pointer;\n",
       "  color: var(--xr-font-color2);\n",
       "}\n",
       "\n",
       ".xr-section-item input:focus + label {\n",
       "  border: 2px solid var(--xr-font-color0);\n",
       "}\n",
       "\n",
       ".xr-section-item input:enabled + label:hover {\n",
       "  color: var(--xr-font-color0);\n",
       "}\n",
       "\n",
       ".xr-section-summary {\n",
       "  grid-column: 1;\n",
       "  color: var(--xr-font-color2);\n",
       "  font-weight: 500;\n",
       "}\n",
       "\n",
       ".xr-section-summary > span {\n",
       "  display: inline-block;\n",
       "  padding-left: 0.5em;\n",
       "}\n",
       "\n",
       ".xr-section-summary-in:disabled + label {\n",
       "  color: var(--xr-font-color2);\n",
       "}\n",
       "\n",
       ".xr-section-summary-in + label:before {\n",
       "  display: inline-block;\n",
       "  content: \"►\";\n",
       "  font-size: 11px;\n",
       "  width: 15px;\n",
       "  text-align: center;\n",
       "}\n",
       "\n",
       ".xr-section-summary-in:disabled + label:before {\n",
       "  color: var(--xr-disabled-color);\n",
       "}\n",
       "\n",
       ".xr-section-summary-in:checked + label:before {\n",
       "  content: \"▼\";\n",
       "}\n",
       "\n",
       ".xr-section-summary-in:checked + label > span {\n",
       "  display: none;\n",
       "}\n",
       "\n",
       ".xr-section-summary,\n",
       ".xr-section-inline-details {\n",
       "  padding-top: 4px;\n",
       "  padding-bottom: 4px;\n",
       "}\n",
       "\n",
       ".xr-section-inline-details {\n",
       "  grid-column: 2 / -1;\n",
       "}\n",
       "\n",
       ".xr-section-details {\n",
       "  display: none;\n",
       "  grid-column: 1 / -1;\n",
       "  margin-bottom: 5px;\n",
       "}\n",
       "\n",
       ".xr-section-summary-in:checked ~ .xr-section-details {\n",
       "  display: contents;\n",
       "}\n",
       "\n",
       ".xr-array-wrap {\n",
       "  grid-column: 1 / -1;\n",
       "  display: grid;\n",
       "  grid-template-columns: 20px auto;\n",
       "}\n",
       "\n",
       ".xr-array-wrap > label {\n",
       "  grid-column: 1;\n",
       "  vertical-align: top;\n",
       "}\n",
       "\n",
       ".xr-preview {\n",
       "  color: var(--xr-font-color3);\n",
       "}\n",
       "\n",
       ".xr-array-preview,\n",
       ".xr-array-data {\n",
       "  padding: 0 5px !important;\n",
       "  grid-column: 2;\n",
       "}\n",
       "\n",
       ".xr-array-data,\n",
       ".xr-array-in:checked ~ .xr-array-preview {\n",
       "  display: none;\n",
       "}\n",
       "\n",
       ".xr-array-in:checked ~ .xr-array-data,\n",
       ".xr-array-preview {\n",
       "  display: inline-block;\n",
       "}\n",
       "\n",
       ".xr-dim-list {\n",
       "  display: inline-block !important;\n",
       "  list-style: none;\n",
       "  padding: 0 !important;\n",
       "  margin: 0;\n",
       "}\n",
       "\n",
       ".xr-dim-list li {\n",
       "  display: inline-block;\n",
       "  padding: 0;\n",
       "  margin: 0;\n",
       "}\n",
       "\n",
       ".xr-dim-list:before {\n",
       "  content: \"(\";\n",
       "}\n",
       "\n",
       ".xr-dim-list:after {\n",
       "  content: \")\";\n",
       "}\n",
       "\n",
       ".xr-dim-list li:not(:last-child):after {\n",
       "  content: \",\";\n",
       "  padding-right: 5px;\n",
       "}\n",
       "\n",
       ".xr-has-index {\n",
       "  font-weight: bold;\n",
       "}\n",
       "\n",
       ".xr-var-list,\n",
       ".xr-var-item {\n",
       "  display: contents;\n",
       "}\n",
       "\n",
       ".xr-var-item > div,\n",
       ".xr-var-item label,\n",
       ".xr-var-item > .xr-var-name span {\n",
       "  background-color: var(--xr-background-color-row-even);\n",
       "  margin-bottom: 0;\n",
       "}\n",
       "\n",
       ".xr-var-item > .xr-var-name:hover span {\n",
       "  padding-right: 5px;\n",
       "}\n",
       "\n",
       ".xr-var-list > li:nth-child(odd) > div,\n",
       ".xr-var-list > li:nth-child(odd) > label,\n",
       ".xr-var-list > li:nth-child(odd) > .xr-var-name span {\n",
       "  background-color: var(--xr-background-color-row-odd);\n",
       "}\n",
       "\n",
       ".xr-var-name {\n",
       "  grid-column: 1;\n",
       "}\n",
       "\n",
       ".xr-var-dims {\n",
       "  grid-column: 2;\n",
       "}\n",
       "\n",
       ".xr-var-dtype {\n",
       "  grid-column: 3;\n",
       "  text-align: right;\n",
       "  color: var(--xr-font-color2);\n",
       "}\n",
       "\n",
       ".xr-var-preview {\n",
       "  grid-column: 4;\n",
       "}\n",
       "\n",
       ".xr-index-preview {\n",
       "  grid-column: 2 / 5;\n",
       "  color: var(--xr-font-color2);\n",
       "}\n",
       "\n",
       ".xr-var-name,\n",
       ".xr-var-dims,\n",
       ".xr-var-dtype,\n",
       ".xr-preview,\n",
       ".xr-attrs dt {\n",
       "  white-space: nowrap;\n",
       "  overflow: hidden;\n",
       "  text-overflow: ellipsis;\n",
       "  padding-right: 10px;\n",
       "}\n",
       "\n",
       ".xr-var-name:hover,\n",
       ".xr-var-dims:hover,\n",
       ".xr-var-dtype:hover,\n",
       ".xr-attrs dt:hover {\n",
       "  overflow: visible;\n",
       "  width: auto;\n",
       "  z-index: 1;\n",
       "}\n",
       "\n",
       ".xr-var-attrs,\n",
       ".xr-var-data,\n",
       ".xr-index-data {\n",
       "  display: none;\n",
       "  background-color: var(--xr-background-color) !important;\n",
       "  padding-bottom: 5px !important;\n",
       "}\n",
       "\n",
       ".xr-var-attrs-in:checked ~ .xr-var-attrs,\n",
       ".xr-var-data-in:checked ~ .xr-var-data,\n",
       ".xr-index-data-in:checked ~ .xr-index-data {\n",
       "  display: block;\n",
       "}\n",
       "\n",
       ".xr-var-data > table {\n",
       "  float: right;\n",
       "}\n",
       "\n",
       ".xr-var-name span,\n",
       ".xr-var-data,\n",
       ".xr-index-name div,\n",
       ".xr-index-data,\n",
       ".xr-attrs {\n",
       "  padding-left: 25px !important;\n",
       "}\n",
       "\n",
       ".xr-attrs,\n",
       ".xr-var-attrs,\n",
       ".xr-var-data,\n",
       ".xr-index-data {\n",
       "  grid-column: 1 / -1;\n",
       "}\n",
       "\n",
       "dl.xr-attrs {\n",
       "  padding: 0;\n",
       "  margin: 0;\n",
       "  display: grid;\n",
       "  grid-template-columns: 125px auto;\n",
       "}\n",
       "\n",
       ".xr-attrs dt,\n",
       ".xr-attrs dd {\n",
       "  padding: 0;\n",
       "  margin: 0;\n",
       "  float: left;\n",
       "  padding-right: 10px;\n",
       "  width: auto;\n",
       "}\n",
       "\n",
       ".xr-attrs dt {\n",
       "  font-weight: normal;\n",
       "  grid-column: 1;\n",
       "}\n",
       "\n",
       ".xr-attrs dt:hover span {\n",
       "  display: inline-block;\n",
       "  background: var(--xr-background-color);\n",
       "  padding-right: 10px;\n",
       "}\n",
       "\n",
       ".xr-attrs dd {\n",
       "  grid-column: 2;\n",
       "  white-space: pre-wrap;\n",
       "  word-break: break-all;\n",
       "}\n",
       "\n",
       ".xr-icon-database,\n",
       ".xr-icon-file-text2,\n",
       ".xr-no-icon {\n",
       "  display: inline-block;\n",
       "  vertical-align: middle;\n",
       "  width: 1em;\n",
       "  height: 1.5em !important;\n",
       "  stroke-width: 0;\n",
       "  stroke: currentColor;\n",
       "  fill: currentColor;\n",
       "}\n",
       "</style><pre class='xr-text-repr-fallback'>&lt;xarray.DataArray &#x27;coercivity_m0&#x27; (y: 17, x: 17)&gt; Size: 2kB\n",
       "array([[       nan,        nan,        nan,        nan,        nan,\n",
       "               nan, 0.96913695, 0.95205417, 0.96472983, 0.89947314,\n",
       "        0.91803719,        nan,        nan,        nan,        nan,\n",
       "               nan,        nan],\n",
       "       [       nan,        nan,        nan,        nan, 0.98579869,\n",
       "        1.10024586, 1.10038818, 1.14193662, 1.13094993, 1.1024602 ,\n",
       "        1.07321564, 0.9678673 , 0.89146956,        nan,        nan,\n",
       "               nan,        nan],\n",
       "       [       nan,        nan,        nan, 1.03820369, 1.22565969,\n",
       "        1.22300228, 1.22582148, 1.23118696, 1.19290564, 1.1814936 ,\n",
       "        1.14524371, 1.07648863, 0.97475432, 0.87632319,        nan,\n",
       "               nan,        nan],\n",
       "       [       nan,        nan, 1.07964113, 1.21728488, 1.31748277,\n",
       "        1.29480716, 1.31611217, 1.34536573, 1.29663224, 1.22682958,\n",
       "        1.15423914, 1.13546583, 0.96658051, 0.90159016, 0.807543  ,\n",
       "               nan,        nan],\n",
       "       [       nan, 1.09867619, 1.19232261, 1.27004007, 1.31438301,\n",
       "        1.33355087, 1.31702225, 1.33653521, 1.24976845, 1.24017258,\n",
       "        1.25607054, 1.21367603, 1.03050507, 1.01331295, 0.90411888,\n",
       "        0.72213746,        nan],\n",
       "...\n",
       "       [       nan, 1.04814462, 1.16318003, 1.27171536, 1.32457592,\n",
       "        1.2939267 , 1.23831862, 1.2314011 , 1.18336951, 1.12070018,\n",
       "        1.09763259, 1.0324293 , 0.93603455, 0.79623389, 0.6137116 ,\n",
       "        0.56730624,        nan],\n",
       "       [       nan,        nan, 1.01891793, 1.12155329, 1.1835854 ,\n",
       "        1.24764574, 1.2005949 , 1.18039188, 1.21098624, 1.11864542,\n",
       "        1.06633962, 0.9009874 , 0.74379206, 0.67564948, 0.60658843,\n",
       "               nan,        nan],\n",
       "       [       nan,        nan,        nan, 0.96373141, 1.09331763,\n",
       "        1.1232167 , 1.14066747, 1.11473475, 1.07770266, 0.97368773,\n",
       "        0.85287587, 0.72344807, 0.68305871, 0.61190775,        nan,\n",
       "               nan,        nan],\n",
       "       [       nan,        nan,        nan,        nan, 0.83300906,\n",
       "        0.88080454, 0.89391547, 0.94647286, 0.87446944, 0.80616986,\n",
       "        0.67102734, 0.61474932, 0.60731742,        nan,        nan,\n",
       "               nan,        nan],\n",
       "       [       nan,        nan,        nan,        nan,        nan,\n",
       "               nan, 0.67190751, 0.68249469, 0.6320131 , 0.56544256,\n",
       "        0.54054832,        nan,        nan,        nan,        nan,\n",
       "               nan,        nan]])\n",
       "Coordinates:\n",
       "  * y        (y) float64 136B -40.0 -35.0 -30.0 -25.0 ... 25.0 30.0 35.0 40.0\n",
       "  * x        (x) float64 136B -40.0 -35.0 -30.0 -25.0 ... 25.0 30.0 35.0 40.0\n",
       "Attributes:\n",
       "    units:    T</pre><div class='xr-wrap' style='display:none'><div class='xr-header'><div class='xr-obj-type'>xarray.DataArray</div><div class='xr-array-name'>'coercivity_m0'</div><ul class='xr-dim-list'><li><span class='xr-has-index'>y</span>: 17</li><li><span class='xr-has-index'>x</span>: 17</li></ul></div><ul class='xr-sections'><li class='xr-section-item'><div class='xr-array-wrap'><input id='section-a4fd61a2-ed3e-4ebd-b327-95c8a4ca3d16' class='xr-array-in' type='checkbox' checked><label for='section-a4fd61a2-ed3e-4ebd-b327-95c8a4ca3d16' title='Show/hide data repr'><svg class='icon xr-icon-database'><use xlink:href='#icon-database'></use></svg></label><div class='xr-array-preview xr-preview'><span>nan nan nan nan nan nan 0.9691 ... 0.5405 nan nan nan nan nan nan</span></div><div class='xr-array-data'><pre>array([[       nan,        nan,        nan,        nan,        nan,\n",
       "               nan, 0.96913695, 0.95205417, 0.96472983, 0.89947314,\n",
       "        0.91803719,        nan,        nan,        nan,        nan,\n",
       "               nan,        nan],\n",
       "       [       nan,        nan,        nan,        nan, 0.98579869,\n",
       "        1.10024586, 1.10038818, 1.14193662, 1.13094993, 1.1024602 ,\n",
       "        1.07321564, 0.9678673 , 0.89146956,        nan,        nan,\n",
       "               nan,        nan],\n",
       "       [       nan,        nan,        nan, 1.03820369, 1.22565969,\n",
       "        1.22300228, 1.22582148, 1.23118696, 1.19290564, 1.1814936 ,\n",
       "        1.14524371, 1.07648863, 0.97475432, 0.87632319,        nan,\n",
       "               nan,        nan],\n",
       "       [       nan,        nan, 1.07964113, 1.21728488, 1.31748277,\n",
       "        1.29480716, 1.31611217, 1.34536573, 1.29663224, 1.22682958,\n",
       "        1.15423914, 1.13546583, 0.96658051, 0.90159016, 0.807543  ,\n",
       "               nan,        nan],\n",
       "       [       nan, 1.09867619, 1.19232261, 1.27004007, 1.31438301,\n",
       "        1.33355087, 1.31702225, 1.33653521, 1.24976845, 1.24017258,\n",
       "        1.25607054, 1.21367603, 1.03050507, 1.01331295, 0.90411888,\n",
       "        0.72213746,        nan],\n",
       "...\n",
       "       [       nan, 1.04814462, 1.16318003, 1.27171536, 1.32457592,\n",
       "        1.2939267 , 1.23831862, 1.2314011 , 1.18336951, 1.12070018,\n",
       "        1.09763259, 1.0324293 , 0.93603455, 0.79623389, 0.6137116 ,\n",
       "        0.56730624,        nan],\n",
       "       [       nan,        nan, 1.01891793, 1.12155329, 1.1835854 ,\n",
       "        1.24764574, 1.2005949 , 1.18039188, 1.21098624, 1.11864542,\n",
       "        1.06633962, 0.9009874 , 0.74379206, 0.67564948, 0.60658843,\n",
       "               nan,        nan],\n",
       "       [       nan,        nan,        nan, 0.96373141, 1.09331763,\n",
       "        1.1232167 , 1.14066747, 1.11473475, 1.07770266, 0.97368773,\n",
       "        0.85287587, 0.72344807, 0.68305871, 0.61190775,        nan,\n",
       "               nan,        nan],\n",
       "       [       nan,        nan,        nan,        nan, 0.83300906,\n",
       "        0.88080454, 0.89391547, 0.94647286, 0.87446944, 0.80616986,\n",
       "        0.67102734, 0.61474932, 0.60731742,        nan,        nan,\n",
       "               nan,        nan],\n",
       "       [       nan,        nan,        nan,        nan,        nan,\n",
       "               nan, 0.67190751, 0.68249469, 0.6320131 , 0.56544256,\n",
       "        0.54054832,        nan,        nan,        nan,        nan,\n",
       "               nan,        nan]])</pre></div></div></li><li class='xr-section-item'><input id='section-60d280e4-b266-40c2-b3cd-4c887db03226' class='xr-section-summary-in' type='checkbox'  checked><label for='section-60d280e4-b266-40c2-b3cd-4c887db03226' class='xr-section-summary' >Coordinates: <span>(2)</span></label><div class='xr-section-inline-details'></div><div class='xr-section-details'><ul class='xr-var-list'><li class='xr-var-item'><div class='xr-var-name'><span class='xr-has-index'>y</span></div><div class='xr-var-dims'>(y)</div><div class='xr-var-dtype'>float64</div><div class='xr-var-preview xr-preview'>-40.0 -35.0 -30.0 ... 35.0 40.0</div><input id='attrs-fb3b0333-63cf-488f-9744-691f4600dad9' class='xr-var-attrs-in' type='checkbox' ><label for='attrs-fb3b0333-63cf-488f-9744-691f4600dad9' title='Show/Hide attributes'><svg class='icon xr-icon-file-text2'><use xlink:href='#icon-file-text2'></use></svg></label><input id='data-4d78613c-62c8-4c51-9be9-dde2ddcb4913' class='xr-var-data-in' type='checkbox'><label for='data-4d78613c-62c8-4c51-9be9-dde2ddcb4913' title='Show/Hide data repr'><svg class='icon xr-icon-database'><use xlink:href='#icon-database'></use></svg></label><div class='xr-var-attrs'><dl class='xr-attrs'><dt><span>units :</span></dt><dd>mm</dd></dl></div><div class='xr-var-data'><pre>array([-40., -35., -30., -25., -20., -15., -10.,  -5.,   0.,   5.,  10.,  15.,\n",
       "        20.,  25.,  30.,  35.,  40.])</pre></div></li><li class='xr-var-item'><div class='xr-var-name'><span class='xr-has-index'>x</span></div><div class='xr-var-dims'>(x)</div><div class='xr-var-dtype'>float64</div><div class='xr-var-preview xr-preview'>-40.0 -35.0 -30.0 ... 35.0 40.0</div><input id='attrs-86e3c0e3-8ce6-4ab2-9236-5b44a98eba34' class='xr-var-attrs-in' type='checkbox' ><label for='attrs-86e3c0e3-8ce6-4ab2-9236-5b44a98eba34' title='Show/Hide attributes'><svg class='icon xr-icon-file-text2'><use xlink:href='#icon-file-text2'></use></svg></label><input id='data-7a2d63a2-c56f-4ac2-8ff2-038bb72d1a3d' class='xr-var-data-in' type='checkbox'><label for='data-7a2d63a2-c56f-4ac2-8ff2-038bb72d1a3d' title='Show/Hide data repr'><svg class='icon xr-icon-database'><use xlink:href='#icon-database'></use></svg></label><div class='xr-var-attrs'><dl class='xr-attrs'><dt><span>units :</span></dt><dd>mm</dd></dl></div><div class='xr-var-data'><pre>array([-40., -35., -30., -25., -20., -15., -10.,  -5.,   0.,   5.,  10.,  15.,\n",
       "        20.,  25.,  30.,  35.,  40.])</pre></div></li></ul></div></li><li class='xr-section-item'><input id='section-d19654f8-4401-4cd3-9d84-d721c5987906' class='xr-section-summary-in' type='checkbox'  ><label for='section-d19654f8-4401-4cd3-9d84-d721c5987906' class='xr-section-summary' >Indexes: <span>(2)</span></label><div class='xr-section-inline-details'></div><div class='xr-section-details'><ul class='xr-var-list'><li class='xr-var-item'><div class='xr-index-name'><div>y</div></div><div class='xr-index-preview'>PandasIndex</div><input type='checkbox' disabled/><label></label><input id='index-d27b7988-5355-453c-bfcc-261a2e1c1d70' class='xr-index-data-in' type='checkbox'/><label for='index-d27b7988-5355-453c-bfcc-261a2e1c1d70' title='Show/Hide index repr'><svg class='icon xr-icon-database'><use xlink:href='#icon-database'></use></svg></label><div class='xr-index-data'><pre>PandasIndex(Index([-40.0, -35.0, -30.0, -25.0, -20.0, -15.0, -10.0,  -5.0,   0.0,   5.0,\n",
       "        10.0,  15.0,  20.0,  25.0,  30.0,  35.0,  40.0],\n",
       "      dtype=&#x27;float64&#x27;, name=&#x27;y&#x27;))</pre></div></li><li class='xr-var-item'><div class='xr-index-name'><div>x</div></div><div class='xr-index-preview'>PandasIndex</div><input type='checkbox' disabled/><label></label><input id='index-4f6169e9-eb2c-43e1-9401-74fb87daf6ea' class='xr-index-data-in' type='checkbox'/><label for='index-4f6169e9-eb2c-43e1-9401-74fb87daf6ea' title='Show/Hide index repr'><svg class='icon xr-icon-database'><use xlink:href='#icon-database'></use></svg></label><div class='xr-index-data'><pre>PandasIndex(Index([-40.0, -35.0, -30.0, -25.0, -20.0, -15.0, -10.0,  -5.0,   0.0,   5.0,\n",
       "        10.0,  15.0,  20.0,  25.0,  30.0,  35.0,  40.0],\n",
       "      dtype=&#x27;float64&#x27;, name=&#x27;x&#x27;))</pre></div></li></ul></div></li><li class='xr-section-item'><input id='section-4c19f6a1-851f-48dd-9149-88b8920eb480' class='xr-section-summary-in' type='checkbox'  checked><label for='section-4c19f6a1-851f-48dd-9149-88b8920eb480' class='xr-section-summary' >Attributes: <span>(1)</span></label><div class='xr-section-inline-details'></div><div class='xr-section-details'><dl class='xr-attrs'><dt><span>units :</span></dt><dd>T</dd></dl></div></li></ul></div></div>"
      ],
      "text/plain": [
       "<xarray.DataArray 'coercivity_m0' (y: 17, x: 17)> Size: 2kB\n",
       "array([[       nan,        nan,        nan,        nan,        nan,\n",
       "               nan, 0.96913695, 0.95205417, 0.96472983, 0.89947314,\n",
       "        0.91803719,        nan,        nan,        nan,        nan,\n",
       "               nan,        nan],\n",
       "       [       nan,        nan,        nan,        nan, 0.98579869,\n",
       "        1.10024586, 1.10038818, 1.14193662, 1.13094993, 1.1024602 ,\n",
       "        1.07321564, 0.9678673 , 0.89146956,        nan,        nan,\n",
       "               nan,        nan],\n",
       "       [       nan,        nan,        nan, 1.03820369, 1.22565969,\n",
       "        1.22300228, 1.22582148, 1.23118696, 1.19290564, 1.1814936 ,\n",
       "        1.14524371, 1.07648863, 0.97475432, 0.87632319,        nan,\n",
       "               nan,        nan],\n",
       "       [       nan,        nan, 1.07964113, 1.21728488, 1.31748277,\n",
       "        1.29480716, 1.31611217, 1.34536573, 1.29663224, 1.22682958,\n",
       "        1.15423914, 1.13546583, 0.96658051, 0.90159016, 0.807543  ,\n",
       "               nan,        nan],\n",
       "       [       nan, 1.09867619, 1.19232261, 1.27004007, 1.31438301,\n",
       "        1.33355087, 1.31702225, 1.33653521, 1.24976845, 1.24017258,\n",
       "        1.25607054, 1.21367603, 1.03050507, 1.01331295, 0.90411888,\n",
       "        0.72213746,        nan],\n",
       "...\n",
       "       [       nan, 1.04814462, 1.16318003, 1.27171536, 1.32457592,\n",
       "        1.2939267 , 1.23831862, 1.2314011 , 1.18336951, 1.12070018,\n",
       "        1.09763259, 1.0324293 , 0.93603455, 0.79623389, 0.6137116 ,\n",
       "        0.56730624,        nan],\n",
       "       [       nan,        nan, 1.01891793, 1.12155329, 1.1835854 ,\n",
       "        1.24764574, 1.2005949 , 1.18039188, 1.21098624, 1.11864542,\n",
       "        1.06633962, 0.9009874 , 0.74379206, 0.67564948, 0.60658843,\n",
       "               nan,        nan],\n",
       "       [       nan,        nan,        nan, 0.96373141, 1.09331763,\n",
       "        1.1232167 , 1.14066747, 1.11473475, 1.07770266, 0.97368773,\n",
       "        0.85287587, 0.72344807, 0.68305871, 0.61190775,        nan,\n",
       "               nan,        nan],\n",
       "       [       nan,        nan,        nan,        nan, 0.83300906,\n",
       "        0.88080454, 0.89391547, 0.94647286, 0.87446944, 0.80616986,\n",
       "        0.67102734, 0.61474932, 0.60731742,        nan,        nan,\n",
       "               nan,        nan],\n",
       "       [       nan,        nan,        nan,        nan,        nan,\n",
       "               nan, 0.67190751, 0.68249469, 0.6320131 , 0.56544256,\n",
       "        0.54054832,        nan,        nan,        nan,        nan,\n",
       "               nan,        nan]])\n",
       "Coordinates:\n",
       "  * y        (y) float64 136B -40.0 -35.0 -30.0 -25.0 ... 25.0 30.0 35.0 40.0\n",
       "  * x        (x) float64 136B -40.0 -35.0 -30.0 -25.0 ... 25.0 30.0 35.0 40.0\n",
       "Attributes:\n",
       "    units:    T"
      ]
     },
     "execution_count": 4,
     "metadata": {},
     "output_type": "execute_result"
    }
   ],
   "source": [
    "coercivity = data[\"coercivity_m0\"] # Data variables can be selected using the \n",
    "                                # dictionary syntax in python\n",
    "coercivity"
   ]
  },
  {
   "cell_type": "markdown",
   "id": "61b42e44",
   "metadata": {},
   "source": [
    "- It can also be convenient to plot the data in a 2D heatmap using `plot()` on the xarray.\n",
    "- If you want to choose a particular colormap you can instead use `plot.pcolormesh(cmap='your_cmap')`. In this example, I choosed the `rainbow` color map."
   ]
  },
  {
   "cell_type": "code",
   "execution_count": 5,
   "id": "cebfa66b",
   "metadata": {},
   "outputs": [
    {
     "data": {
      "image/png": "[encoded data removed]",
      "text/plain": [
       "<Figure size 640x480 with 2 Axes>"
      ]
     },
     "metadata": {},
     "output_type": "display_data"
    }
   ],
   "source": [
    "coercivity_plot = coercivity.plot.pcolormesh(cmap='rainbow')"
   ]
  },
  {
   "cell_type": "markdown",
   "id": "56be6bf0",
   "metadata": {},
   "source": [
    "You can also select subsets with the `sel()` function by specifiying in argument which values of x and y you need. For more advanced xarray operations you can directly check https://docs.xarray.dev/en/stable/getting-started-guide/quick-overview.html\n",
    "\n",
    "The following examples include a line selection for Nd composition and a single position for the lattice parameter C of the main NdFeB magnetic phase."
   ]
  },
  {
   "cell_type": "code",
   "execution_count": 6,
   "id": "3cf80789",
   "metadata": {},
   "outputs": [
    {
     "data": {
      "image/png": "[encoded data removed]",
      "text/plain": [
       "<Figure size 640x480 with 1 Axes>"
      ]
     },
     "metadata": {},
     "output_type": "display_data"
    }
   ],
   "source": [
    "# Line x=0 selected for Nd composition\n",
    "composition_Nd = data[\"Nd Composition\"] # Nd composition data variable\n",
    "line_scan_Nd = composition_Nd.sel(y=0) # Selecting the line x=0\n",
    "line_scan_Nd_plot = line_scan_Nd.plot()"
   ]
  },
  {
   "cell_type": "code",
   "execution_count": 7,
   "id": "04a98e53",
   "metadata": {},
   "outputs": [
    {
     "data": {
      "text/plain": [
       "<matplotlib.collections.QuadMesh at 0x11edc3590>"
      ]
     },
     "execution_count": 7,
     "metadata": {},
     "output_type": "execute_result"
    },
    {
     "data": {
      "image/png": "[encoded data removed]",
      "text/plain": [
       "<Figure size 640x480 with 2 Axes>"
      ]
     },
     "metadata": {},
     "output_type": "display_data"
    }
   ],
   "source": [
    "# Lattice parameter C for NdFeB at position (-15,-30)\n",
    "lattice_parameter_C_NdFeB = data[\"Nd2Fe14B Lattice Parameter C\"] #Lattice parameter C for NdFeB phase\n",
    "lattice_parameter_C_NdFeB.plot.pcolormesh(cmap='rainbow')"
   ]
  },
  {
   "cell_type": "code",
   "execution_count": 8,
   "id": "ce61b947",
   "metadata": {},
   "outputs": [
    {
     "data": {
      "image/png": "[encoded data removed]",
      "text/plain": [
       "<Figure size 640x480 with 2 Axes>"
      ]
     },
     "metadata": {},
     "output_type": "display_data"
    }
   ],
   "source": [
    "phase_plot = data[\"Nd2Fe14B Phase Fraction\"].plot.pcolormesh(cmap='plasma')"
   ]
  },
  {
   "cell_type": "code",
   "execution_count": 14,
   "id": "6d2ef664",
   "metadata": {},
   "outputs": [
    {
     "data": {
      "application/vnd.plotly.v1+json": {
       "config": {
        "plotlyServerURL": "https://plot.ly"
       },
       "data": [
        {
         "a": {
          "bdata": "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",
          "dtype": "f8"
         },
         "b": {
          "bdata": "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",
          "dtype": "f8"
         },
         "c": {
          "bdata": "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",
          "dtype": "f8"
         },
         "hovertemplate": "Nd Composition=%{a}<br>Ce Composition=%{b}<br>Fe Composition=%{c}<br>Coercivity=%{marker.color}<extra></extra>",
         "legendgroup": "",
         "marker": {
          "color": {
           "bdata": "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",
           "dtype": "f8"
          },
          "coloraxis": "coloraxis",
          "symbol": "circle"
         },
         "mode": "markers",
         "name": "",
         "showlegend": false,
         "subplot": "ternary",
         "type": "scatterternary"
        }
       ],
       "layout": {
        "coloraxis": {
         "colorbar": {
          "title": {
           "text": "Coercivity"
          }
         },
         "colorscale": [
          [
           0,
           "rgb(150,0,90)"
          ],
          [
           0.125,
           "rgb(0,0,200)"
          ],
          [
           0.25,
           "rgb(0,25,255)"
          ],
          [
           0.375,
           "rgb(0,152,255)"
          ],
          [
           0.5,
           "rgb(44,255,150)"
          ],
          [
           0.625,
           "rgb(151,255,0)"
          ],
          [
           0.75,
           "rgb(255,234,0)"
          ],
          [
           0.875,
           "rgb(255,111,0)"
          ],
          [
           1,
           "rgb(255,0,0)"
          ]
         ]
        },
        "height": 800,
        "legend": {
         "tracegroupgap": 0
        },
        "margin": {
         "t": 60
        },
        "template": {
         "data": {
          "bar": [
           {
            "error_x": {
             "color": "#2a3f5f"
            },
            "error_y": {
             "color": "#2a3f5f"
            },
            "marker": {
             "line": {
              "color": "#E5ECF6",
              "width": 0.5
             },
             "pattern": {
              "fillmode": "overlay",
              "size": 10,
              "solidity": 0.2
             }
            },
            "type": "bar"
           }
          ],
          "barpolar": [
           {
            "marker": {
             "line": {
              "color": "#E5ECF6",
              "width": 0.5
             },
             "pattern": {
              "fillmode": "overlay",
              "size": 10,
              "solidity": 0.2
             }
            },
            "type": "barpolar"
           }
          ],
          "carpet": [
           {
            "aaxis": {
             "endlinecolor": "#2a3f5f",
             "gridcolor": "white",
             "linecolor": "white",
             "minorgridcolor": "white",
             "startlinecolor": "#2a3f5f"
            },
            "baxis": {
             "endlinecolor": "#2a3f5f",
             "gridcolor": "white",
             "linecolor": "white",
             "minorgridcolor": "white",
             "startlinecolor": "#2a3f5f"
            },
            "type": "carpet"
           }
          ],
          "choropleth": [
           {
            "colorbar": {
             "outlinewidth": 0,
             "ticks": ""
            },
            "type": "choropleth"
           }
          ],
          "contour": [
           {
            "colorbar": {
             "outlinewidth": 0,
             "ticks": ""
            },
            "colorscale": [
             [
              0,
              "#0d0887"
             ],
             [
              0.1111111111111111,
              "#46039f"
             ],
             [
              0.2222222222222222,
              "#7201a8"
             ],
             [
              0.3333333333333333,
              "#9c179e"
             ],
             [
              0.4444444444444444,
              "#bd3786"
             ],
             [
              0.5555555555555556,
              "#d8576b"
             ],
             [
              0.6666666666666666,
              "#ed7953"
             ],
             [
              0.7777777777777778,
              "#fb9f3a"
             ],
             [
              0.8888888888888888,
              "#fdca26"
             ],
             [
              1,
              "#f0f921"
             ]
            ],
            "type": "contour"
           }
          ],
          "contourcarpet": [
           {
            "colorbar": {
             "outlinewidth": 0,
             "ticks": ""
            },
            "type": "contourcarpet"
           }
          ],
          "heatmap": [
           {
            "colorbar": {
             "outlinewidth": 0,
             "ticks": ""
            },
            "colorscale": [
             [
              0,
              "#0d0887"
             ],
             [
              0.1111111111111111,
              "#46039f"
             ],
             [
              0.2222222222222222,
              "#7201a8"
             ],
             [
              0.3333333333333333,
              "#9c179e"
             ],
             [
              0.4444444444444444,
              "#bd3786"
             ],
             [
              0.5555555555555556,
              "#d8576b"
             ],
             [
              0.6666666666666666,
              "#ed7953"
             ],
             [
              0.7777777777777778,
              "#fb9f3a"
             ],
             [
              0.8888888888888888,
              "#fdca26"
             ],
             [
              1,
              "#f0f921"
             ]
            ],
            "type": "heatmap"
           }
          ],
          "histogram": [
           {
            "marker": {
             "pattern": {
              "fillmode": "overlay",
              "size": 10,
              "solidity": 0.2
             }
            },
            "type": "histogram"
           }
          ],
          "histogram2d": [
           {
            "colorbar": {
             "outlinewidth": 0,
             "ticks": ""
            },
            "colorscale": [
             [
              0,
              "#0d0887"
             ],
             [
              0.1111111111111111,
              "#46039f"
             ],
             [
              0.2222222222222222,
              "#7201a8"
             ],
             [
              0.3333333333333333,
              "#9c179e"
             ],
             [
              0.4444444444444444,
              "#bd3786"
             ],
             [
              0.5555555555555556,
              "#d8576b"
             ],
             [
              0.6666666666666666,
              "#ed7953"
             ],
             [
              0.7777777777777778,
              "#fb9f3a"
             ],
             [
              0.8888888888888888,
              "#fdca26"
             ],
             [
              1,
              "#f0f921"
             ]
            ],
            "type": "histogram2d"
           }
          ],
          "histogram2dcontour": [
           {
            "colorbar": {
             "outlinewidth": 0,
             "ticks": ""
            },
            "colorscale": [
             [
              0,
              "#0d0887"
             ],
             [
              0.1111111111111111,
              "#46039f"
             ],
             [
              0.2222222222222222,
              "#7201a8"
             ],
             [
              0.3333333333333333,
              "#9c179e"
             ],
             [
              0.4444444444444444,
              "#bd3786"
             ],
             [
              0.5555555555555556,
              "#d8576b"
             ],
             [
              0.6666666666666666,
              "#ed7953"
             ],
             [
              0.7777777777777778,
              "#fb9f3a"
             ],
             [
              0.8888888888888888,
              "#fdca26"
             ],
             [
              1,
              "#f0f921"
             ]
            ],
            "type": "histogram2dcontour"
           }
          ],
          "mesh3d": [
           {
            "colorbar": {
             "outlinewidth": 0,
             "ticks": ""
            },
            "type": "mesh3d"
           }
          ],
          "parcoords": [
           {
            "line": {
             "colorbar": {
              "outlinewidth": 0,
              "ticks": ""
             }
            },
            "type": "parcoords"
           }
          ],
          "pie": [
           {
            "automargin": true,
            "type": "pie"
           }
          ],
          "scatter": [
           {
            "fillpattern": {
             "fillmode": "overlay",
             "size": 10,
             "solidity": 0.2
            },
            "type": "scatter"
           }
          ],
          "scatter3d": [
           {
            "line": {
             "colorbar": {
              "outlinewidth": 0,
              "ticks": ""
             }
            },
            "marker": {
             "colorbar": {
              "outlinewidth": 0,
              "ticks": ""
             }
            },
            "type": "scatter3d"
           }
          ],
          "scattercarpet": [
           {
            "marker": {
             "colorbar": {
              "outlinewidth": 0,
              "ticks": ""
             }
            },
            "type": "scattercarpet"
           }
          ],
          "scattergeo": [
           {
            "marker": {
             "colorbar": {
              "outlinewidth": 0,
              "ticks": ""
             }
            },
            "type": "scattergeo"
           }
          ],
          "scattergl": [
           {
            "marker": {
             "colorbar": {
              "outlinewidth": 0,
              "ticks": ""
             }
            },
            "type": "scattergl"
           }
          ],
          "scattermap": [
           {
            "marker": {
             "colorbar": {
              "outlinewidth": 0,
              "ticks": ""
             }
            },
            "type": "scattermap"
           }
          ],
          "scattermapbox": [
           {
            "marker": {
             "colorbar": {
              "outlinewidth": 0,
              "ticks": ""
             }
            },
            "type": "scattermapbox"
           }
          ],
          "scatterpolar": [
           {
            "marker": {
             "colorbar": {
              "outlinewidth": 0,
              "ticks": ""
             }
            },
            "type": "scatterpolar"
           }
          ],
          "scatterpolargl": [
           {
            "marker": {
             "colorbar": {
              "outlinewidth": 0,
              "ticks": ""
             }
            },
            "type": "scatterpolargl"
           }
          ],
          "scatterternary": [
           {
            "marker": {
             "colorbar": {
              "outlinewidth": 0,
              "ticks": ""
             }
            },
            "type": "scatterternary"
           }
          ],
          "surface": [
           {
            "colorbar": {
             "outlinewidth": 0,
             "ticks": ""
            },
            "colorscale": [
             [
              0,
              "#0d0887"
             ],
             [
              0.1111111111111111,
              "#46039f"
             ],
             [
              0.2222222222222222,
              "#7201a8"
             ],
             [
              0.3333333333333333,
              "#9c179e"
             ],
             [
              0.4444444444444444,
              "#bd3786"
             ],
             [
              0.5555555555555556,
              "#d8576b"
             ],
             [
              0.6666666666666666,
              "#ed7953"
             ],
             [
              0.7777777777777778,
              "#fb9f3a"
             ],
             [
              0.8888888888888888,
              "#fdca26"
             ],
             [
              1,
              "#f0f921"
             ]
            ],
            "type": "surface"
           }
          ],
          "table": [
           {
            "cells": {
             "fill": {
              "color": "#EBF0F8"
             },
             "line": {
              "color": "white"
             }
            },
            "header": {
             "fill": {
              "color": "#C8D4E3"
             },
             "line": {
              "color": "white"
             }
            },
            "type": "table"
           }
          ]
         },
         "layout": {
          "annotationdefaults": {
           "arrowcolor": "#2a3f5f",
           "arrowhead": 0,
           "arrowwidth": 1
          },
          "autotypenumbers": "strict",
          "coloraxis": {
           "colorbar": {
            "outlinewidth": 0,
            "ticks": ""
           }
          },
          "colorscale": {
           "diverging": [
            [
             0,
             "#8e0152"
            ],
            [
             0.1,
             "#c51b7d"
            ],
            [
             0.2,
             "#de77ae"
            ],
            [
             0.3,
             "#f1b6da"
            ],
            [
             0.4,
             "#fde0ef"
            ],
            [
             0.5,
             "#f7f7f7"
            ],
            [
             0.6,
             "#e6f5d0"
            ],
            [
             0.7,
             "#b8e186"
            ],
            [
             0.8,
             "#7fbc41"
            ],
            [
             0.9,
             "#4d9221"
            ],
            [
             1,
             "#276419"
            ]
           ],
           "sequential": [
            [
             0,
             "#0d0887"
            ],
            [
             0.1111111111111111,
             "#46039f"
            ],
            [
             0.2222222222222222,
             "#7201a8"
            ],
            [
             0.3333333333333333,
             "#9c179e"
            ],
            [
             0.4444444444444444,
             "#bd3786"
            ],
            [
             0.5555555555555556,
             "#d8576b"
            ],
            [
             0.6666666666666666,
             "#ed7953"
            ],
            [
             0.7777777777777778,
             "#fb9f3a"
            ],
            [
             0.8888888888888888,
             "#fdca26"
            ],
            [
             1,
             "#f0f921"
            ]
           ],
           "sequentialminus": [
            [
             0,
             "#0d0887"
            ],
            [
             0.1111111111111111,
             "#46039f"
            ],
            [
             0.2222222222222222,
             "#7201a8"
            ],
            [
             0.3333333333333333,
             "#9c179e"
            ],
            [
             0.4444444444444444,
             "#bd3786"
            ],
            [
             0.5555555555555556,
             "#d8576b"
            ],
            [
             0.6666666666666666,
             "#ed7953"
            ],
            [
             0.7777777777777778,
             "#fb9f3a"
            ],
            [
             0.8888888888888888,
             "#fdca26"
            ],
            [
             1,
             "#f0f921"
            ]
           ]
          },
          "colorway": [
           "#636efa",
           "#EF553B",
           "#00cc96",
           "#ab63fa",
           "#FFA15A",
           "#19d3f3",
           "#FF6692",
           "#B6E880",
           "#FF97FF",
           "#FECB52"
          ],
          "font": {
           "color": "#2a3f5f"
          },
          "geo": {
           "bgcolor": "white",
           "lakecolor": "white",
           "landcolor": "#E5ECF6",
           "showlakes": true,
           "showland": true,
           "subunitcolor": "white"
          },
          "hoverlabel": {
           "align": "left"
          },
          "hovermode": "closest",
          "mapbox": {
           "style": "light"
          },
          "paper_bgcolor": "white",
          "plot_bgcolor": "#E5ECF6",
          "polar": {
           "angularaxis": {
            "gridcolor": "white",
            "linecolor": "white",
            "ticks": ""
           },
           "bgcolor": "#E5ECF6",
           "radialaxis": {
            "gridcolor": "white",
            "linecolor": "white",
            "ticks": ""
           }
          },
          "scene": {
           "xaxis": {
            "backgroundcolor": "#E5ECF6",
            "gridcolor": "white",
            "gridwidth": 2,
            "linecolor": "white",
            "showbackground": true,
            "ticks": "",
            "zerolinecolor": "white"
           },
           "yaxis": {
            "backgroundcolor": "#E5ECF6",
            "gridcolor": "white",
            "gridwidth": 2,
            "linecolor": "white",
            "showbackground": true,
            "ticks": "",
            "zerolinecolor": "white"
           },
           "zaxis": {
            "backgroundcolor": "#E5ECF6",
            "gridcolor": "white",
            "gridwidth": 2,
            "linecolor": "white",
            "showbackground": true,
            "ticks": "",
            "zerolinecolor": "white"
           }
          },
          "shapedefaults": {
           "line": {
            "color": "#2a3f5f"
           }
          },
          "ternary": {
           "aaxis": {
            "gridcolor": "white",
            "linecolor": "white",
            "ticks": ""
           },
           "baxis": {
            "gridcolor": "white",
            "linecolor": "white",
            "ticks": ""
           },
           "bgcolor": "#E5ECF6",
           "caxis": {
            "gridcolor": "white",
            "linecolor": "white",
            "ticks": ""
           }
          },
          "title": {
           "x": 0.05
          },
          "xaxis": {
           "automargin": true,
           "gridcolor": "white",
           "linecolor": "white",
           "ticks": "",
           "title": {
            "standoff": 15
           },
           "zerolinecolor": "white",
           "zerolinewidth": 2
          },
          "yaxis": {
           "automargin": true,
           "gridcolor": "white",
           "linecolor": "white",
           "ticks": "",
           "title": {
            "standoff": 15
           },
           "zerolinecolor": "white",
           "zerolinewidth": 2
          }
         }
        },
        "ternary": {
         "aaxis": {
          "title": {
           "text": "Nd Composition"
          }
         },
         "baxis": {
          "title": {
           "text": "Ce Composition"
          }
         },
         "caxis": {
          "title": {
           "text": "Fe Composition"
          }
         },
         "domain": {
          "x": [
           0,
           1
          ],
          "y": [
           0,
           1
          ]
         }
        },
        "width": 800
       }
      }
     },
     "metadata": {},
     "output_type": "display_data"
    }
   ],
   "source": [
    "# Ternary plot\n",
    "import plotly.express as px\n",
    "import pandas as pd\n",
    "\n",
    "Nd = (data[\"Nd Composition\"].values*100).reshape(-1)\n",
    "Ce = (data[\"Ce Composition\"].values*100).reshape(-1)\n",
    "Fe = (data[\"Fe Composition\"].values*100).reshape(-1)\n",
    "coercivity = data[\"coercivity_m0\"].values.reshape(-1)\n",
    "df = pd.DataFrame({\"Nd Composition\": Nd, \"Ce Composition\": Ce, \"Fe Composition\": Fe, \"Coercivity\": coercivity})\n",
    "\n",
    "fig = px.scatter_ternary(df, a='Nd Composition', b='Ce Composition', c='Fe Composition', color='Coercivity', color_continuous_scale='rainbow', width=800, height=800)\n",
    "\n",
    "fig.show()"
   ]
  },
  {
   "cell_type": "markdown",
   "id": "0d7b549b",
   "metadata": {},
   "source": [
    "##### **3.2 Getting xarray datasets containing measurement data**"
   ]
  },
  {
   "cell_type": "markdown",
   "id": "7819ac79",
   "metadata": {},
   "source": [
    "If you need to work with the measurement readout instead, the function `get_measurement_data()` will return an xarray DataTree object containing all the scans of every experiment."
   ]
  },
  {
   "cell_type": "code",
   "execution_count": 10,
   "id": "980bc0ff",
   "metadata": {},
   "outputs": [],
   "source": [
    "all_scans = read_hdf5.get_measurement_data(HDF5_path, data_type=\"all\")"
   ]
  },
  {
   "cell_type": "code",
   "execution_count": 11,
   "id": "28e2d71e",
   "metadata": {},
   "outputs": [
    {
     "data": {
      "text/html": [
       "<div><svg style=\"position: absolute; width: 0; height: 0; overflow: hidden\">\n",
       "<defs>\n",
       "<symbol id=\"icon-database\" viewBox=\"0 0 32 32\">\n",
       "<path d=\"M16 0c-8.837 0-16 2.239-16 5v4c0 2.761 7.163 5 16 5s16-2.239 16-5v-4c0-2.761-7.163-5-16-5z\"></path>\n",
       "<path d=\"M16 17c-8.837 0-16-2.239-16-5v6c0 2.761 7.163 5 16 5s16-2.239 16-5v-6c0 2.761-7.163 5-16 5z\"></path>\n",
       "<path d=\"M16 26c-8.837 0-16-2.239-16-5v6c0 2.761 7.163 5 16 5s16-2.239 16-5v-6c0 2.761-7.163 5-16 5z\"></path>\n",
       "</symbol>\n",
       "<symbol id=\"icon-file-text2\" viewBox=\"0 0 32 32\">\n",
       "<path d=\"M28.681 7.159c-0.694-0.947-1.662-2.053-2.724-3.116s-2.169-2.030-3.116-2.724c-1.612-1.182-2.393-1.319-2.841-1.319h-15.5c-1.378 0-2.5 1.121-2.5 2.5v27c0 1.378 1.122 2.5 2.5 2.5h23c1.378 0 2.5-1.122 2.5-2.5v-19.5c0-0.448-0.137-1.23-1.319-2.841zM24.543 5.457c0.959 0.959 1.712 1.825 2.268 2.543h-4.811v-4.811c0.718 0.556 1.584 1.309 2.543 2.268zM28 29.5c0 0.271-0.229 0.5-0.5 0.5h-23c-0.271 0-0.5-0.229-0.5-0.5v-27c0-0.271 0.229-0.5 0.5-0.5 0 0 15.499-0 15.5 0v7c0 0.552 0.448 1 1 1h7v19.5z\"></path>\n",
       "<path d=\"M23 26h-14c-0.552 0-1-0.448-1-1s0.448-1 1-1h14c0.552 0 1 0.448 1 1s-0.448 1-1 1z\"></path>\n",
       "<path d=\"M23 22h-14c-0.552 0-1-0.448-1-1s0.448-1 1-1h14c0.552 0 1 0.448 1 1s-0.448 1-1 1z\"></path>\n",
       "<path d=\"M23 18h-14c-0.552 0-1-0.448-1-1s0.448-1 1-1h14c0.552 0 1 0.448 1 1s-0.448 1-1 1z\"></path>\n",
       "</symbol>\n",
       "</defs>\n",
       "</svg>\n",
       "<style>/* CSS stylesheet for displaying xarray objects in jupyterlab.\n",
       " *\n",
       " */\n",
       "\n",
       ":root {\n",
       "  --xr-font-color0: var(--jp-content-font-color0, rgba(0, 0, 0, 1));\n",
       "  --xr-font-color2: var(--jp-content-font-color2, rgba(0, 0, 0, 0.54));\n",
       "  --xr-font-color3: var(--jp-content-font-color3, rgba(0, 0, 0, 0.38));\n",
       "  --xr-border-color: var(--jp-border-color2, #e0e0e0);\n",
       "  --xr-disabled-color: var(--jp-layout-color3, #bdbdbd);\n",
       "  --xr-background-color: var(--jp-layout-color0, white);\n",
       "  --xr-background-color-row-even: var(--jp-layout-color1, white);\n",
       "  --xr-background-color-row-odd: var(--jp-layout-color2, #eeeeee);\n",
       "}\n",
       "\n",
       "html[theme=\"dark\"],\n",
       "html[data-theme=\"dark\"],\n",
       "body[data-theme=\"dark\"],\n",
       "body.vscode-dark {\n",
       "  --xr-font-color0: rgba(255, 255, 255, 1);\n",
       "  --xr-font-color2: rgba(255, 255, 255, 0.54);\n",
       "  --xr-font-color3: rgba(255, 255, 255, 0.38);\n",
       "  --xr-border-color: #1f1f1f;\n",
       "  --xr-disabled-color: #515151;\n",
       "  --xr-background-color: #111111;\n",
       "  --xr-background-color-row-even: #111111;\n",
       "  --xr-background-color-row-odd: #313131;\n",
       "}\n",
       "\n",
       ".xr-wrap {\n",
       "  display: block !important;\n",
       "  min-width: 300px;\n",
       "  max-width: 700px;\n",
       "}\n",
       "\n",
       ".xr-text-repr-fallback {\n",
       "  /* fallback to plain text repr when CSS is not injected (untrusted notebook) */\n",
       "  display: none;\n",
       "}\n",
       "\n",
       ".xr-header {\n",
       "  padding-top: 6px;\n",
       "  padding-bottom: 6px;\n",
       "  margin-bottom: 4px;\n",
       "  border-bottom: solid 1px var(--xr-border-color);\n",
       "}\n",
       "\n",
       ".xr-header > div,\n",
       ".xr-header > ul {\n",
       "  display: inline;\n",
       "  margin-top: 0;\n",
       "  margin-bottom: 0;\n",
       "}\n",
       "\n",
       ".xr-obj-type,\n",
       ".xr-array-name {\n",
       "  margin-left: 2px;\n",
       "  margin-right: 10px;\n",
       "}\n",
       "\n",
       ".xr-obj-type {\n",
       "  color: var(--xr-font-color2);\n",
       "}\n",
       "\n",
       ".xr-sections {\n",
       "  padding-left: 0 !important;\n",
       "  display: grid;\n",
       "  grid-template-columns: 150px auto auto 1fr 0 20px 0 20px;\n",
       "}\n",
       "\n",
       ".xr-section-item {\n",
       "  display: contents;\n",
       "}\n",
       "\n",
       ".xr-section-item input {\n",
       "  display: inline-block;\n",
       "  opacity: 0;\n",
       "  height: 0;\n",
       "}\n",
       "\n",
       ".xr-section-item input + label {\n",
       "  color: var(--xr-disabled-color);\n",
       "}\n",
       "\n",
       ".xr-section-item input:enabled + label {\n",
       "  cursor: pointer;\n",
       "  color: var(--xr-font-color2);\n",
       "}\n",
       "\n",
       ".xr-section-item input:focus + label {\n",
       "  border: 2px solid var(--xr-font-color0);\n",
       "}\n",
       "\n",
       ".xr-section-item input:enabled + label:hover {\n",
       "  color: var(--xr-font-color0);\n",
       "}\n",
       "\n",
       ".xr-section-summary {\n",
       "  grid-column: 1;\n",
       "  color: var(--xr-font-color2);\n",
       "  font-weight: 500;\n",
       "}\n",
       "\n",
       ".xr-section-summary > span {\n",
       "  display: inline-block;\n",
       "  padding-left: 0.5em;\n",
       "}\n",
       "\n",
       ".xr-section-summary-in:disabled + label {\n",
       "  color: var(--xr-font-color2);\n",
       "}\n",
       "\n",
       ".xr-section-summary-in + label:before {\n",
       "  display: inline-block;\n",
       "  content: \"►\";\n",
       "  font-size: 11px;\n",
       "  width: 15px;\n",
       "  text-align: center;\n",
       "}\n",
       "\n",
       ".xr-section-summary-in:disabled + label:before {\n",
       "  color: var(--xr-disabled-color);\n",
       "}\n",
       "\n",
       ".xr-section-summary-in:checked + label:before {\n",
       "  content: \"▼\";\n",
       "}\n",
       "\n",
       ".xr-section-summary-in:checked + label > span {\n",
       "  display: none;\n",
       "}\n",
       "\n",
       ".xr-section-summary,\n",
       ".xr-section-inline-details {\n",
       "  padding-top: 4px;\n",
       "  padding-bottom: 4px;\n",
       "}\n",
       "\n",
       ".xr-section-inline-details {\n",
       "  grid-column: 2 / -1;\n",
       "}\n",
       "\n",
       ".xr-section-details {\n",
       "  display: none;\n",
       "  grid-column: 1 / -1;\n",
       "  margin-bottom: 5px;\n",
       "}\n",
       "\n",
       ".xr-section-summary-in:checked ~ .xr-section-details {\n",
       "  display: contents;\n",
       "}\n",
       "\n",
       ".xr-array-wrap {\n",
       "  grid-column: 1 / -1;\n",
       "  display: grid;\n",
       "  grid-template-columns: 20px auto;\n",
       "}\n",
       "\n",
       ".xr-array-wrap > label {\n",
       "  grid-column: 1;\n",
       "  vertical-align: top;\n",
       "}\n",
       "\n",
       ".xr-preview {\n",
       "  color: var(--xr-font-color3);\n",
       "}\n",
       "\n",
       ".xr-array-preview,\n",
       ".xr-array-data {\n",
       "  padding: 0 5px !important;\n",
       "  grid-column: 2;\n",
       "}\n",
       "\n",
       ".xr-array-data,\n",
       ".xr-array-in:checked ~ .xr-array-preview {\n",
       "  display: none;\n",
       "}\n",
       "\n",
       ".xr-array-in:checked ~ .xr-array-data,\n",
       ".xr-array-preview {\n",
       "  display: inline-block;\n",
       "}\n",
       "\n",
       ".xr-dim-list {\n",
       "  display: inline-block !important;\n",
       "  list-style: none;\n",
       "  padding: 0 !important;\n",
       "  margin: 0;\n",
       "}\n",
       "\n",
       ".xr-dim-list li {\n",
       "  display: inline-block;\n",
       "  padding: 0;\n",
       "  margin: 0;\n",
       "}\n",
       "\n",
       ".xr-dim-list:before {\n",
       "  content: \"(\";\n",
       "}\n",
       "\n",
       ".xr-dim-list:after {\n",
       "  content: \")\";\n",
       "}\n",
       "\n",
       ".xr-dim-list li:not(:last-child):after {\n",
       "  content: \",\";\n",
       "  padding-right: 5px;\n",
       "}\n",
       "\n",
       ".xr-has-index {\n",
       "  font-weight: bold;\n",
       "}\n",
       "\n",
       ".xr-var-list,\n",
       ".xr-var-item {\n",
       "  display: contents;\n",
       "}\n",
       "\n",
       ".xr-var-item > div,\n",
       ".xr-var-item label,\n",
       ".xr-var-item > .xr-var-name span {\n",
       "  background-color: var(--xr-background-color-row-even);\n",
       "  margin-bottom: 0;\n",
       "}\n",
       "\n",
       ".xr-var-item > .xr-var-name:hover span {\n",
       "  padding-right: 5px;\n",
       "}\n",
       "\n",
       ".xr-var-list > li:nth-child(odd) > div,\n",
       ".xr-var-list > li:nth-child(odd) > label,\n",
       ".xr-var-list > li:nth-child(odd) > .xr-var-name span {\n",
       "  background-color: var(--xr-background-color-row-odd);\n",
       "}\n",
       "\n",
       ".xr-var-name {\n",
       "  grid-column: 1;\n",
       "}\n",
       "\n",
       ".xr-var-dims {\n",
       "  grid-column: 2;\n",
       "}\n",
       "\n",
       ".xr-var-dtype {\n",
       "  grid-column: 3;\n",
       "  text-align: right;\n",
       "  color: var(--xr-font-color2);\n",
       "}\n",
       "\n",
       ".xr-var-preview {\n",
       "  grid-column: 4;\n",
       "}\n",
       "\n",
       ".xr-index-preview {\n",
       "  grid-column: 2 / 5;\n",
       "  color: var(--xr-font-color2);\n",
       "}\n",
       "\n",
       ".xr-var-name,\n",
       ".xr-var-dims,\n",
       ".xr-var-dtype,\n",
       ".xr-preview,\n",
       ".xr-attrs dt {\n",
       "  white-space: nowrap;\n",
       "  overflow: hidden;\n",
       "  text-overflow: ellipsis;\n",
       "  padding-right: 10px;\n",
       "}\n",
       "\n",
       ".xr-var-name:hover,\n",
       ".xr-var-dims:hover,\n",
       ".xr-var-dtype:hover,\n",
       ".xr-attrs dt:hover {\n",
       "  overflow: visible;\n",
       "  width: auto;\n",
       "  z-index: 1;\n",
       "}\n",
       "\n",
       ".xr-var-attrs,\n",
       ".xr-var-data,\n",
       ".xr-index-data {\n",
       "  display: none;\n",
       "  background-color: var(--xr-background-color) !important;\n",
       "  padding-bottom: 5px !important;\n",
       "}\n",
       "\n",
       ".xr-var-attrs-in:checked ~ .xr-var-attrs,\n",
       ".xr-var-data-in:checked ~ .xr-var-data,\n",
       ".xr-index-data-in:checked ~ .xr-index-data {\n",
       "  display: block;\n",
       "}\n",
       "\n",
       ".xr-var-data > table {\n",
       "  float: right;\n",
       "}\n",
       "\n",
       ".xr-var-name span,\n",
       ".xr-var-data,\n",
       ".xr-index-name div,\n",
       ".xr-index-data,\n",
       ".xr-attrs {\n",
       "  padding-left: 25px !important;\n",
       "}\n",
       "\n",
       ".xr-attrs,\n",
       ".xr-var-attrs,\n",
       ".xr-var-data,\n",
       ".xr-index-data {\n",
       "  grid-column: 1 / -1;\n",
       "}\n",
       "\n",
       "dl.xr-attrs {\n",
       "  padding: 0;\n",
       "  margin: 0;\n",
       "  display: grid;\n",
       "  grid-template-columns: 125px auto;\n",
       "}\n",
       "\n",
       ".xr-attrs dt,\n",
       ".xr-attrs dd {\n",
       "  padding: 0;\n",
       "  margin: 0;\n",
       "  float: left;\n",
       "  padding-right: 10px;\n",
       "  width: auto;\n",
       "}\n",
       "\n",
       ".xr-attrs dt {\n",
       "  font-weight: normal;\n",
       "  grid-column: 1;\n",
       "}\n",
       "\n",
       ".xr-attrs dt:hover span {\n",
       "  display: inline-block;\n",
       "  background: var(--xr-background-color);\n",
       "  padding-right: 10px;\n",
       "}\n",
       "\n",
       ".xr-attrs dd {\n",
       "  grid-column: 2;\n",
       "  white-space: pre-wrap;\n",
       "  word-break: break-all;\n",
       "}\n",
       "\n",
       ".xr-icon-database,\n",
       ".xr-icon-file-text2,\n",
       ".xr-no-icon {\n",
       "  display: inline-block;\n",
       "  vertical-align: middle;\n",
       "  width: 1em;\n",
       "  height: 1.5em !important;\n",
       "  stroke-width: 0;\n",
       "  stroke: currentColor;\n",
       "  fill: currentColor;\n",
       "}\n",
       "</style><pre class='xr-text-repr-fallback'>&lt;xarray.DatasetView&gt; Size: 0B\n",
       "Dimensions:  ()\n",
       "Data variables:\n",
       "    *empty*</pre><div class='xr-wrap' style='display:none'><div class='xr-header'><div class='xr-obj-type'>xarray.DataTree</div></div><ul class='xr-sections'><li class='xr-section-item'><input id='section-eb71515b-fde3-42c3-ac6b-c0d5a649ca16' class='xr-section-summary-in' type='checkbox'  ><label for='section-eb71515b-fde3-42c3-ac6b-c0d5a649ca16' class='xr-section-summary' >Groups: <span>(3)</span></label><div class='xr-section-inline-details'></div><div class='xr-section-details'><div style='display: inline-grid; grid-template-columns: 100%; grid-column: 1 / -1'><div style='display: inline-grid; grid-template-columns: 0px 20px auto; width: 100%;'><div style='grid-column-start: 1;border-right: 0.2em solid;border-color: var(--xr-border-color);height: 100%;width: 0px;'></div><div style='grid-column-start: 2;grid-row-start: 1;height: 1em;width: 20px;border-bottom: 0.2em solid;border-color: var(--xr-border-color);'></div><div style='grid-column-start: 3;'><div><svg style=\"position: absolute; width: 0; height: 0; overflow: hidden\">\n",
       "<defs>\n",
       "<symbol id=\"icon-database\" viewBox=\"0 0 32 32\">\n",
       "<path d=\"M16 0c-8.837 0-16 2.239-16 5v4c0 2.761 7.163 5 16 5s16-2.239 16-5v-4c0-2.761-7.163-5-16-5z\"></path>\n",
       "<path d=\"M16 17c-8.837 0-16-2.239-16-5v6c0 2.761 7.163 5 16 5s16-2.239 16-5v-6c0 2.761-7.163 5-16 5z\"></path>\n",
       "<path d=\"M16 26c-8.837 0-16-2.239-16-5v6c0 2.761 7.163 5 16 5s16-2.239 16-5v-6c0 2.761-7.163 5-16 5z\"></path>\n",
       "</symbol>\n",
       "<symbol id=\"icon-file-text2\" viewBox=\"0 0 32 32\">\n",
       "<path d=\"M28.681 7.159c-0.694-0.947-1.662-2.053-2.724-3.116s-2.169-2.030-3.116-2.724c-1.612-1.182-2.393-1.319-2.841-1.319h-15.5c-1.378 0-2.5 1.121-2.5 2.5v27c0 1.378 1.122 2.5 2.5 2.5h23c1.378 0 2.5-1.122 2.5-2.5v-19.5c0-0.448-0.137-1.23-1.319-2.841zM24.543 5.457c0.959 0.959 1.712 1.825 2.268 2.543h-4.811v-4.811c0.718 0.556 1.584 1.309 2.543 2.268zM28 29.5c0 0.271-0.229 0.5-0.5 0.5h-23c-0.271 0-0.5-0.229-0.5-0.5v-27c0-0.271 0.229-0.5 0.5-0.5 0 0 15.499-0 15.5 0v7c0 0.552 0.448 1 1 1h7v19.5z\"></path>\n",
       "<path d=\"M23 26h-14c-0.552 0-1-0.448-1-1s0.448-1 1-1h14c0.552 0 1 0.448 1 1s-0.448 1-1 1z\"></path>\n",
       "<path d=\"M23 22h-14c-0.552 0-1-0.448-1-1s0.448-1 1-1h14c0.552 0 1 0.448 1 1s-0.448 1-1 1z\"></path>\n",
       "<path d=\"M23 18h-14c-0.552 0-1-0.448-1-1s0.448-1 1-1h14c0.552 0 1 0.448 1 1s-0.448 1-1 1z\"></path>\n",
       "</symbol>\n",
       "</defs>\n",
       "</svg>\n",
       "<style>/* CSS stylesheet for displaying xarray objects in jupyterlab.\n",
       " *\n",
       " */\n",
       "\n",
       ":root {\n",
       "  --xr-font-color0: var(--jp-content-font-color0, rgba(0, 0, 0, 1));\n",
       "  --xr-font-color2: var(--jp-content-font-color2, rgba(0, 0, 0, 0.54));\n",
       "  --xr-font-color3: var(--jp-content-font-color3, rgba(0, 0, 0, 0.38));\n",
       "  --xr-border-color: var(--jp-border-color2, #e0e0e0);\n",
       "  --xr-disabled-color: var(--jp-layout-color3, #bdbdbd);\n",
       "  --xr-background-color: var(--jp-layout-color0, white);\n",
       "  --xr-background-color-row-even: var(--jp-layout-color1, white);\n",
       "  --xr-background-color-row-odd: var(--jp-layout-color2, #eeeeee);\n",
       "}\n",
       "\n",
       "html[theme=\"dark\"],\n",
       "html[data-theme=\"dark\"],\n",
       "body[data-theme=\"dark\"],\n",
       "body.vscode-dark {\n",
       "  --xr-font-color0: rgba(255, 255, 255, 1);\n",
       "  --xr-font-color2: rgba(255, 255, 255, 0.54);\n",
       "  --xr-font-color3: rgba(255, 255, 255, 0.38);\n",
       "  --xr-border-color: #1f1f1f;\n",
       "  --xr-disabled-color: #515151;\n",
       "  --xr-background-color: #111111;\n",
       "  --xr-background-color-row-even: #111111;\n",
       "  --xr-background-color-row-odd: #313131;\n",
       "}\n",
       "\n",
       ".xr-wrap {\n",
       "  display: block !important;\n",
       "  min-width: 300px;\n",
       "  max-width: 700px;\n",
       "}\n",
       "\n",
       ".xr-text-repr-fallback {\n",
       "  /* fallback to plain text repr when CSS is not injected (untrusted notebook) */\n",
       "  display: none;\n",
       "}\n",
       "\n",
       ".xr-header {\n",
       "  padding-top: 6px;\n",
       "  padding-bottom: 6px;\n",
       "  margin-bottom: 4px;\n",
       "  border-bottom: solid 1px var(--xr-border-color);\n",
       "}\n",
       "\n",
       ".xr-header > div,\n",
       ".xr-header > ul {\n",
       "  display: inline;\n",
       "  margin-top: 0;\n",
       "  margin-bottom: 0;\n",
       "}\n",
       "\n",
       ".xr-obj-type,\n",
       ".xr-array-name {\n",
       "  margin-left: 2px;\n",
       "  margin-right: 10px;\n",
       "}\n",
       "\n",
       ".xr-obj-type {\n",
       "  color: var(--xr-font-color2);\n",
       "}\n",
       "\n",
       ".xr-sections {\n",
       "  padding-left: 0 !important;\n",
       "  display: grid;\n",
       "  grid-template-columns: 150px auto auto 1fr 0 20px 0 20px;\n",
       "}\n",
       "\n",
       ".xr-section-item {\n",
       "  display: contents;\n",
       "}\n",
       "\n",
       ".xr-section-item input {\n",
       "  display: inline-block;\n",
       "  opacity: 0;\n",
       "  height: 0;\n",
       "}\n",
       "\n",
       ".xr-section-item input + label {\n",
       "  color: var(--xr-disabled-color);\n",
       "}\n",
       "\n",
       ".xr-section-item input:enabled + label {\n",
       "  cursor: pointer;\n",
       "  color: var(--xr-font-color2);\n",
       "}\n",
       "\n",
       ".xr-section-item input:focus + label {\n",
       "  border: 2px solid var(--xr-font-color0);\n",
       "}\n",
       "\n",
       ".xr-section-item input:enabled + label:hover {\n",
       "  color: var(--xr-font-color0);\n",
       "}\n",
       "\n",
       ".xr-section-summary {\n",
       "  grid-column: 1;\n",
       "  color: var(--xr-font-color2);\n",
       "  font-weight: 500;\n",
       "}\n",
       "\n",
       ".xr-section-summary > span {\n",
       "  display: inline-block;\n",
       "  padding-left: 0.5em;\n",
       "}\n",
       "\n",
       ".xr-section-summary-in:disabled + label {\n",
       "  color: var(--xr-font-color2);\n",
       "}\n",
       "\n",
       ".xr-section-summary-in + label:before {\n",
       "  display: inline-block;\n",
       "  content: \"►\";\n",
       "  font-size: 11px;\n",
       "  width: 15px;\n",
       "  text-align: center;\n",
       "}\n",
       "\n",
       ".xr-section-summary-in:disabled + label:before {\n",
       "  color: var(--xr-disabled-color);\n",
       "}\n",
       "\n",
       ".xr-section-summary-in:checked + label:before {\n",
       "  content: \"▼\";\n",
       "}\n",
       "\n",
       ".xr-section-summary-in:checked + label > span {\n",
       "  display: none;\n",
       "}\n",
       "\n",
       ".xr-section-summary,\n",
       ".xr-section-inline-details {\n",
       "  padding-top: 4px;\n",
       "  padding-bottom: 4px;\n",
       "}\n",
       "\n",
       ".xr-section-inline-details {\n",
       "  grid-column: 2 / -1;\n",
       "}\n",
       "\n",
       ".xr-section-details {\n",
       "  display: none;\n",
       "  grid-column: 1 / -1;\n",
       "  margin-bottom: 5px;\n",
       "}\n",
       "\n",
       ".xr-section-summary-in:checked ~ .xr-section-details {\n",
       "  display: contents;\n",
       "}\n",
       "\n",
       ".xr-array-wrap {\n",
       "  grid-column: 1 / -1;\n",
       "  display: grid;\n",
       "  grid-template-columns: 20px auto;\n",
       "}\n",
       "\n",
       ".xr-array-wrap > label {\n",
       "  grid-column: 1;\n",
       "  vertical-align: top;\n",
       "}\n",
       "\n",
       ".xr-preview {\n",
       "  color: var(--xr-font-color3);\n",
       "}\n",
       "\n",
       ".xr-array-preview,\n",
       ".xr-array-data {\n",
       "  padding: 0 5px !important;\n",
       "  grid-column: 2;\n",
       "}\n",
       "\n",
       ".xr-array-data,\n",
       ".xr-array-in:checked ~ .xr-array-preview {\n",
       "  display: none;\n",
       "}\n",
       "\n",
       ".xr-array-in:checked ~ .xr-array-data,\n",
       ".xr-array-preview {\n",
       "  display: inline-block;\n",
       "}\n",
       "\n",
       ".xr-dim-list {\n",
       "  display: inline-block !important;\n",
       "  list-style: none;\n",
       "  padding: 0 !important;\n",
       "  margin: 0;\n",
       "}\n",
       "\n",
       ".xr-dim-list li {\n",
       "  display: inline-block;\n",
       "  padding: 0;\n",
       "  margin: 0;\n",
       "}\n",
       "\n",
       ".xr-dim-list:before {\n",
       "  content: \"(\";\n",
       "}\n",
       "\n",
       ".xr-dim-list:after {\n",
       "  content: \")\";\n",
       "}\n",
       "\n",
       ".xr-dim-list li:not(:last-child):after {\n",
       "  content: \",\";\n",
       "  padding-right: 5px;\n",
       "}\n",
       "\n",
       ".xr-has-index {\n",
       "  font-weight: bold;\n",
       "}\n",
       "\n",
       ".xr-var-list,\n",
       ".xr-var-item {\n",
       "  display: contents;\n",
       "}\n",
       "\n",
       ".xr-var-item > div,\n",
       ".xr-var-item label,\n",
       ".xr-var-item > .xr-var-name span {\n",
       "  background-color: var(--xr-background-color-row-even);\n",
       "  margin-bottom: 0;\n",
       "}\n",
       "\n",
       ".xr-var-item > .xr-var-name:hover span {\n",
       "  padding-right: 5px;\n",
       "}\n",
       "\n",
       ".xr-var-list > li:nth-child(odd) > div,\n",
       ".xr-var-list > li:nth-child(odd) > label,\n",
       ".xr-var-list > li:nth-child(odd) > .xr-var-name span {\n",
       "  background-color: var(--xr-background-color-row-odd);\n",
       "}\n",
       "\n",
       ".xr-var-name {\n",
       "  grid-column: 1;\n",
       "}\n",
       "\n",
       ".xr-var-dims {\n",
       "  grid-column: 2;\n",
       "}\n",
       "\n",
       ".xr-var-dtype {\n",
       "  grid-column: 3;\n",
       "  text-align: right;\n",
       "  color: var(--xr-font-color2);\n",
       "}\n",
       "\n",
       ".xr-var-preview {\n",
       "  grid-column: 4;\n",
       "}\n",
       "\n",
       ".xr-index-preview {\n",
       "  grid-column: 2 / 5;\n",
       "  color: var(--xr-font-color2);\n",
       "}\n",
       "\n",
       ".xr-var-name,\n",
       ".xr-var-dims,\n",
       ".xr-var-dtype,\n",
       ".xr-preview,\n",
       ".xr-attrs dt {\n",
       "  white-space: nowrap;\n",
       "  overflow: hidden;\n",
       "  text-overflow: ellipsis;\n",
       "  padding-right: 10px;\n",
       "}\n",
       "\n",
       ".xr-var-name:hover,\n",
       ".xr-var-dims:hover,\n",
       ".xr-var-dtype:hover,\n",
       ".xr-attrs dt:hover {\n",
       "  overflow: visible;\n",
       "  width: auto;\n",
       "  z-index: 1;\n",
       "}\n",
       "\n",
       ".xr-var-attrs,\n",
       ".xr-var-data,\n",
       ".xr-index-data {\n",
       "  display: none;\n",
       "  background-color: var(--xr-background-color) !important;\n",
       "  padding-bottom: 5px !important;\n",
       "}\n",
       "\n",
       ".xr-var-attrs-in:checked ~ .xr-var-attrs,\n",
       ".xr-var-data-in:checked ~ .xr-var-data,\n",
       ".xr-index-data-in:checked ~ .xr-index-data {\n",
       "  display: block;\n",
       "}\n",
       "\n",
       ".xr-var-data > table {\n",
       "  float: right;\n",
       "}\n",
       "\n",
       ".xr-var-name span,\n",
       ".xr-var-data,\n",
       ".xr-index-name div,\n",
       ".xr-index-data,\n",
       ".xr-attrs {\n",
       "  padding-left: 25px !important;\n",
       "}\n",
       "\n",
       ".xr-attrs,\n",
       ".xr-var-attrs,\n",
       ".xr-var-data,\n",
       ".xr-index-data {\n",
       "  grid-column: 1 / -1;\n",
       "}\n",
       "\n",
       "dl.xr-attrs {\n",
       "  padding: 0;\n",
       "  margin: 0;\n",
       "  display: grid;\n",
       "  grid-template-columns: 125px auto;\n",
       "}\n",
       "\n",
       ".xr-attrs dt,\n",
       ".xr-attrs dd {\n",
       "  padding: 0;\n",
       "  margin: 0;\n",
       "  float: left;\n",
       "  padding-right: 10px;\n",
       "  width: auto;\n",
       "}\n",
       "\n",
       ".xr-attrs dt {\n",
       "  font-weight: normal;\n",
       "  grid-column: 1;\n",
       "}\n",
       "\n",
       ".xr-attrs dt:hover span {\n",
       "  display: inline-block;\n",
       "  background: var(--xr-background-color);\n",
       "  padding-right: 10px;\n",
       "}\n",
       "\n",
       ".xr-attrs dd {\n",
       "  grid-column: 2;\n",
       "  white-space: pre-wrap;\n",
       "  word-break: break-all;\n",
       "}\n",
       "\n",
       ".xr-icon-database,\n",
       ".xr-icon-file-text2,\n",
       ".xr-no-icon {\n",
       "  display: inline-block;\n",
       "  vertical-align: middle;\n",
       "  width: 1em;\n",
       "  height: 1.5em !important;\n",
       "  stroke-width: 0;\n",
       "  stroke: currentColor;\n",
       "  fill: currentColor;\n",
       "}\n",
       "</style><pre class='xr-text-repr-fallback'>&lt;xarray.DatasetView&gt; Size: 19MB\n",
       "Dimensions:  (y: 17, x: 17, counts: 4096, energy: 4096)\n",
       "Coordinates:\n",
       "  * y        (y) float64 136B -40.0 -35.0 -30.0 -25.0 ... 25.0 30.0 35.0 40.0\n",
       "  * x        (x) float64 136B -40.0 -35.0 -30.0 -25.0 ... 25.0 30.0 35.0 40.0\n",
       "    counts   (y, x, counts) float64 9MB nan nan nan nan nan ... nan nan nan nan\n",
       "    energy   (y, x, energy) float64 9MB nan nan nan nan nan ... nan nan nan nan\n",
       "Data variables:\n",
       "    *empty*</pre><div class='xr-wrap' style='display:none'><div class='xr-header'><div class='xr-obj-type'>EDX</div></div><ul class='xr-sections'><li class='xr-section-item'><input id='section-94bb76b3-dd41-4339-b313-7921cd4ea70a' class='xr-section-summary-in' type='checkbox' disabled ><label for='section-94bb76b3-dd41-4339-b313-7921cd4ea70a' class='xr-section-summary'  title='Expand/collapse section'>Groups: <span>(0)</span></label><div class='xr-section-inline-details'></div><div class='xr-section-details'><div style='display: inline-grid; grid-template-columns: 100%; grid-column: 1 / -1'></div></div></li><li class='xr-section-item'><input id='section-00d516a0-0b09-4c11-b06f-9a5687278f60' class='xr-section-summary-in' type='checkbox' disabled ><label for='section-00d516a0-0b09-4c11-b06f-9a5687278f60' class='xr-section-summary'  title='Expand/collapse section'>Dimensions:</label><div class='xr-section-inline-details'><ul class='xr-dim-list'><li><span class='xr-has-index'>y</span>: 17</li><li><span class='xr-has-index'>x</span>: 17</li><li><span>counts</span>: 4096</li><li><span>energy</span>: 4096</li></ul></div><div class='xr-section-details'></div></li><li class='xr-section-item'><input id='section-d33612c2-940d-48cb-b70d-d3f9e56df472' class='xr-section-summary-in' type='checkbox'  checked><label for='section-d33612c2-940d-48cb-b70d-d3f9e56df472' class='xr-section-summary' >Coordinates: <span>(4)</span></label><div class='xr-section-inline-details'></div><div class='xr-section-details'><ul class='xr-var-list'><li class='xr-var-item'><div class='xr-var-name'><span class='xr-has-index'>y</span></div><div class='xr-var-dims'>(y)</div><div class='xr-var-dtype'>float64</div><div class='xr-var-preview xr-preview'>-40.0 -35.0 -30.0 ... 35.0 40.0</div><input id='attrs-f6596a29-26e2-46cf-9e44-9baccf01d4a4' class='xr-var-attrs-in' type='checkbox' ><label for='attrs-f6596a29-26e2-46cf-9e44-9baccf01d4a4' title='Show/Hide attributes'><svg class='icon xr-icon-file-text2'><use xlink:href='#icon-file-text2'></use></svg></label><input id='data-a99f1e8d-b254-4a10-bc94-d4f8761c056f' class='xr-var-data-in' type='checkbox'><label for='data-a99f1e8d-b254-4a10-bc94-d4f8761c056f' title='Show/Hide data repr'><svg class='icon xr-icon-database'><use xlink:href='#icon-database'></use></svg></label><div class='xr-var-attrs'><dl class='xr-attrs'><dt><span>units :</span></dt><dd>mm</dd></dl></div><div class='xr-var-data'><pre>array([-40., -35., -30., -25., -20., -15., -10.,  -5.,   0.,   5.,  10.,  15.,\n",
       "        20.,  25.,  30.,  35.,  40.])</pre></div></li><li class='xr-var-item'><div class='xr-var-name'><span class='xr-has-index'>x</span></div><div class='xr-var-dims'>(x)</div><div class='xr-var-dtype'>float64</div><div class='xr-var-preview xr-preview'>-40.0 -35.0 -30.0 ... 35.0 40.0</div><input id='attrs-3a8e0057-88d0-4143-8723-3ec33df0bd15' class='xr-var-attrs-in' type='checkbox' ><label for='attrs-3a8e0057-88d0-4143-8723-3ec33df0bd15' title='Show/Hide attributes'><svg class='icon xr-icon-file-text2'><use xlink:href='#icon-file-text2'></use></svg></label><input id='data-937f1df5-8af3-4e5f-9cc3-6d1cbd75bce0' class='xr-var-data-in' type='checkbox'><label for='data-937f1df5-8af3-4e5f-9cc3-6d1cbd75bce0' title='Show/Hide data repr'><svg class='icon xr-icon-database'><use xlink:href='#icon-database'></use></svg></label><div class='xr-var-attrs'><dl class='xr-attrs'><dt><span>units :</span></dt><dd>mm</dd></dl></div><div class='xr-var-data'><pre>array([-40., -35., -30., -25., -20., -15., -10.,  -5.,   0.,   5.,  10.,  15.,\n",
       "        20.,  25.,  30.,  35.,  40.])</pre></div></li><li class='xr-var-item'><div class='xr-var-name'><span>counts</span></div><div class='xr-var-dims'>(y, x, counts)</div><div class='xr-var-dtype'>float64</div><div class='xr-var-preview xr-preview'>nan nan nan nan ... nan nan nan nan</div><input id='attrs-d85c0a72-7c07-4412-ae22-37dca85be977' class='xr-var-attrs-in' type='checkbox' ><label for='attrs-d85c0a72-7c07-4412-ae22-37dca85be977' title='Show/Hide attributes'><svg class='icon xr-icon-file-text2'><use xlink:href='#icon-file-text2'></use></svg></label><input id='data-1792db65-0478-4325-a38c-6cb109373507' class='xr-var-data-in' type='checkbox'><label for='data-1792db65-0478-4325-a38c-6cb109373507' title='Show/Hide data repr'><svg class='icon xr-icon-database'><use xlink:href='#icon-database'></use></svg></label><div class='xr-var-attrs'><dl class='xr-attrs'><dt><span>units :</span></dt><dd>cps</dd></dl></div><div class='xr-var-data'><pre>array([[[nan, nan, nan, ..., nan, nan, nan],\n",
       "        [nan, nan, nan, ..., nan, nan, nan],\n",
       "        [nan, nan, nan, ..., nan, nan, nan],\n",
       "        ...,\n",
       "        [nan, nan, nan, ..., nan, nan, nan],\n",
       "        [nan, nan, nan, ..., nan, nan, nan],\n",
       "        [nan, nan, nan, ..., nan, nan, nan]],\n",
       "\n",
       "       [[nan, nan, nan, ..., nan, nan, nan],\n",
       "        [nan, nan, nan, ..., nan, nan, nan],\n",
       "        [nan, nan, nan, ..., nan, nan, nan],\n",
       "        ...,\n",
       "        [nan, nan, nan, ..., nan, nan, nan],\n",
       "        [nan, nan, nan, ..., nan, nan, nan],\n",
       "        [nan, nan, nan, ..., nan, nan, nan]],\n",
       "\n",
       "       [[nan, nan, nan, ..., nan, nan, nan],\n",
       "        [nan, nan, nan, ..., nan, nan, nan],\n",
       "        [ 0.,  0.,  0., ...,  0.,  0.,  0.],\n",
       "        ...,\n",
       "...\n",
       "        ...,\n",
       "        [ 0.,  0.,  0., ...,  0.,  0.,  0.],\n",
       "        [nan, nan, nan, ..., nan, nan, nan],\n",
       "        [nan, nan, nan, ..., nan, nan, nan]],\n",
       "\n",
       "       [[nan, nan, nan, ..., nan, nan, nan],\n",
       "        [nan, nan, nan, ..., nan, nan, nan],\n",
       "        [nan, nan, nan, ..., nan, nan, nan],\n",
       "        ...,\n",
       "        [nan, nan, nan, ..., nan, nan, nan],\n",
       "        [nan, nan, nan, ..., nan, nan, nan],\n",
       "        [nan, nan, nan, ..., nan, nan, nan]],\n",
       "\n",
       "       [[nan, nan, nan, ..., nan, nan, nan],\n",
       "        [nan, nan, nan, ..., nan, nan, nan],\n",
       "        [nan, nan, nan, ..., nan, nan, nan],\n",
       "        ...,\n",
       "        [nan, nan, nan, ..., nan, nan, nan],\n",
       "        [nan, nan, nan, ..., nan, nan, nan],\n",
       "        [nan, nan, nan, ..., nan, nan, nan]]], shape=(17, 17, 4096))</pre></div></li><li class='xr-var-item'><div class='xr-var-name'><span>energy</span></div><div class='xr-var-dims'>(y, x, energy)</div><div class='xr-var-dtype'>float64</div><div class='xr-var-preview xr-preview'>nan nan nan nan ... nan nan nan nan</div><input id='attrs-1a4cbf59-a217-4f56-97fa-6146d1e74551' class='xr-var-attrs-in' type='checkbox' ><label for='attrs-1a4cbf59-a217-4f56-97fa-6146d1e74551' title='Show/Hide attributes'><svg class='icon xr-icon-file-text2'><use xlink:href='#icon-file-text2'></use></svg></label><input id='data-b56037c1-58c0-4ceb-b015-35ba69240718' class='xr-var-data-in' type='checkbox'><label for='data-b56037c1-58c0-4ceb-b015-35ba69240718' title='Show/Hide data repr'><svg class='icon xr-icon-database'><use xlink:href='#icon-database'></use></svg></label><div class='xr-var-attrs'><dl class='xr-attrs'><dt><span>units :</span></dt><dd>keV</dd></dl></div><div class='xr-var-data'><pre>array([[[   nan,    nan,    nan, ...,    nan,    nan,    nan],\n",
       "        [   nan,    nan,    nan, ...,    nan,    nan,    nan],\n",
       "        [   nan,    nan,    nan, ...,    nan,    nan,    nan],\n",
       "        ...,\n",
       "        [   nan,    nan,    nan, ...,    nan,    nan,    nan],\n",
       "        [   nan,    nan,    nan, ...,    nan,    nan,    nan],\n",
       "        [   nan,    nan,    nan, ...,    nan,    nan,    nan]],\n",
       "\n",
       "       [[   nan,    nan,    nan, ...,    nan,    nan,    nan],\n",
       "        [   nan,    nan,    nan, ...,    nan,    nan,    nan],\n",
       "        [   nan,    nan,    nan, ...,    nan,    nan,    nan],\n",
       "        ...,\n",
       "        [   nan,    nan,    nan, ...,    nan,    nan,    nan],\n",
       "        [   nan,    nan,    nan, ...,    nan,    nan,    nan],\n",
       "        [   nan,    nan,    nan, ...,    nan,    nan,    nan]],\n",
       "\n",
       "       [[   nan,    nan,    nan, ...,    nan,    nan,    nan],\n",
       "        [   nan,    nan,    nan, ...,    nan,    nan,    nan],\n",
       "        [-0.473, -0.468, -0.463, ..., 19.992, 19.997, 20.002],\n",
       "        ...,\n",
       "...\n",
       "        [-0.473, -0.468, -0.463, ..., 19.992, 19.997, 20.002],\n",
       "        [   nan,    nan,    nan, ...,    nan,    nan,    nan],\n",
       "        [   nan,    nan,    nan, ...,    nan,    nan,    nan]],\n",
       "\n",
       "       [[   nan,    nan,    nan, ...,    nan,    nan,    nan],\n",
       "        [   nan,    nan,    nan, ...,    nan,    nan,    nan],\n",
       "        [   nan,    nan,    nan, ...,    nan,    nan,    nan],\n",
       "        ...,\n",
       "        [   nan,    nan,    nan, ...,    nan,    nan,    nan],\n",
       "        [   nan,    nan,    nan, ...,    nan,    nan,    nan],\n",
       "        [   nan,    nan,    nan, ...,    nan,    nan,    nan]],\n",
       "\n",
       "       [[   nan,    nan,    nan, ...,    nan,    nan,    nan],\n",
       "        [   nan,    nan,    nan, ...,    nan,    nan,    nan],\n",
       "        [   nan,    nan,    nan, ...,    nan,    nan,    nan],\n",
       "        ...,\n",
       "        [   nan,    nan,    nan, ...,    nan,    nan,    nan],\n",
       "        [   nan,    nan,    nan, ...,    nan,    nan,    nan],\n",
       "        [   nan,    nan,    nan, ...,    nan,    nan,    nan]]],\n",
       "      shape=(17, 17, 4096))</pre></div></li></ul></div></li><li class='xr-section-item'><input id='section-96086878-d7e8-41cc-8c85-7877795f11fa' class='xr-section-summary-in' type='checkbox' disabled ><label for='section-96086878-d7e8-41cc-8c85-7877795f11fa' class='xr-section-summary'  title='Expand/collapse section'>Data variables: <span>(0)</span></label><div class='xr-section-inline-details'></div><div class='xr-section-details'><ul class='xr-var-list'></ul></div></li><li class='xr-section-item'><input id='section-daf07960-8005-458c-8517-3558edecadeb' class='xr-section-summary-in' type='checkbox' disabled ><label for='section-daf07960-8005-458c-8517-3558edecadeb' class='xr-section-summary'  title='Expand/collapse section'>Attributes: <span>(0)</span></label><div class='xr-section-inline-details'></div><div class='xr-section-details'><dl class='xr-attrs'></dl></div></li></ul></div></div></div></div><div style='display: inline-grid; grid-template-columns: 0px 20px auto; width: 100%;'><div style='grid-column-start: 1;border-right: 0.2em solid;border-color: var(--xr-border-color);height: 100%;width: 0px;'></div><div style='grid-column-start: 2;grid-row-start: 1;height: 1em;width: 20px;border-bottom: 0.2em solid;border-color: var(--xr-border-color);'></div><div style='grid-column-start: 3;'><div><svg style=\"position: absolute; width: 0; height: 0; overflow: hidden\">\n",
       "<defs>\n",
       "<symbol id=\"icon-database\" viewBox=\"0 0 32 32\">\n",
       "<path d=\"M16 0c-8.837 0-16 2.239-16 5v4c0 2.761 7.163 5 16 5s16-2.239 16-5v-4c0-2.761-7.163-5-16-5z\"></path>\n",
       "<path d=\"M16 17c-8.837 0-16-2.239-16-5v6c0 2.761 7.163 5 16 5s16-2.239 16-5v-6c0 2.761-7.163 5-16 5z\"></path>\n",
       "<path d=\"M16 26c-8.837 0-16-2.239-16-5v6c0 2.761 7.163 5 16 5s16-2.239 16-5v-6c0 2.761-7.163 5-16 5z\"></path>\n",
       "</symbol>\n",
       "<symbol id=\"icon-file-text2\" viewBox=\"0 0 32 32\">\n",
       "<path d=\"M28.681 7.159c-0.694-0.947-1.662-2.053-2.724-3.116s-2.169-2.030-3.116-2.724c-1.612-1.182-2.393-1.319-2.841-1.319h-15.5c-1.378 0-2.5 1.121-2.5 2.5v27c0 1.378 1.122 2.5 2.5 2.5h23c1.378 0 2.5-1.122 2.5-2.5v-19.5c0-0.448-0.137-1.23-1.319-2.841zM24.543 5.457c0.959 0.959 1.712 1.825 2.268 2.543h-4.811v-4.811c0.718 0.556 1.584 1.309 2.543 2.268zM28 29.5c0 0.271-0.229 0.5-0.5 0.5h-23c-0.271 0-0.5-0.229-0.5-0.5v-27c0-0.271 0.229-0.5 0.5-0.5 0 0 15.499-0 15.5 0v7c0 0.552 0.448 1 1 1h7v19.5z\"></path>\n",
       "<path d=\"M23 26h-14c-0.552 0-1-0.448-1-1s0.448-1 1-1h14c0.552 0 1 0.448 1 1s-0.448 1-1 1z\"></path>\n",
       "<path d=\"M23 22h-14c-0.552 0-1-0.448-1-1s0.448-1 1-1h14c0.552 0 1 0.448 1 1s-0.448 1-1 1z\"></path>\n",
       "<path d=\"M23 18h-14c-0.552 0-1-0.448-1-1s0.448-1 1-1h14c0.552 0 1 0.448 1 1s-0.448 1-1 1z\"></path>\n",
       "</symbol>\n",
       "</defs>\n",
       "</svg>\n",
       "<style>/* CSS stylesheet for displaying xarray objects in jupyterlab.\n",
       " *\n",
       " */\n",
       "\n",
       ":root {\n",
       "  --xr-font-color0: var(--jp-content-font-color0, rgba(0, 0, 0, 1));\n",
       "  --xr-font-color2: var(--jp-content-font-color2, rgba(0, 0, 0, 0.54));\n",
       "  --xr-font-color3: var(--jp-content-font-color3, rgba(0, 0, 0, 0.38));\n",
       "  --xr-border-color: var(--jp-border-color2, #e0e0e0);\n",
       "  --xr-disabled-color: var(--jp-layout-color3, #bdbdbd);\n",
       "  --xr-background-color: var(--jp-layout-color0, white);\n",
       "  --xr-background-color-row-even: var(--jp-layout-color1, white);\n",
       "  --xr-background-color-row-odd: var(--jp-layout-color2, #eeeeee);\n",
       "}\n",
       "\n",
       "html[theme=\"dark\"],\n",
       "html[data-theme=\"dark\"],\n",
       "body[data-theme=\"dark\"],\n",
       "body.vscode-dark {\n",
       "  --xr-font-color0: rgba(255, 255, 255, 1);\n",
       "  --xr-font-color2: rgba(255, 255, 255, 0.54);\n",
       "  --xr-font-color3: rgba(255, 255, 255, 0.38);\n",
       "  --xr-border-color: #1f1f1f;\n",
       "  --xr-disabled-color: #515151;\n",
       "  --xr-background-color: #111111;\n",
       "  --xr-background-color-row-even: #111111;\n",
       "  --xr-background-color-row-odd: #313131;\n",
       "}\n",
       "\n",
       ".xr-wrap {\n",
       "  display: block !important;\n",
       "  min-width: 300px;\n",
       "  max-width: 700px;\n",
       "}\n",
       "\n",
       ".xr-text-repr-fallback {\n",
       "  /* fallback to plain text repr when CSS is not injected (untrusted notebook) */\n",
       "  display: none;\n",
       "}\n",
       "\n",
       ".xr-header {\n",
       "  padding-top: 6px;\n",
       "  padding-bottom: 6px;\n",
       "  margin-bottom: 4px;\n",
       "  border-bottom: solid 1px var(--xr-border-color);\n",
       "}\n",
       "\n",
       ".xr-header > div,\n",
       ".xr-header > ul {\n",
       "  display: inline;\n",
       "  margin-top: 0;\n",
       "  margin-bottom: 0;\n",
       "}\n",
       "\n",
       ".xr-obj-type,\n",
       ".xr-array-name {\n",
       "  margin-left: 2px;\n",
       "  margin-right: 10px;\n",
       "}\n",
       "\n",
       ".xr-obj-type {\n",
       "  color: var(--xr-font-color2);\n",
       "}\n",
       "\n",
       ".xr-sections {\n",
       "  padding-left: 0 !important;\n",
       "  display: grid;\n",
       "  grid-template-columns: 150px auto auto 1fr 0 20px 0 20px;\n",
       "}\n",
       "\n",
       ".xr-section-item {\n",
       "  display: contents;\n",
       "}\n",
       "\n",
       ".xr-section-item input {\n",
       "  display: inline-block;\n",
       "  opacity: 0;\n",
       "  height: 0;\n",
       "}\n",
       "\n",
       ".xr-section-item input + label {\n",
       "  color: var(--xr-disabled-color);\n",
       "}\n",
       "\n",
       ".xr-section-item input:enabled + label {\n",
       "  cursor: pointer;\n",
       "  color: var(--xr-font-color2);\n",
       "}\n",
       "\n",
       ".xr-section-item input:focus + label {\n",
       "  border: 2px solid var(--xr-font-color0);\n",
       "}\n",
       "\n",
       ".xr-section-item input:enabled + label:hover {\n",
       "  color: var(--xr-font-color0);\n",
       "}\n",
       "\n",
       ".xr-section-summary {\n",
       "  grid-column: 1;\n",
       "  color: var(--xr-font-color2);\n",
       "  font-weight: 500;\n",
       "}\n",
       "\n",
       ".xr-section-summary > span {\n",
       "  display: inline-block;\n",
       "  padding-left: 0.5em;\n",
       "}\n",
       "\n",
       ".xr-section-summary-in:disabled + label {\n",
       "  color: var(--xr-font-color2);\n",
       "}\n",
       "\n",
       ".xr-section-summary-in + label:before {\n",
       "  display: inline-block;\n",
       "  content: \"►\";\n",
       "  font-size: 11px;\n",
       "  width: 15px;\n",
       "  text-align: center;\n",
       "}\n",
       "\n",
       ".xr-section-summary-in:disabled + label:before {\n",
       "  color: var(--xr-disabled-color);\n",
       "}\n",
       "\n",
       ".xr-section-summary-in:checked + label:before {\n",
       "  content: \"▼\";\n",
       "}\n",
       "\n",
       ".xr-section-summary-in:checked + label > span {\n",
       "  display: none;\n",
       "}\n",
       "\n",
       ".xr-section-summary,\n",
       ".xr-section-inline-details {\n",
       "  padding-top: 4px;\n",
       "  padding-bottom: 4px;\n",
       "}\n",
       "\n",
       ".xr-section-inline-details {\n",
       "  grid-column: 2 / -1;\n",
       "}\n",
       "\n",
       ".xr-section-details {\n",
       "  display: none;\n",
       "  grid-column: 1 / -1;\n",
       "  margin-bottom: 5px;\n",
       "}\n",
       "\n",
       ".xr-section-summary-in:checked ~ .xr-section-details {\n",
       "  display: contents;\n",
       "}\n",
       "\n",
       ".xr-array-wrap {\n",
       "  grid-column: 1 / -1;\n",
       "  display: grid;\n",
       "  grid-template-columns: 20px auto;\n",
       "}\n",
       "\n",
       ".xr-array-wrap > label {\n",
       "  grid-column: 1;\n",
       "  vertical-align: top;\n",
       "}\n",
       "\n",
       ".xr-preview {\n",
       "  color: var(--xr-font-color3);\n",
       "}\n",
       "\n",
       ".xr-array-preview,\n",
       ".xr-array-data {\n",
       "  padding: 0 5px !important;\n",
       "  grid-column: 2;\n",
       "}\n",
       "\n",
       ".xr-array-data,\n",
       ".xr-array-in:checked ~ .xr-array-preview {\n",
       "  display: none;\n",
       "}\n",
       "\n",
       ".xr-array-in:checked ~ .xr-array-data,\n",
       ".xr-array-preview {\n",
       "  display: inline-block;\n",
       "}\n",
       "\n",
       ".xr-dim-list {\n",
       "  display: inline-block !important;\n",
       "  list-style: none;\n",
       "  padding: 0 !important;\n",
       "  margin: 0;\n",
       "}\n",
       "\n",
       ".xr-dim-list li {\n",
       "  display: inline-block;\n",
       "  padding: 0;\n",
       "  margin: 0;\n",
       "}\n",
       "\n",
       ".xr-dim-list:before {\n",
       "  content: \"(\";\n",
       "}\n",
       "\n",
       ".xr-dim-list:after {\n",
       "  content: \")\";\n",
       "}\n",
       "\n",
       ".xr-dim-list li:not(:last-child):after {\n",
       "  content: \",\";\n",
       "  padding-right: 5px;\n",
       "}\n",
       "\n",
       ".xr-has-index {\n",
       "  font-weight: bold;\n",
       "}\n",
       "\n",
       ".xr-var-list,\n",
       ".xr-var-item {\n",
       "  display: contents;\n",
       "}\n",
       "\n",
       ".xr-var-item > div,\n",
       ".xr-var-item label,\n",
       ".xr-var-item > .xr-var-name span {\n",
       "  background-color: var(--xr-background-color-row-even);\n",
       "  margin-bottom: 0;\n",
       "}\n",
       "\n",
       ".xr-var-item > .xr-var-name:hover span {\n",
       "  padding-right: 5px;\n",
       "}\n",
       "\n",
       ".xr-var-list > li:nth-child(odd) > div,\n",
       ".xr-var-list > li:nth-child(odd) > label,\n",
       ".xr-var-list > li:nth-child(odd) > .xr-var-name span {\n",
       "  background-color: var(--xr-background-color-row-odd);\n",
       "}\n",
       "\n",
       ".xr-var-name {\n",
       "  grid-column: 1;\n",
       "}\n",
       "\n",
       ".xr-var-dims {\n",
       "  grid-column: 2;\n",
       "}\n",
       "\n",
       ".xr-var-dtype {\n",
       "  grid-column: 3;\n",
       "  text-align: right;\n",
       "  color: var(--xr-font-color2);\n",
       "}\n",
       "\n",
       ".xr-var-preview {\n",
       "  grid-column: 4;\n",
       "}\n",
       "\n",
       ".xr-index-preview {\n",
       "  grid-column: 2 / 5;\n",
       "  color: var(--xr-font-color2);\n",
       "}\n",
       "\n",
       ".xr-var-name,\n",
       ".xr-var-dims,\n",
       ".xr-var-dtype,\n",
       ".xr-preview,\n",
       ".xr-attrs dt {\n",
       "  white-space: nowrap;\n",
       "  overflow: hidden;\n",
       "  text-overflow: ellipsis;\n",
       "  padding-right: 10px;\n",
       "}\n",
       "\n",
       ".xr-var-name:hover,\n",
       ".xr-var-dims:hover,\n",
       ".xr-var-dtype:hover,\n",
       ".xr-attrs dt:hover {\n",
       "  overflow: visible;\n",
       "  width: auto;\n",
       "  z-index: 1;\n",
       "}\n",
       "\n",
       ".xr-var-attrs,\n",
       ".xr-var-data,\n",
       ".xr-index-data {\n",
       "  display: none;\n",
       "  background-color: var(--xr-background-color) !important;\n",
       "  padding-bottom: 5px !important;\n",
       "}\n",
       "\n",
       ".xr-var-attrs-in:checked ~ .xr-var-attrs,\n",
       ".xr-var-data-in:checked ~ .xr-var-data,\n",
       ".xr-index-data-in:checked ~ .xr-index-data {\n",
       "  display: block;\n",
       "}\n",
       "\n",
       ".xr-var-data > table {\n",
       "  float: right;\n",
       "}\n",
       "\n",
       ".xr-var-name span,\n",
       ".xr-var-data,\n",
       ".xr-index-name div,\n",
       ".xr-index-data,\n",
       ".xr-attrs {\n",
       "  padding-left: 25px !important;\n",
       "}\n",
       "\n",
       ".xr-attrs,\n",
       ".xr-var-attrs,\n",
       ".xr-var-data,\n",
       ".xr-index-data {\n",
       "  grid-column: 1 / -1;\n",
       "}\n",
       "\n",
       "dl.xr-attrs {\n",
       "  padding: 0;\n",
       "  margin: 0;\n",
       "  display: grid;\n",
       "  grid-template-columns: 125px auto;\n",
       "}\n",
       "\n",
       ".xr-attrs dt,\n",
       ".xr-attrs dd {\n",
       "  padding: 0;\n",
       "  margin: 0;\n",
       "  float: left;\n",
       "  padding-right: 10px;\n",
       "  width: auto;\n",
       "}\n",
       "\n",
       ".xr-attrs dt {\n",
       "  font-weight: normal;\n",
       "  grid-column: 1;\n",
       "}\n",
       "\n",
       ".xr-attrs dt:hover span {\n",
       "  display: inline-block;\n",
       "  background: var(--xr-background-color);\n",
       "  padding-right: 10px;\n",
       "}\n",
       "\n",
       ".xr-attrs dd {\n",
       "  grid-column: 2;\n",
       "  white-space: pre-wrap;\n",
       "  word-break: break-all;\n",
       "}\n",
       "\n",
       ".xr-icon-database,\n",
       ".xr-icon-file-text2,\n",
       ".xr-no-icon {\n",
       "  display: inline-block;\n",
       "  vertical-align: middle;\n",
       "  width: 1em;\n",
       "  height: 1.5em !important;\n",
       "  stroke-width: 0;\n",
       "  stroke: currentColor;\n",
       "  fill: currentColor;\n",
       "}\n",
       "</style><pre class='xr-text-repr-fallback'>&lt;xarray.DatasetView&gt; Size: 19MB\n",
       "Dimensions:           (y: 17, x: 17, integrated_pulse: 2004,\n",
       "                       magnetization: 2004, pulse: 2004, reflectivity: 2004)\n",
       "Coordinates:\n",
       "  * y                 (y) float64 136B -40.0 -35.0 -30.0 ... 30.0 35.0 40.0\n",
       "  * x                 (x) float64 136B -40.0 -35.0 -30.0 ... 30.0 35.0 40.0\n",
       "    integrated_pulse  (y, x, integrated_pulse) float64 5MB nan nan ... nan nan\n",
       "    magnetization     (y, x, magnetization) float64 5MB nan nan nan ... nan nan\n",
       "    pulse             (y, x, pulse) float64 5MB nan nan nan nan ... nan nan nan\n",
       "    reflectivity      (y, x, reflectivity) float64 5MB nan nan nan ... nan nan\n",
       "Data variables:\n",
       "    *empty*</pre><div class='xr-wrap' style='display:none'><div class='xr-header'><div class='xr-obj-type'>MOKE</div></div><ul class='xr-sections'><li class='xr-section-item'><input id='section-d5f86f4c-6b0f-49be-979f-f64555fd24ac' class='xr-section-summary-in' type='checkbox' disabled ><label for='section-d5f86f4c-6b0f-49be-979f-f64555fd24ac' class='xr-section-summary'  title='Expand/collapse section'>Groups: <span>(0)</span></label><div class='xr-section-inline-details'></div><div class='xr-section-details'><div style='display: inline-grid; grid-template-columns: 100%; grid-column: 1 / -1'></div></div></li><li class='xr-section-item'><input id='section-a360924b-1b0b-4bfb-8394-ababf5f7e836' class='xr-section-summary-in' type='checkbox' disabled ><label for='section-a360924b-1b0b-4bfb-8394-ababf5f7e836' class='xr-section-summary'  title='Expand/collapse section'>Dimensions:</label><div class='xr-section-inline-details'><ul class='xr-dim-list'><li><span class='xr-has-index'>y</span>: 17</li><li><span class='xr-has-index'>x</span>: 17</li><li><span>integrated_pulse</span>: 2004</li><li><span>magnetization</span>: 2004</li><li><span>pulse</span>: 2004</li><li><span>reflectivity</span>: 2004</li></ul></div><div class='xr-section-details'></div></li><li class='xr-section-item'><input id='section-9a948b7b-b58d-4203-acfb-1a9b21ab1d6f' class='xr-section-summary-in' type='checkbox'  checked><label for='section-9a948b7b-b58d-4203-acfb-1a9b21ab1d6f' class='xr-section-summary' >Coordinates: <span>(6)</span></label><div class='xr-section-inline-details'></div><div class='xr-section-details'><ul class='xr-var-list'><li class='xr-var-item'><div class='xr-var-name'><span class='xr-has-index'>y</span></div><div class='xr-var-dims'>(y)</div><div class='xr-var-dtype'>float64</div><div class='xr-var-preview xr-preview'>-40.0 -35.0 -30.0 ... 35.0 40.0</div><input id='attrs-50ca1873-0d61-42db-8b85-df5be0352449' class='xr-var-attrs-in' type='checkbox' ><label for='attrs-50ca1873-0d61-42db-8b85-df5be0352449' title='Show/Hide attributes'><svg class='icon xr-icon-file-text2'><use xlink:href='#icon-file-text2'></use></svg></label><input id='data-cb85a5d5-c53a-4b22-9ce3-ad212d33ba90' class='xr-var-data-in' type='checkbox'><label for='data-cb85a5d5-c53a-4b22-9ce3-ad212d33ba90' title='Show/Hide data repr'><svg class='icon xr-icon-database'><use xlink:href='#icon-database'></use></svg></label><div class='xr-var-attrs'><dl class='xr-attrs'><dt><span>units :</span></dt><dd>mm</dd></dl></div><div class='xr-var-data'><pre>array([-40., -35., -30., -25., -20., -15., -10.,  -5.,   0.,   5.,  10.,  15.,\n",
       "        20.,  25.,  30.,  35.,  40.])</pre></div></li><li class='xr-var-item'><div class='xr-var-name'><span class='xr-has-index'>x</span></div><div class='xr-var-dims'>(x)</div><div class='xr-var-dtype'>float64</div><div class='xr-var-preview xr-preview'>-40.0 -35.0 -30.0 ... 35.0 40.0</div><input id='attrs-7ecd77f5-9615-4a0f-9d40-3dc576b64ba1' class='xr-var-attrs-in' type='checkbox' ><label for='attrs-7ecd77f5-9615-4a0f-9d40-3dc576b64ba1' title='Show/Hide attributes'><svg class='icon xr-icon-file-text2'><use xlink:href='#icon-file-text2'></use></svg></label><input id='data-ca64cdb5-82dc-45a8-b5cd-aebc7e7ee4cf' class='xr-var-data-in' type='checkbox'><label for='data-ca64cdb5-82dc-45a8-b5cd-aebc7e7ee4cf' title='Show/Hide data repr'><svg class='icon xr-icon-database'><use xlink:href='#icon-database'></use></svg></label><div class='xr-var-attrs'><dl class='xr-attrs'><dt><span>units :</span></dt><dd>mm</dd></dl></div><div class='xr-var-data'><pre>array([-40., -35., -30., -25., -20., -15., -10.,  -5.,   0.,   5.,  10.,  15.,\n",
       "        20.,  25.,  30.,  35.,  40.])</pre></div></li><li class='xr-var-item'><div class='xr-var-name'><span>integrated_pulse</span></div><div class='xr-var-dims'>(y, x, integrated_pulse)</div><div class='xr-var-dtype'>float64</div><div class='xr-var-preview xr-preview'>nan nan nan nan ... nan nan nan nan</div><input id='attrs-b79b47c9-7d3f-435f-9a39-e1661aa62e47' class='xr-var-attrs-in' type='checkbox' disabled><label for='attrs-b79b47c9-7d3f-435f-9a39-e1661aa62e47' title='Show/Hide attributes'><svg class='icon xr-icon-file-text2'><use xlink:href='#icon-file-text2'></use></svg></label><input id='data-cdf6f333-c8c7-406a-a738-e2666c7e6f65' class='xr-var-data-in' type='checkbox'><label for='data-cdf6f333-c8c7-406a-a738-e2666c7e6f65' title='Show/Hide data repr'><svg class='icon xr-icon-database'><use xlink:href='#icon-database'></use></svg></label><div class='xr-var-attrs'><dl class='xr-attrs'></dl></div><div class='xr-var-data'><pre>array([[[nan, nan, nan, ..., nan, nan, nan],\n",
       "        [nan, nan, nan, ..., nan, nan, nan],\n",
       "        [nan, nan, nan, ..., nan, nan, nan],\n",
       "        ...,\n",
       "        [nan, nan, nan, ..., nan, nan, nan],\n",
       "        [nan, nan, nan, ..., nan, nan, nan],\n",
       "        [nan, nan, nan, ..., nan, nan, nan]],\n",
       "\n",
       "       [[nan, nan, nan, ..., nan, nan, nan],\n",
       "        [nan, nan, nan, ..., nan, nan, nan],\n",
       "        [nan, nan, nan, ..., nan, nan, nan],\n",
       "        ...,\n",
       "        [nan, nan, nan, ..., nan, nan, nan],\n",
       "        [nan, nan, nan, ..., nan, nan, nan],\n",
       "        [nan, nan, nan, ..., nan, nan, nan]],\n",
       "\n",
       "       [[nan, nan, nan, ..., nan, nan, nan],\n",
       "        [nan, nan, nan, ..., nan, nan, nan],\n",
       "        [ 0.,  0.,  0., ...,  0.,  0.,  0.],\n",
       "        ...,\n",
       "...\n",
       "        ...,\n",
       "        [ 0.,  0.,  0., ...,  0.,  0.,  0.],\n",
       "        [nan, nan, nan, ..., nan, nan, nan],\n",
       "        [nan, nan, nan, ..., nan, nan, nan]],\n",
       "\n",
       "       [[nan, nan, nan, ..., nan, nan, nan],\n",
       "        [nan, nan, nan, ..., nan, nan, nan],\n",
       "        [nan, nan, nan, ..., nan, nan, nan],\n",
       "        ...,\n",
       "        [nan, nan, nan, ..., nan, nan, nan],\n",
       "        [nan, nan, nan, ..., nan, nan, nan],\n",
       "        [nan, nan, nan, ..., nan, nan, nan]],\n",
       "\n",
       "       [[nan, nan, nan, ..., nan, nan, nan],\n",
       "        [nan, nan, nan, ..., nan, nan, nan],\n",
       "        [nan, nan, nan, ..., nan, nan, nan],\n",
       "        ...,\n",
       "        [nan, nan, nan, ..., nan, nan, nan],\n",
       "        [nan, nan, nan, ..., nan, nan, nan],\n",
       "        [nan, nan, nan, ..., nan, nan, nan]]], shape=(17, 17, 2004))</pre></div></li><li class='xr-var-item'><div class='xr-var-name'><span>magnetization</span></div><div class='xr-var-dims'>(y, x, magnetization)</div><div class='xr-var-dtype'>float64</div><div class='xr-var-preview xr-preview'>nan nan nan nan ... nan nan nan nan</div><input id='attrs-6899a0ad-fc39-484b-b906-85e8b158184d' class='xr-var-attrs-in' type='checkbox' disabled><label for='attrs-6899a0ad-fc39-484b-b906-85e8b158184d' title='Show/Hide attributes'><svg class='icon xr-icon-file-text2'><use xlink:href='#icon-file-text2'></use></svg></label><input id='data-4b1ca5d5-00e8-488f-962b-52a9be141f2a' class='xr-var-data-in' type='checkbox'><label for='data-4b1ca5d5-00e8-488f-962b-52a9be141f2a' title='Show/Hide data repr'><svg class='icon xr-icon-database'><use xlink:href='#icon-database'></use></svg></label><div class='xr-var-attrs'><dl class='xr-attrs'></dl></div><div class='xr-var-data'><pre>array([[[        nan,         nan,         nan, ...,         nan,\n",
       "                 nan,         nan],\n",
       "        [        nan,         nan,         nan, ...,         nan,\n",
       "                 nan,         nan],\n",
       "        [        nan,         nan,         nan, ...,         nan,\n",
       "                 nan,         nan],\n",
       "        ...,\n",
       "        [        nan,         nan,         nan, ...,         nan,\n",
       "                 nan,         nan],\n",
       "        [        nan,         nan,         nan, ...,         nan,\n",
       "                 nan,         nan],\n",
       "        [        nan,         nan,         nan, ...,         nan,\n",
       "                 nan,         nan]],\n",
       "\n",
       "       [[        nan,         nan,         nan, ...,         nan,\n",
       "                 nan,         nan],\n",
       "        [        nan,         nan,         nan, ...,         nan,\n",
       "                 nan,         nan],\n",
       "        [        nan,         nan,         nan, ...,         nan,\n",
       "                 nan,         nan],\n",
       "...\n",
       "        [        nan,         nan,         nan, ...,         nan,\n",
       "                 nan,         nan],\n",
       "        [        nan,         nan,         nan, ...,         nan,\n",
       "                 nan,         nan],\n",
       "        [        nan,         nan,         nan, ...,         nan,\n",
       "                 nan,         nan]],\n",
       "\n",
       "       [[        nan,         nan,         nan, ...,         nan,\n",
       "                 nan,         nan],\n",
       "        [        nan,         nan,         nan, ...,         nan,\n",
       "                 nan,         nan],\n",
       "        [        nan,         nan,         nan, ...,         nan,\n",
       "                 nan,         nan],\n",
       "        ...,\n",
       "        [        nan,         nan,         nan, ...,         nan,\n",
       "                 nan,         nan],\n",
       "        [        nan,         nan,         nan, ...,         nan,\n",
       "                 nan,         nan],\n",
       "        [        nan,         nan,         nan, ...,         nan,\n",
       "                 nan,         nan]]], shape=(17, 17, 2004))</pre></div></li><li class='xr-var-item'><div class='xr-var-name'><span>pulse</span></div><div class='xr-var-dims'>(y, x, pulse)</div><div class='xr-var-dtype'>float64</div><div class='xr-var-preview xr-preview'>nan nan nan nan ... nan nan nan nan</div><input id='attrs-f18a7115-ddfa-481f-bc9c-18d2bd5a7c8c' class='xr-var-attrs-in' type='checkbox' disabled><label for='attrs-f18a7115-ddfa-481f-bc9c-18d2bd5a7c8c' title='Show/Hide attributes'><svg class='icon xr-icon-file-text2'><use xlink:href='#icon-file-text2'></use></svg></label><input id='data-860dcd9e-83ad-40c4-ad44-1ed411a6f686' class='xr-var-data-in' type='checkbox'><label for='data-860dcd9e-83ad-40c4-ad44-1ed411a6f686' title='Show/Hide data repr'><svg class='icon xr-icon-database'><use xlink:href='#icon-database'></use></svg></label><div class='xr-var-attrs'><dl class='xr-attrs'></dl></div><div class='xr-var-data'><pre>array([[[          nan,           nan,           nan, ...,\n",
       "                   nan,           nan,           nan],\n",
       "        [          nan,           nan,           nan, ...,\n",
       "                   nan,           nan,           nan],\n",
       "        [          nan,           nan,           nan, ...,\n",
       "                   nan,           nan,           nan],\n",
       "        ...,\n",
       "        [          nan,           nan,           nan, ...,\n",
       "                   nan,           nan,           nan],\n",
       "        [          nan,           nan,           nan, ...,\n",
       "                   nan,           nan,           nan],\n",
       "        [          nan,           nan,           nan, ...,\n",
       "                   nan,           nan,           nan]],\n",
       "\n",
       "       [[          nan,           nan,           nan, ...,\n",
       "                   nan,           nan,           nan],\n",
       "        [          nan,           nan,           nan, ...,\n",
       "                   nan,           nan,           nan],\n",
       "        [          nan,           nan,           nan, ...,\n",
       "                   nan,           nan,           nan],\n",
       "...\n",
       "                   nan,           nan,           nan],\n",
       "        [          nan,           nan,           nan, ...,\n",
       "                   nan,           nan,           nan],\n",
       "        [          nan,           nan,           nan, ...,\n",
       "                   nan,           nan,           nan]],\n",
       "\n",
       "       [[          nan,           nan,           nan, ...,\n",
       "                   nan,           nan,           nan],\n",
       "        [          nan,           nan,           nan, ...,\n",
       "                   nan,           nan,           nan],\n",
       "        [          nan,           nan,           nan, ...,\n",
       "                   nan,           nan,           nan],\n",
       "        ...,\n",
       "        [          nan,           nan,           nan, ...,\n",
       "                   nan,           nan,           nan],\n",
       "        [          nan,           nan,           nan, ...,\n",
       "                   nan,           nan,           nan],\n",
       "        [          nan,           nan,           nan, ...,\n",
       "                   nan,           nan,           nan]]],\n",
       "      shape=(17, 17, 2004))</pre></div></li><li class='xr-var-item'><div class='xr-var-name'><span>reflectivity</span></div><div class='xr-var-dims'>(y, x, reflectivity)</div><div class='xr-var-dtype'>float64</div><div class='xr-var-preview xr-preview'>nan nan nan nan ... nan nan nan nan</div><input id='attrs-75bab5b9-bbe4-4b5b-b24e-d0f541a7bb15' class='xr-var-attrs-in' type='checkbox' disabled><label for='attrs-75bab5b9-bbe4-4b5b-b24e-d0f541a7bb15' title='Show/Hide attributes'><svg class='icon xr-icon-file-text2'><use xlink:href='#icon-file-text2'></use></svg></label><input id='data-b9dc98b0-0278-4205-9760-7ff5d73d5789' class='xr-var-data-in' type='checkbox'><label for='data-b9dc98b0-0278-4205-9760-7ff5d73d5789' title='Show/Hide data repr'><svg class='icon xr-icon-database'><use xlink:href='#icon-database'></use></svg></label><div class='xr-var-attrs'><dl class='xr-attrs'></dl></div><div class='xr-var-data'><pre>array([[[       nan,        nan,        nan, ...,        nan,\n",
       "                nan,        nan],\n",
       "        [       nan,        nan,        nan, ...,        nan,\n",
       "                nan,        nan],\n",
       "        [       nan,        nan,        nan, ...,        nan,\n",
       "                nan,        nan],\n",
       "        ...,\n",
       "        [       nan,        nan,        nan, ...,        nan,\n",
       "                nan,        nan],\n",
       "        [       nan,        nan,        nan, ...,        nan,\n",
       "                nan,        nan],\n",
       "        [       nan,        nan,        nan, ...,        nan,\n",
       "                nan,        nan]],\n",
       "\n",
       "       [[       nan,        nan,        nan, ...,        nan,\n",
       "                nan,        nan],\n",
       "        [       nan,        nan,        nan, ...,        nan,\n",
       "                nan,        nan],\n",
       "        [       nan,        nan,        nan, ...,        nan,\n",
       "                nan,        nan],\n",
       "...\n",
       "        [       nan,        nan,        nan, ...,        nan,\n",
       "                nan,        nan],\n",
       "        [       nan,        nan,        nan, ...,        nan,\n",
       "                nan,        nan],\n",
       "        [       nan,        nan,        nan, ...,        nan,\n",
       "                nan,        nan]],\n",
       "\n",
       "       [[       nan,        nan,        nan, ...,        nan,\n",
       "                nan,        nan],\n",
       "        [       nan,        nan,        nan, ...,        nan,\n",
       "                nan,        nan],\n",
       "        [       nan,        nan,        nan, ...,        nan,\n",
       "                nan,        nan],\n",
       "        ...,\n",
       "        [       nan,        nan,        nan, ...,        nan,\n",
       "                nan,        nan],\n",
       "        [       nan,        nan,        nan, ...,        nan,\n",
       "                nan,        nan],\n",
       "        [       nan,        nan,        nan, ...,        nan,\n",
       "                nan,        nan]]], shape=(17, 17, 2004))</pre></div></li></ul></div></li><li class='xr-section-item'><input id='section-0b5d4343-f586-4f78-a042-e431a938e47c' class='xr-section-summary-in' type='checkbox' disabled ><label for='section-0b5d4343-f586-4f78-a042-e431a938e47c' class='xr-section-summary'  title='Expand/collapse section'>Data variables: <span>(0)</span></label><div class='xr-section-inline-details'></div><div class='xr-section-details'><ul class='xr-var-list'></ul></div></li><li class='xr-section-item'><input id='section-af7a8d13-6fbc-4e0c-bbe4-b7f2c100427b' class='xr-section-summary-in' type='checkbox' disabled ><label for='section-af7a8d13-6fbc-4e0c-bbe4-b7f2c100427b' class='xr-section-summary'  title='Expand/collapse section'>Attributes: <span>(0)</span></label><div class='xr-section-inline-details'></div><div class='xr-section-details'><dl class='xr-attrs'></dl></div></li></ul></div></div></div></div><div style='display: inline-grid; grid-template-columns: 0px 20px auto; width: 100%;'><div style='grid-column-start: 1;border-right: 0.2em solid;border-color: var(--xr-border-color);height: 1.2em;width: 0px;'></div><div style='grid-column-start: 2;grid-row-start: 1;height: 1em;width: 20px;border-bottom: 0.2em solid;border-color: var(--xr-border-color);'></div><div style='grid-column-start: 3;'><div><svg style=\"position: absolute; width: 0; height: 0; overflow: hidden\">\n",
       "<defs>\n",
       "<symbol id=\"icon-database\" viewBox=\"0 0 32 32\">\n",
       "<path d=\"M16 0c-8.837 0-16 2.239-16 5v4c0 2.761 7.163 5 16 5s16-2.239 16-5v-4c0-2.761-7.163-5-16-5z\"></path>\n",
       "<path d=\"M16 17c-8.837 0-16-2.239-16-5v6c0 2.761 7.163 5 16 5s16-2.239 16-5v-6c0 2.761-7.163 5-16 5z\"></path>\n",
       "<path d=\"M16 26c-8.837 0-16-2.239-16-5v6c0 2.761 7.163 5 16 5s16-2.239 16-5v-6c0 2.761-7.163 5-16 5z\"></path>\n",
       "</symbol>\n",
       "<symbol id=\"icon-file-text2\" viewBox=\"0 0 32 32\">\n",
       "<path d=\"M28.681 7.159c-0.694-0.947-1.662-2.053-2.724-3.116s-2.169-2.030-3.116-2.724c-1.612-1.182-2.393-1.319-2.841-1.319h-15.5c-1.378 0-2.5 1.121-2.5 2.5v27c0 1.378 1.122 2.5 2.5 2.5h23c1.378 0 2.5-1.122 2.5-2.5v-19.5c0-0.448-0.137-1.23-1.319-2.841zM24.543 5.457c0.959 0.959 1.712 1.825 2.268 2.543h-4.811v-4.811c0.718 0.556 1.584 1.309 2.543 2.268zM28 29.5c0 0.271-0.229 0.5-0.5 0.5h-23c-0.271 0-0.5-0.229-0.5-0.5v-27c0-0.271 0.229-0.5 0.5-0.5 0 0 15.499-0 15.5 0v7c0 0.552 0.448 1 1 1h7v19.5z\"></path>\n",
       "<path d=\"M23 26h-14c-0.552 0-1-0.448-1-1s0.448-1 1-1h14c0.552 0 1 0.448 1 1s-0.448 1-1 1z\"></path>\n",
       "<path d=\"M23 22h-14c-0.552 0-1-0.448-1-1s0.448-1 1-1h14c0.552 0 1 0.448 1 1s-0.448 1-1 1z\"></path>\n",
       "<path d=\"M23 18h-14c-0.552 0-1-0.448-1-1s0.448-1 1-1h14c0.552 0 1 0.448 1 1s-0.448 1-1 1z\"></path>\n",
       "</symbol>\n",
       "</defs>\n",
       "</svg>\n",
       "<style>/* CSS stylesheet for displaying xarray objects in jupyterlab.\n",
       " *\n",
       " */\n",
       "\n",
       ":root {\n",
       "  --xr-font-color0: var(--jp-content-font-color0, rgba(0, 0, 0, 1));\n",
       "  --xr-font-color2: var(--jp-content-font-color2, rgba(0, 0, 0, 0.54));\n",
       "  --xr-font-color3: var(--jp-content-font-color3, rgba(0, 0, 0, 0.38));\n",
       "  --xr-border-color: var(--jp-border-color2, #e0e0e0);\n",
       "  --xr-disabled-color: var(--jp-layout-color3, #bdbdbd);\n",
       "  --xr-background-color: var(--jp-layout-color0, white);\n",
       "  --xr-background-color-row-even: var(--jp-layout-color1, white);\n",
       "  --xr-background-color-row-odd: var(--jp-layout-color2, #eeeeee);\n",
       "}\n",
       "\n",
       "html[theme=\"dark\"],\n",
       "html[data-theme=\"dark\"],\n",
       "body[data-theme=\"dark\"],\n",
       "body.vscode-dark {\n",
       "  --xr-font-color0: rgba(255, 255, 255, 1);\n",
       "  --xr-font-color2: rgba(255, 255, 255, 0.54);\n",
       "  --xr-font-color3: rgba(255, 255, 255, 0.38);\n",
       "  --xr-border-color: #1f1f1f;\n",
       "  --xr-disabled-color: #515151;\n",
       "  --xr-background-color: #111111;\n",
       "  --xr-background-color-row-even: #111111;\n",
       "  --xr-background-color-row-odd: #313131;\n",
       "}\n",
       "\n",
       ".xr-wrap {\n",
       "  display: block !important;\n",
       "  min-width: 300px;\n",
       "  max-width: 700px;\n",
       "}\n",
       "\n",
       ".xr-text-repr-fallback {\n",
       "  /* fallback to plain text repr when CSS is not injected (untrusted notebook) */\n",
       "  display: none;\n",
       "}\n",
       "\n",
       ".xr-header {\n",
       "  padding-top: 6px;\n",
       "  padding-bottom: 6px;\n",
       "  margin-bottom: 4px;\n",
       "  border-bottom: solid 1px var(--xr-border-color);\n",
       "}\n",
       "\n",
       ".xr-header > div,\n",
       ".xr-header > ul {\n",
       "  display: inline;\n",
       "  margin-top: 0;\n",
       "  margin-bottom: 0;\n",
       "}\n",
       "\n",
       ".xr-obj-type,\n",
       ".xr-array-name {\n",
       "  margin-left: 2px;\n",
       "  margin-right: 10px;\n",
       "}\n",
       "\n",
       ".xr-obj-type {\n",
       "  color: var(--xr-font-color2);\n",
       "}\n",
       "\n",
       ".xr-sections {\n",
       "  padding-left: 0 !important;\n",
       "  display: grid;\n",
       "  grid-template-columns: 150px auto auto 1fr 0 20px 0 20px;\n",
       "}\n",
       "\n",
       ".xr-section-item {\n",
       "  display: contents;\n",
       "}\n",
       "\n",
       ".xr-section-item input {\n",
       "  display: inline-block;\n",
       "  opacity: 0;\n",
       "  height: 0;\n",
       "}\n",
       "\n",
       ".xr-section-item input + label {\n",
       "  color: var(--xr-disabled-color);\n",
       "}\n",
       "\n",
       ".xr-section-item input:enabled + label {\n",
       "  cursor: pointer;\n",
       "  color: var(--xr-font-color2);\n",
       "}\n",
       "\n",
       ".xr-section-item input:focus + label {\n",
       "  border: 2px solid var(--xr-font-color0);\n",
       "}\n",
       "\n",
       ".xr-section-item input:enabled + label:hover {\n",
       "  color: var(--xr-font-color0);\n",
       "}\n",
       "\n",
       ".xr-section-summary {\n",
       "  grid-column: 1;\n",
       "  color: var(--xr-font-color2);\n",
       "  font-weight: 500;\n",
       "}\n",
       "\n",
       ".xr-section-summary > span {\n",
       "  display: inline-block;\n",
       "  padding-left: 0.5em;\n",
       "}\n",
       "\n",
       ".xr-section-summary-in:disabled + label {\n",
       "  color: var(--xr-font-color2);\n",
       "}\n",
       "\n",
       ".xr-section-summary-in + label:before {\n",
       "  display: inline-block;\n",
       "  content: \"►\";\n",
       "  font-size: 11px;\n",
       "  width: 15px;\n",
       "  text-align: center;\n",
       "}\n",
       "\n",
       ".xr-section-summary-in:disabled + label:before {\n",
       "  color: var(--xr-disabled-color);\n",
       "}\n",
       "\n",
       ".xr-section-summary-in:checked + label:before {\n",
       "  content: \"▼\";\n",
       "}\n",
       "\n",
       ".xr-section-summary-in:checked + label > span {\n",
       "  display: none;\n",
       "}\n",
       "\n",
       ".xr-section-summary,\n",
       ".xr-section-inline-details {\n",
       "  padding-top: 4px;\n",
       "  padding-bottom: 4px;\n",
       "}\n",
       "\n",
       ".xr-section-inline-details {\n",
       "  grid-column: 2 / -1;\n",
       "}\n",
       "\n",
       ".xr-section-details {\n",
       "  display: none;\n",
       "  grid-column: 1 / -1;\n",
       "  margin-bottom: 5px;\n",
       "}\n",
       "\n",
       ".xr-section-summary-in:checked ~ .xr-section-details {\n",
       "  display: contents;\n",
       "}\n",
       "\n",
       ".xr-array-wrap {\n",
       "  grid-column: 1 / -1;\n",
       "  display: grid;\n",
       "  grid-template-columns: 20px auto;\n",
       "}\n",
       "\n",
       ".xr-array-wrap > label {\n",
       "  grid-column: 1;\n",
       "  vertical-align: top;\n",
       "}\n",
       "\n",
       ".xr-preview {\n",
       "  color: var(--xr-font-color3);\n",
       "}\n",
       "\n",
       ".xr-array-preview,\n",
       ".xr-array-data {\n",
       "  padding: 0 5px !important;\n",
       "  grid-column: 2;\n",
       "}\n",
       "\n",
       ".xr-array-data,\n",
       ".xr-array-in:checked ~ .xr-array-preview {\n",
       "  display: none;\n",
       "}\n",
       "\n",
       ".xr-array-in:checked ~ .xr-array-data,\n",
       ".xr-array-preview {\n",
       "  display: inline-block;\n",
       "}\n",
       "\n",
       ".xr-dim-list {\n",
       "  display: inline-block !important;\n",
       "  list-style: none;\n",
       "  padding: 0 !important;\n",
       "  margin: 0;\n",
       "}\n",
       "\n",
       ".xr-dim-list li {\n",
       "  display: inline-block;\n",
       "  padding: 0;\n",
       "  margin: 0;\n",
       "}\n",
       "\n",
       ".xr-dim-list:before {\n",
       "  content: \"(\";\n",
       "}\n",
       "\n",
       ".xr-dim-list:after {\n",
       "  content: \")\";\n",
       "}\n",
       "\n",
       ".xr-dim-list li:not(:last-child):after {\n",
       "  content: \",\";\n",
       "  padding-right: 5px;\n",
       "}\n",
       "\n",
       ".xr-has-index {\n",
       "  font-weight: bold;\n",
       "}\n",
       "\n",
       ".xr-var-list,\n",
       ".xr-var-item {\n",
       "  display: contents;\n",
       "}\n",
       "\n",
       ".xr-var-item > div,\n",
       ".xr-var-item label,\n",
       ".xr-var-item > .xr-var-name span {\n",
       "  background-color: var(--xr-background-color-row-even);\n",
       "  margin-bottom: 0;\n",
       "}\n",
       "\n",
       ".xr-var-item > .xr-var-name:hover span {\n",
       "  padding-right: 5px;\n",
       "}\n",
       "\n",
       ".xr-var-list > li:nth-child(odd) > div,\n",
       ".xr-var-list > li:nth-child(odd) > label,\n",
       ".xr-var-list > li:nth-child(odd) > .xr-var-name span {\n",
       "  background-color: var(--xr-background-color-row-odd);\n",
       "}\n",
       "\n",
       ".xr-var-name {\n",
       "  grid-column: 1;\n",
       "}\n",
       "\n",
       ".xr-var-dims {\n",
       "  grid-column: 2;\n",
       "}\n",
       "\n",
       ".xr-var-dtype {\n",
       "  grid-column: 3;\n",
       "  text-align: right;\n",
       "  color: var(--xr-font-color2);\n",
       "}\n",
       "\n",
       ".xr-var-preview {\n",
       "  grid-column: 4;\n",
       "}\n",
       "\n",
       ".xr-index-preview {\n",
       "  grid-column: 2 / 5;\n",
       "  color: var(--xr-font-color2);\n",
       "}\n",
       "\n",
       ".xr-var-name,\n",
       ".xr-var-dims,\n",
       ".xr-var-dtype,\n",
       ".xr-preview,\n",
       ".xr-attrs dt {\n",
       "  white-space: nowrap;\n",
       "  overflow: hidden;\n",
       "  text-overflow: ellipsis;\n",
       "  padding-right: 10px;\n",
       "}\n",
       "\n",
       ".xr-var-name:hover,\n",
       ".xr-var-dims:hover,\n",
       ".xr-var-dtype:hover,\n",
       ".xr-attrs dt:hover {\n",
       "  overflow: visible;\n",
       "  width: auto;\n",
       "  z-index: 1;\n",
       "}\n",
       "\n",
       ".xr-var-attrs,\n",
       ".xr-var-data,\n",
       ".xr-index-data {\n",
       "  display: none;\n",
       "  background-color: var(--xr-background-color) !important;\n",
       "  padding-bottom: 5px !important;\n",
       "}\n",
       "\n",
       ".xr-var-attrs-in:checked ~ .xr-var-attrs,\n",
       ".xr-var-data-in:checked ~ .xr-var-data,\n",
       ".xr-index-data-in:checked ~ .xr-index-data {\n",
       "  display: block;\n",
       "}\n",
       "\n",
       ".xr-var-data > table {\n",
       "  float: right;\n",
       "}\n",
       "\n",
       ".xr-var-name span,\n",
       ".xr-var-data,\n",
       ".xr-index-name div,\n",
       ".xr-index-data,\n",
       ".xr-attrs {\n",
       "  padding-left: 25px !important;\n",
       "}\n",
       "\n",
       ".xr-attrs,\n",
       ".xr-var-attrs,\n",
       ".xr-var-data,\n",
       ".xr-index-data {\n",
       "  grid-column: 1 / -1;\n",
       "}\n",
       "\n",
       "dl.xr-attrs {\n",
       "  padding: 0;\n",
       "  margin: 0;\n",
       "  display: grid;\n",
       "  grid-template-columns: 125px auto;\n",
       "}\n",
       "\n",
       ".xr-attrs dt,\n",
       ".xr-attrs dd {\n",
       "  padding: 0;\n",
       "  margin: 0;\n",
       "  float: left;\n",
       "  padding-right: 10px;\n",
       "  width: auto;\n",
       "}\n",
       "\n",
       ".xr-attrs dt {\n",
       "  font-weight: normal;\n",
       "  grid-column: 1;\n",
       "}\n",
       "\n",
       ".xr-attrs dt:hover span {\n",
       "  display: inline-block;\n",
       "  background: var(--xr-background-color);\n",
       "  padding-right: 10px;\n",
       "}\n",
       "\n",
       ".xr-attrs dd {\n",
       "  grid-column: 2;\n",
       "  white-space: pre-wrap;\n",
       "  word-break: break-all;\n",
       "}\n",
       "\n",
       ".xr-icon-database,\n",
       ".xr-icon-file-text2,\n",
       ".xr-no-icon {\n",
       "  display: inline-block;\n",
       "  vertical-align: middle;\n",
       "  width: 1em;\n",
       "  height: 1.5em !important;\n",
       "  stroke-width: 0;\n",
       "  stroke: currentColor;\n",
       "  fill: currentColor;\n",
       "}\n",
       "</style><pre class='xr-text-repr-fallback'>&lt;xarray.DatasetView&gt; Size: 14MB\n",
       "Dimensions:    (y: 17, x: 17, intensity: 2986, angle: 2986)\n",
       "Coordinates:\n",
       "  * y          (y) float64 136B -40.0 -35.0 -30.0 -25.0 ... 25.0 30.0 35.0 40.0\n",
       "  * x          (x) float64 136B -40.0 -35.0 -30.0 -25.0 ... 25.0 30.0 35.0 40.0\n",
       "    intensity  (y, x, intensity) float64 7MB nan nan nan nan ... nan nan nan nan\n",
       "    angle      (y, x, angle) float64 7MB nan nan nan nan nan ... nan nan nan nan\n",
       "Data variables:\n",
       "    *empty*</pre><div class='xr-wrap' style='display:none'><div class='xr-header'><div class='xr-obj-type'>XRD</div></div><ul class='xr-sections'><li class='xr-section-item'><input id='section-99365ec0-f376-42b1-b37c-ff8526d8b327' class='xr-section-summary-in' type='checkbox' disabled ><label for='section-99365ec0-f376-42b1-b37c-ff8526d8b327' class='xr-section-summary'  title='Expand/collapse section'>Groups: <span>(0)</span></label><div class='xr-section-inline-details'></div><div class='xr-section-details'><div style='display: inline-grid; grid-template-columns: 100%; grid-column: 1 / -1'></div></div></li><li class='xr-section-item'><input id='section-c673cf3a-27b9-45cd-ad53-38769cb0be19' class='xr-section-summary-in' type='checkbox' disabled ><label for='section-c673cf3a-27b9-45cd-ad53-38769cb0be19' class='xr-section-summary'  title='Expand/collapse section'>Dimensions:</label><div class='xr-section-inline-details'><ul class='xr-dim-list'><li><span class='xr-has-index'>y</span>: 17</li><li><span class='xr-has-index'>x</span>: 17</li><li><span>intensity</span>: 2986</li><li><span>angle</span>: 2986</li></ul></div><div class='xr-section-details'></div></li><li class='xr-section-item'><input id='section-2b41103c-d53d-4993-9ca1-de3a2f15f5a2' class='xr-section-summary-in' type='checkbox'  checked><label for='section-2b41103c-d53d-4993-9ca1-de3a2f15f5a2' class='xr-section-summary' >Coordinates: <span>(4)</span></label><div class='xr-section-inline-details'></div><div class='xr-section-details'><ul class='xr-var-list'><li class='xr-var-item'><div class='xr-var-name'><span class='xr-has-index'>y</span></div><div class='xr-var-dims'>(y)</div><div class='xr-var-dtype'>float64</div><div class='xr-var-preview xr-preview'>-40.0 -35.0 -30.0 ... 35.0 40.0</div><input id='attrs-8e1f575b-49d0-46ba-8dc0-a3b55fe77f23' class='xr-var-attrs-in' type='checkbox' ><label for='attrs-8e1f575b-49d0-46ba-8dc0-a3b55fe77f23' title='Show/Hide attributes'><svg class='icon xr-icon-file-text2'><use xlink:href='#icon-file-text2'></use></svg></label><input id='data-86aefbc5-4e21-4b08-bbed-cb638f4f1b15' class='xr-var-data-in' type='checkbox'><label for='data-86aefbc5-4e21-4b08-bbed-cb638f4f1b15' title='Show/Hide data repr'><svg class='icon xr-icon-database'><use xlink:href='#icon-database'></use></svg></label><div class='xr-var-attrs'><dl class='xr-attrs'><dt><span>units :</span></dt><dd>mm</dd></dl></div><div class='xr-var-data'><pre>array([-40., -35., -30., -25., -20., -15., -10.,  -5.,   0.,   5.,  10.,  15.,\n",
       "        20.,  25.,  30.,  35.,  40.])</pre></div></li><li class='xr-var-item'><div class='xr-var-name'><span class='xr-has-index'>x</span></div><div class='xr-var-dims'>(x)</div><div class='xr-var-dtype'>float64</div><div class='xr-var-preview xr-preview'>-40.0 -35.0 -30.0 ... 35.0 40.0</div><input id='attrs-1709d486-78af-4d50-9ba8-a246813a0391' class='xr-var-attrs-in' type='checkbox' ><label for='attrs-1709d486-78af-4d50-9ba8-a246813a0391' title='Show/Hide attributes'><svg class='icon xr-icon-file-text2'><use xlink:href='#icon-file-text2'></use></svg></label><input id='data-f55c450e-f293-4506-a90d-1ca903699fe2' class='xr-var-data-in' type='checkbox'><label for='data-f55c450e-f293-4506-a90d-1ca903699fe2' title='Show/Hide data repr'><svg class='icon xr-icon-database'><use xlink:href='#icon-database'></use></svg></label><div class='xr-var-attrs'><dl class='xr-attrs'><dt><span>units :</span></dt><dd>mm</dd></dl></div><div class='xr-var-data'><pre>array([-40., -35., -30., -25., -20., -15., -10.,  -5.,   0.,   5.,  10.,  15.,\n",
       "        20.,  25.,  30.,  35.,  40.])</pre></div></li><li class='xr-var-item'><div class='xr-var-name'><span>intensity</span></div><div class='xr-var-dims'>(y, x, intensity)</div><div class='xr-var-dtype'>float64</div><div class='xr-var-preview xr-preview'>nan nan nan nan ... nan nan nan nan</div><input id='attrs-7ce54814-1440-43b8-b9ea-5a1a4e21dbdf' class='xr-var-attrs-in' type='checkbox' ><label for='attrs-7ce54814-1440-43b8-b9ea-5a1a4e21dbdf' title='Show/Hide attributes'><svg class='icon xr-icon-file-text2'><use xlink:href='#icon-file-text2'></use></svg></label><input id='data-cd0aa154-324d-4e49-9736-c67d3ddccc7e' class='xr-var-data-in' type='checkbox'><label for='data-cd0aa154-324d-4e49-9736-c67d3ddccc7e' title='Show/Hide data repr'><svg class='icon xr-icon-database'><use xlink:href='#icon-database'></use></svg></label><div class='xr-var-attrs'><dl class='xr-attrs'><dt><span>units :</span></dt><dd>a.u.</dd></dl></div><div class='xr-var-data'><pre>array([[[          nan,           nan,           nan, ...,\n",
       "                   nan,           nan,           nan],\n",
       "        [          nan,           nan,           nan, ...,\n",
       "                   nan,           nan,           nan],\n",
       "        [          nan,           nan,           nan, ...,\n",
       "                   nan,           nan,           nan],\n",
       "        ...,\n",
       "        [          nan,           nan,           nan, ...,\n",
       "                   nan,           nan,           nan],\n",
       "        [          nan,           nan,           nan, ...,\n",
       "                   nan,           nan,           nan],\n",
       "        [          nan,           nan,           nan, ...,\n",
       "                   nan,           nan,           nan]],\n",
       "\n",
       "       [[          nan,           nan,           nan, ...,\n",
       "                   nan,           nan,           nan],\n",
       "        [          nan,           nan,           nan, ...,\n",
       "                   nan,           nan,           nan],\n",
       "        [          nan,           nan,           nan, ...,\n",
       "                   nan,           nan,           nan],\n",
       "...\n",
       "                   nan,           nan,           nan],\n",
       "        [          nan,           nan,           nan, ...,\n",
       "                   nan,           nan,           nan],\n",
       "        [          nan,           nan,           nan, ...,\n",
       "                   nan,           nan,           nan]],\n",
       "\n",
       "       [[          nan,           nan,           nan, ...,\n",
       "                   nan,           nan,           nan],\n",
       "        [          nan,           nan,           nan, ...,\n",
       "                   nan,           nan,           nan],\n",
       "        [          nan,           nan,           nan, ...,\n",
       "                   nan,           nan,           nan],\n",
       "        ...,\n",
       "        [          nan,           nan,           nan, ...,\n",
       "                   nan,           nan,           nan],\n",
       "        [          nan,           nan,           nan, ...,\n",
       "                   nan,           nan,           nan],\n",
       "        [          nan,           nan,           nan, ...,\n",
       "                   nan,           nan,           nan]]],\n",
       "      shape=(17, 17, 2986))</pre></div></li><li class='xr-var-item'><div class='xr-var-name'><span>angle</span></div><div class='xr-var-dims'>(y, x, angle)</div><div class='xr-var-dtype'>float64</div><div class='xr-var-preview xr-preview'>nan nan nan nan ... nan nan nan nan</div><input id='attrs-728f4b43-105f-4474-9407-c1c7c39fed4e' class='xr-var-attrs-in' type='checkbox' ><label for='attrs-728f4b43-105f-4474-9407-c1c7c39fed4e' title='Show/Hide attributes'><svg class='icon xr-icon-file-text2'><use xlink:href='#icon-file-text2'></use></svg></label><input id='data-74cc7150-3e91-4f71-8ff1-13045c355629' class='xr-var-data-in' type='checkbox'><label for='data-74cc7150-3e91-4f71-8ff1-13045c355629' title='Show/Hide data repr'><svg class='icon xr-icon-database'><use xlink:href='#icon-database'></use></svg></label><div class='xr-var-attrs'><dl class='xr-attrs'><dt><span>units :</span></dt><dd>tth (°)</dd></dl></div><div class='xr-var-data'><pre>array([[[        nan,         nan,         nan, ...,         nan,\n",
       "                 nan,         nan],\n",
       "        [        nan,         nan,         nan, ...,         nan,\n",
       "                 nan,         nan],\n",
       "        [        nan,         nan,         nan, ...,         nan,\n",
       "                 nan,         nan],\n",
       "        ...,\n",
       "        [        nan,         nan,         nan, ...,         nan,\n",
       "                 nan,         nan],\n",
       "        [        nan,         nan,         nan, ...,         nan,\n",
       "                 nan,         nan],\n",
       "        [        nan,         nan,         nan, ...,         nan,\n",
       "                 nan,         nan]],\n",
       "\n",
       "       [[        nan,         nan,         nan, ...,         nan,\n",
       "                 nan,         nan],\n",
       "        [        nan,         nan,         nan, ...,         nan,\n",
       "                 nan,         nan],\n",
       "        [        nan,         nan,         nan, ...,         nan,\n",
       "                 nan,         nan],\n",
       "...\n",
       "        [        nan,         nan,         nan, ...,         nan,\n",
       "                 nan,         nan],\n",
       "        [        nan,         nan,         nan, ...,         nan,\n",
       "                 nan,         nan],\n",
       "        [        nan,         nan,         nan, ...,         nan,\n",
       "                 nan,         nan]],\n",
       "\n",
       "       [[        nan,         nan,         nan, ...,         nan,\n",
       "                 nan,         nan],\n",
       "        [        nan,         nan,         nan, ...,         nan,\n",
       "                 nan,         nan],\n",
       "        [        nan,         nan,         nan, ...,         nan,\n",
       "                 nan,         nan],\n",
       "        ...,\n",
       "        [        nan,         nan,         nan, ...,         nan,\n",
       "                 nan,         nan],\n",
       "        [        nan,         nan,         nan, ...,         nan,\n",
       "                 nan,         nan],\n",
       "        [        nan,         nan,         nan, ...,         nan,\n",
       "                 nan,         nan]]], shape=(17, 17, 2986))</pre></div></li></ul></div></li><li class='xr-section-item'><input id='section-2fd89864-3fbe-44b8-9961-ce26c2f10543' class='xr-section-summary-in' type='checkbox' disabled ><label for='section-2fd89864-3fbe-44b8-9961-ce26c2f10543' class='xr-section-summary'  title='Expand/collapse section'>Data variables: <span>(0)</span></label><div class='xr-section-inline-details'></div><div class='xr-section-details'><ul class='xr-var-list'></ul></div></li><li class='xr-section-item'><input id='section-6952e802-bc09-4f2a-861f-ea11daf48a63' class='xr-section-summary-in' type='checkbox' disabled ><label for='section-6952e802-bc09-4f2a-861f-ea11daf48a63' class='xr-section-summary'  title='Expand/collapse section'>Attributes: <span>(0)</span></label><div class='xr-section-inline-details'></div><div class='xr-section-details'><dl class='xr-attrs'></dl></div></li></ul></div></div></div></div></div></div></li><li class='xr-section-item'><input id='section-4b576946-ac8b-4773-b4d1-1e1f56a04883' class='xr-section-summary-in' type='checkbox' disabled ><label for='section-4b576946-ac8b-4773-b4d1-1e1f56a04883' class='xr-section-summary'  title='Expand/collapse section'>Dimensions:</label><div class='xr-section-inline-details'></div><div class='xr-section-details'></div></li><li class='xr-section-item'><input id='section-b5c13e4b-aa04-4700-aa9e-92988dfec3da' class='xr-section-summary-in' type='checkbox' disabled ><label for='section-b5c13e4b-aa04-4700-aa9e-92988dfec3da' class='xr-section-summary'  title='Expand/collapse section'>Coordinates: <span>(0)</span></label><div class='xr-section-inline-details'></div><div class='xr-section-details'><ul class='xr-var-list'></ul></div></li><li class='xr-section-item'><input id='section-7eedf227-bb2c-4c52-b01d-3dfddb5d913c' class='xr-section-summary-in' type='checkbox' disabled ><label for='section-7eedf227-bb2c-4c52-b01d-3dfddb5d913c' class='xr-section-summary'  title='Expand/collapse section'>Inherited coordinates: <span>(0)</span></label><div class='xr-section-inline-details'></div><div class='xr-section-details'><ul class='xr-var-list'></ul></div></li><li class='xr-section-item'><input id='section-ddc68099-4984-4d2c-b89a-d4f732760b50' class='xr-section-summary-in' type='checkbox' disabled ><label for='section-ddc68099-4984-4d2c-b89a-d4f732760b50' class='xr-section-summary'  title='Expand/collapse section'>Data variables: <span>(0)</span></label><div class='xr-section-inline-details'></div><div class='xr-section-details'><ul class='xr-var-list'></ul></div></li><li class='xr-section-item'><input id='section-899244ea-6679-4d92-99f3-476bcd3a92eb' class='xr-section-summary-in' type='checkbox' disabled ><label for='section-899244ea-6679-4d92-99f3-476bcd3a92eb' class='xr-section-summary'  title='Expand/collapse section'>Attributes: <span>(0)</span></label><div class='xr-section-inline-details'></div><div class='xr-section-details'><dl class='xr-attrs'></dl></div></li></ul></div></div>"
      ],
      "text/plain": [
       "<xarray.DataTree 'Measurement Data'>\n",
       "Group: /\n",
       "├── Group: /EDX\n",
       "│       Dimensions:  (y: 17, x: 17, counts: 4096, energy: 4096)\n",
       "│       Coordinates:\n",
       "│         * y        (y) float64 136B -40.0 -35.0 -30.0 -25.0 ... 25.0 30.0 35.0 40.0\n",
       "│         * x        (x) float64 136B -40.0 -35.0 -30.0 -25.0 ... 25.0 30.0 35.0 40.0\n",
       "│           counts   (y, x, counts) float64 9MB nan nan nan nan nan ... nan nan nan nan\n",
       "│           energy   (y, x, energy) float64 9MB nan nan nan nan nan ... nan nan nan nan\n",
       "├── Group: /MOKE\n",
       "│       Dimensions:           (y: 17, x: 17, integrated_pulse: 2004,\n",
       "│                              magnetization: 2004, pulse: 2004, reflectivity: 2004)\n",
       "│       Coordinates:\n",
       "│         * y                 (y) float64 136B -40.0 -35.0 -30.0 ... 30.0 35.0 40.0\n",
       "│         * x                 (x) float64 136B -40.0 -35.0 -30.0 ... 30.0 35.0 40.0\n",
       "│           integrated_pulse  (y, x, integrated_pulse) float64 5MB nan nan ... nan nan\n",
       "│           magnetization     (y, x, magnetization) float64 5MB nan nan nan ... nan nan\n",
       "│           pulse             (y, x, pulse) float64 5MB nan nan nan nan ... nan nan nan\n",
       "│           reflectivity      (y, x, reflectivity) float64 5MB nan nan nan ... nan nan\n",
       "└── Group: /XRD\n",
       "        Dimensions:    (y: 17, x: 17, intensity: 2986, angle: 2986)\n",
       "        Coordinates:\n",
       "          * y          (y) float64 136B -40.0 -35.0 -30.0 -25.0 ... 25.0 30.0 35.0 40.0\n",
       "          * x          (x) float64 136B -40.0 -35.0 -30.0 -25.0 ... 25.0 30.0 35.0 40.0\n",
       "            intensity  (y, x, intensity) float64 7MB nan nan nan nan ... nan nan nan nan\n",
       "            angle      (y, x, angle) float64 7MB nan nan nan nan nan ... nan nan nan nan"
      ]
     },
     "execution_count": 11,
     "metadata": {},
     "output_type": "execute_result"
    }
   ],
   "source": [
    "all_scans # You can visualize its content in the notebook by calling the variable"
   ]
  },
  {
   "cell_type": "markdown",
   "id": "eed7056a",
   "metadata": {},
   "source": [
    "Before plotting, you need to select which dataset you want to plot as a function of another one, as an example :"
   ]
  },
  {
   "cell_type": "code",
   "execution_count": 26,
   "id": "64a6a8b1",
   "metadata": {},
   "outputs": [
    {
     "data": {
      "application/vnd.plotly.v1+json": {
       "config": {
        "plotlyServerURL": "https://plot.ly"
       },
       "data": [
        {
         "hovertemplate": "Two-theta (°)=%{x}<br>Intensity=%{y}<extra></extra>",
         "legendgroup": "",
         "line": {
          "color": "#636efa",
          "dash": "solid"
         },
         "marker": {
          "symbol": "circle"
         },
         "mode": "lines",
         "name": "",
         "showlegend": false,
         "type": "scattergl",
         "x": {
          "bdata": "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",
          "dtype": "f8"
         },
         "xaxis": "x",
         "y": {
          "bdata": "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",
          "dtype": "f8"
         },
         "yaxis": "y"
        }
       ],
       "layout": {
        "height": 600,
        "legend": {
         "tracegroupgap": 0
        },
        "margin": {
         "t": 60
        },
        "template": {
         "data": {
          "bar": [
           {
            "error_x": {
             "color": "#2a3f5f"
            },
            "error_y": {
             "color": "#2a3f5f"
            },
            "marker": {
             "line": {
              "color": "#E5ECF6",
              "width": 0.5
             },
             "pattern": {
              "fillmode": "overlay",
              "size": 10,
              "solidity": 0.2
             }
            },
            "type": "bar"
           }
          ],
          "barpolar": [
           {
            "marker": {
             "line": {
              "color": "#E5ECF6",
              "width": 0.5
             },
             "pattern": {
              "fillmode": "overlay",
              "size": 10,
              "solidity": 0.2
             }
            },
            "type": "barpolar"
           }
          ],
          "carpet": [
           {
            "aaxis": {
             "endlinecolor": "#2a3f5f",
             "gridcolor": "white",
             "linecolor": "white",
             "minorgridcolor": "white",
             "startlinecolor": "#2a3f5f"
            },
            "baxis": {
             "endlinecolor": "#2a3f5f",
             "gridcolor": "white",
             "linecolor": "white",
             "minorgridcolor": "white",
             "startlinecolor": "#2a3f5f"
            },
            "type": "carpet"
           }
          ],
          "choropleth": [
           {
            "colorbar": {
             "outlinewidth": 0,
             "ticks": ""
            },
            "type": "choropleth"
           }
          ],
          "contour": [
           {
            "colorbar": {
             "outlinewidth": 0,
             "ticks": ""
            },
            "colorscale": [
             [
              0,
              "#0d0887"
             ],
             [
              0.1111111111111111,
              "#46039f"
             ],
             [
              0.2222222222222222,
              "#7201a8"
             ],
             [
              0.3333333333333333,
              "#9c179e"
             ],
             [
              0.4444444444444444,
              "#bd3786"
             ],
             [
              0.5555555555555556,
              "#d8576b"
             ],
             [
              0.6666666666666666,
              "#ed7953"
             ],
             [
              0.7777777777777778,
              "#fb9f3a"
             ],
             [
              0.8888888888888888,
              "#fdca26"
             ],
             [
              1,
              "#f0f921"
             ]
            ],
            "type": "contour"
           }
          ],
          "contourcarpet": [
           {
            "colorbar": {
             "outlinewidth": 0,
             "ticks": ""
            },
            "type": "contourcarpet"
           }
          ],
          "heatmap": [
           {
            "colorbar": {
             "outlinewidth": 0,
             "ticks": ""
            },
            "colorscale": [
             [
              0,
              "#0d0887"
             ],
             [
              0.1111111111111111,
              "#46039f"
             ],
             [
              0.2222222222222222,
              "#7201a8"
             ],
             [
              0.3333333333333333,
              "#9c179e"
             ],
             [
              0.4444444444444444,
              "#bd3786"
             ],
             [
              0.5555555555555556,
              "#d8576b"
             ],
             [
              0.6666666666666666,
              "#ed7953"
             ],
             [
              0.7777777777777778,
              "#fb9f3a"
             ],
             [
              0.8888888888888888,
              "#fdca26"
             ],
             [
              1,
              "#f0f921"
             ]
            ],
            "type": "heatmap"
           }
          ],
          "histogram": [
           {
            "marker": {
             "pattern": {
              "fillmode": "overlay",
              "size": 10,
              "solidity": 0.2
             }
            },
            "type": "histogram"
           }
          ],
          "histogram2d": [
           {
            "colorbar": {
             "outlinewidth": 0,
             "ticks": ""
            },
            "colorscale": [
             [
              0,
              "#0d0887"
             ],
             [
              0.1111111111111111,
              "#46039f"
             ],
             [
              0.2222222222222222,
              "#7201a8"
             ],
             [
              0.3333333333333333,
              "#9c179e"
             ],
             [
              0.4444444444444444,
              "#bd3786"
             ],
             [
              0.5555555555555556,
              "#d8576b"
             ],
             [
              0.6666666666666666,
              "#ed7953"
             ],
             [
              0.7777777777777778,
              "#fb9f3a"
             ],
             [
              0.8888888888888888,
              "#fdca26"
             ],
             [
              1,
              "#f0f921"
             ]
            ],
            "type": "histogram2d"
           }
          ],
          "histogram2dcontour": [
           {
            "colorbar": {
             "outlinewidth": 0,
             "ticks": ""
            },
            "colorscale": [
             [
              0,
              "#0d0887"
             ],
             [
              0.1111111111111111,
              "#46039f"
             ],
             [
              0.2222222222222222,
              "#7201a8"
             ],
             [
              0.3333333333333333,
              "#9c179e"
             ],
             [
              0.4444444444444444,
              "#bd3786"
             ],
             [
              0.5555555555555556,
              "#d8576b"
             ],
             [
              0.6666666666666666,
              "#ed7953"
             ],
             [
              0.7777777777777778,
              "#fb9f3a"
             ],
             [
              0.8888888888888888,
              "#fdca26"
             ],
             [
              1,
              "#f0f921"
             ]
            ],
            "type": "histogram2dcontour"
           }
          ],
          "mesh3d": [
           {
            "colorbar": {
             "outlinewidth": 0,
             "ticks": ""
            },
            "type": "mesh3d"
           }
          ],
          "parcoords": [
           {
            "line": {
             "colorbar": {
              "outlinewidth": 0,
              "ticks": ""
             }
            },
            "type": "parcoords"
           }
          ],
          "pie": [
           {
            "automargin": true,
            "type": "pie"
           }
          ],
          "scatter": [
           {
            "fillpattern": {
             "fillmode": "overlay",
             "size": 10,
             "solidity": 0.2
            },
            "type": "scatter"
           }
          ],
          "scatter3d": [
           {
            "line": {
             "colorbar": {
              "outlinewidth": 0,
              "ticks": ""
             }
            },
            "marker": {
             "colorbar": {
              "outlinewidth": 0,
              "ticks": ""
             }
            },
            "type": "scatter3d"
           }
          ],
          "scattercarpet": [
           {
            "marker": {
             "colorbar": {
              "outlinewidth": 0,
              "ticks": ""
             }
            },
            "type": "scattercarpet"
           }
          ],
          "scattergeo": [
           {
            "marker": {
             "colorbar": {
              "outlinewidth": 0,
              "ticks": ""
             }
            },
            "type": "scattergeo"
           }
          ],
          "scattergl": [
           {
            "marker": {
             "colorbar": {
              "outlinewidth": 0,
              "ticks": ""
             }
            },
            "type": "scattergl"
           }
          ],
          "scattermap": [
           {
            "marker": {
             "colorbar": {
              "outlinewidth": 0,
              "ticks": ""
             }
            },
            "type": "scattermap"
           }
          ],
          "scattermapbox": [
           {
            "marker": {
             "colorbar": {
              "outlinewidth": 0,
              "ticks": ""
             }
            },
            "type": "scattermapbox"
           }
          ],
          "scatterpolar": [
           {
            "marker": {
             "colorbar": {
              "outlinewidth": 0,
              "ticks": ""
             }
            },
            "type": "scatterpolar"
           }
          ],
          "scatterpolargl": [
           {
            "marker": {
             "colorbar": {
              "outlinewidth": 0,
              "ticks": ""
             }
            },
            "type": "scatterpolargl"
           }
          ],
          "scatterternary": [
           {
            "marker": {
             "colorbar": {
              "outlinewidth": 0,
              "ticks": ""
             }
            },
            "type": "scatterternary"
           }
          ],
          "surface": [
           {
            "colorbar": {
             "outlinewidth": 0,
             "ticks": ""
            },
            "colorscale": [
             [
              0,
              "#0d0887"
             ],
             [
              0.1111111111111111,
              "#46039f"
             ],
             [
              0.2222222222222222,
              "#7201a8"
             ],
             [
              0.3333333333333333,
              "#9c179e"
             ],
             [
              0.4444444444444444,
              "#bd3786"
             ],
             [
              0.5555555555555556,
              "#d8576b"
             ],
             [
              0.6666666666666666,
              "#ed7953"
             ],
             [
              0.7777777777777778,
              "#fb9f3a"
             ],
             [
              0.8888888888888888,
              "#fdca26"
             ],
             [
              1,
              "#f0f921"
             ]
            ],
            "type": "surface"
           }
          ],
          "table": [
           {
            "cells": {
             "fill": {
              "color": "#EBF0F8"
             },
             "line": {
              "color": "white"
             }
            },
            "header": {
             "fill": {
              "color": "#C8D4E3"
             },
             "line": {
              "color": "white"
             }
            },
            "type": "table"
           }
          ]
         },
         "layout": {
          "annotationdefaults": {
           "arrowcolor": "#2a3f5f",
           "arrowhead": 0,
           "arrowwidth": 1
          },
          "autotypenumbers": "strict",
          "coloraxis": {
           "colorbar": {
            "outlinewidth": 0,
            "ticks": ""
           }
          },
          "colorscale": {
           "diverging": [
            [
             0,
             "#8e0152"
            ],
            [
             0.1,
             "#c51b7d"
            ],
            [
             0.2,
             "#de77ae"
            ],
            [
             0.3,
             "#f1b6da"
            ],
            [
             0.4,
             "#fde0ef"
            ],
            [
             0.5,
             "#f7f7f7"
            ],
            [
             0.6,
             "#e6f5d0"
            ],
            [
             0.7,
             "#b8e186"
            ],
            [
             0.8,
             "#7fbc41"
            ],
            [
             0.9,
             "#4d9221"
            ],
            [
             1,
             "#276419"
            ]
           ],
           "sequential": [
            [
             0,
             "#0d0887"
            ],
            [
             0.1111111111111111,
             "#46039f"
            ],
            [
             0.2222222222222222,
             "#7201a8"
            ],
            [
             0.3333333333333333,
             "#9c179e"
            ],
            [
             0.4444444444444444,
             "#bd3786"
            ],
            [
             0.5555555555555556,
             "#d8576b"
            ],
            [
             0.6666666666666666,
             "#ed7953"
            ],
            [
             0.7777777777777778,
             "#fb9f3a"
            ],
            [
             0.8888888888888888,
             "#fdca26"
            ],
            [
             1,
             "#f0f921"
            ]
           ],
           "sequentialminus": [
            [
             0,
             "#0d0887"
            ],
            [
             0.1111111111111111,
             "#46039f"
            ],
            [
             0.2222222222222222,
             "#7201a8"
            ],
            [
             0.3333333333333333,
             "#9c179e"
            ],
            [
             0.4444444444444444,
             "#bd3786"
            ],
            [
             0.5555555555555556,
             "#d8576b"
            ],
            [
             0.6666666666666666,
             "#ed7953"
            ],
            [
             0.7777777777777778,
             "#fb9f3a"
            ],
            [
             0.8888888888888888,
             "#fdca26"
            ],
            [
             1,
             "#f0f921"
            ]
           ]
          },
          "colorway": [
           "#636efa",
           "#EF553B",
           "#00cc96",
           "#ab63fa",
           "#FFA15A",
           "#19d3f3",
           "#FF6692",
           "#B6E880",
           "#FF97FF",
           "#FECB52"
          ],
          "font": {
           "color": "#2a3f5f"
          },
          "geo": {
           "bgcolor": "white",
           "lakecolor": "white",
           "landcolor": "#E5ECF6",
           "showlakes": true,
           "showland": true,
           "subunitcolor": "white"
          },
          "hoverlabel": {
           "align": "left"
          },
          "hovermode": "closest",
          "mapbox": {
           "style": "light"
          },
          "paper_bgcolor": "white",
          "plot_bgcolor": "#E5ECF6",
          "polar": {
           "angularaxis": {
            "gridcolor": "white",
            "linecolor": "white",
            "ticks": ""
           },
           "bgcolor": "#E5ECF6",
           "radialaxis": {
            "gridcolor": "white",
            "linecolor": "white",
            "ticks": ""
           }
          },
          "scene": {
           "xaxis": {
            "backgroundcolor": "#E5ECF6",
            "gridcolor": "white",
            "gridwidth": 2,
            "linecolor": "white",
            "showbackground": true,
            "ticks": "",
            "zerolinecolor": "white"
           },
           "yaxis": {
            "backgroundcolor": "#E5ECF6",
            "gridcolor": "white",
            "gridwidth": 2,
            "linecolor": "white",
            "showbackground": true,
            "ticks": "",
            "zerolinecolor": "white"
           },
           "zaxis": {
            "backgroundcolor": "#E5ECF6",
            "gridcolor": "white",
            "gridwidth": 2,
            "linecolor": "white",
            "showbackground": true,
            "ticks": "",
            "zerolinecolor": "white"
           }
          },
          "shapedefaults": {
           "line": {
            "color": "#2a3f5f"
           }
          },
          "ternary": {
           "aaxis": {
            "gridcolor": "white",
            "linecolor": "white",
            "ticks": ""
           },
           "baxis": {
            "gridcolor": "white",
            "linecolor": "white",
            "ticks": ""
           },
           "bgcolor": "#E5ECF6",
           "caxis": {
            "gridcolor": "white",
            "linecolor": "white",
            "ticks": ""
           }
          },
          "title": {
           "x": 0.05
          },
          "xaxis": {
           "automargin": true,
           "gridcolor": "white",
           "linecolor": "white",
           "ticks": "",
           "title": {
            "standoff": 15
           },
           "zerolinecolor": "white",
           "zerolinewidth": 2
          },
          "yaxis": {
           "automargin": true,
           "gridcolor": "white",
           "linecolor": "white",
           "ticks": "",
           "title": {
            "standoff": 15
           },
           "zerolinecolor": "white",
           "zerolinewidth": 2
          }
         }
        },
        "width": 800,
        "xaxis": {
         "anchor": "y",
         "domain": [
          0,
          1
         ],
         "title": {
          "text": "Two-theta (°)"
         }
        },
        "yaxis": {
         "anchor": "x",
         "domain": [
          0,
          1
         ],
         "title": {
          "text": "Intensity"
         }
        }
       }
      }
     },
     "metadata": {},
     "output_type": "display_data"
    }
   ],
   "source": [
    "# 1D pattern\n",
    "\n",
    "import plotly.express as px\n",
    "# Getting the angle and the intensity of the XRD pattern\n",
    "angle = all_scans[\"XRD\"][\"angle\"].sel(x=-15, y=-30).values.reshape(-1)\n",
    "intensity = all_scans[\"XRD\"][\"intensity\"].sel(x=-15, y=-30).values.reshape(-1)\n",
    "\n",
    "df = pd.DataFrame({\"Two-theta (°)\": angle, \"Intensity\": intensity})\n",
    "\n",
    "# Setting the labels for the plot from xarray attributs\n",
    "px.line(df, x=\"Two-theta (°)\", y=\"Intensity\", width=800, height=600)"
   ]
  },
  {
   "cell_type": "code",
   "execution_count": 22,
   "id": "58d6ab53",
   "metadata": {},
   "outputs": [
    {
     "data": {
      "application/vnd.plotly.v1+json": {
       "config": {
        "plotlyServerURL": "https://plot.ly"
       },
       "data": [
        {
         "hovertemplate": "Coercivity=%{x}<br>c/a=%{y}<extra></extra>",
         "legendgroup": "",
         "marker": {
          "color": "#636efa",
          "symbol": "circle"
         },
         "mode": "markers",
         "name": "",
         "orientation": "v",
         "showlegend": false,
         "type": "scatter",
         "x": {
          "bdata": "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",
          "dtype": "f8"
         },
         "xaxis": "x",
         "y": {
          "bdata": "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",
          "dtype": "f8"
         },
         "yaxis": "y"
        }
       ],
       "layout": {
        "height": 800,
        "legend": {
         "tracegroupgap": 0
        },
        "margin": {
         "t": 60
        },
        "template": {
         "data": {
          "bar": [
           {
            "error_x": {
             "color": "#2a3f5f"
            },
            "error_y": {
             "color": "#2a3f5f"
            },
            "marker": {
             "line": {
              "color": "#E5ECF6",
              "width": 0.5
             },
             "pattern": {
              "fillmode": "overlay",
              "size": 10,
              "solidity": 0.2
             }
            },
            "type": "bar"
           }
          ],
          "barpolar": [
           {
            "marker": {
             "line": {
              "color": "#E5ECF6",
              "width": 0.5
             },
             "pattern": {
              "fillmode": "overlay",
              "size": 10,
              "solidity": 0.2
             }
            },
            "type": "barpolar"
           }
          ],
          "carpet": [
           {
            "aaxis": {
             "endlinecolor": "#2a3f5f",
             "gridcolor": "white",
             "linecolor": "white",
             "minorgridcolor": "white",
             "startlinecolor": "#2a3f5f"
            },
            "baxis": {
             "endlinecolor": "#2a3f5f",
             "gridcolor": "white",
             "linecolor": "white",
             "minorgridcolor": "white",
             "startlinecolor": "#2a3f5f"
            },
            "type": "carpet"
           }
          ],
          "choropleth": [
           {
            "colorbar": {
             "outlinewidth": 0,
             "ticks": ""
            },
            "type": "choropleth"
           }
          ],
          "contour": [
           {
            "colorbar": {
             "outlinewidth": 0,
             "ticks": ""
            },
            "colorscale": [
             [
              0,
              "#0d0887"
             ],
             [
              0.1111111111111111,
              "#46039f"
             ],
             [
              0.2222222222222222,
              "#7201a8"
             ],
             [
              0.3333333333333333,
              "#9c179e"
             ],
             [
              0.4444444444444444,
              "#bd3786"
             ],
             [
              0.5555555555555556,
              "#d8576b"
             ],
             [
              0.6666666666666666,
              "#ed7953"
             ],
             [
              0.7777777777777778,
              "#fb9f3a"
             ],
             [
              0.8888888888888888,
              "#fdca26"
             ],
             [
              1,
              "#f0f921"
             ]
            ],
            "type": "contour"
           }
          ],
          "contourcarpet": [
           {
            "colorbar": {
             "outlinewidth": 0,
             "ticks": ""
            },
            "type": "contourcarpet"
           }
          ],
          "heatmap": [
           {
            "colorbar": {
             "outlinewidth": 0,
             "ticks": ""
            },
            "colorscale": [
             [
              0,
              "#0d0887"
             ],
             [
              0.1111111111111111,
              "#46039f"
             ],
             [
              0.2222222222222222,
              "#7201a8"
             ],
             [
              0.3333333333333333,
              "#9c179e"
             ],
             [
              0.4444444444444444,
              "#bd3786"
             ],
             [
              0.5555555555555556,
              "#d8576b"
             ],
             [
              0.6666666666666666,
              "#ed7953"
             ],
             [
              0.7777777777777778,
              "#fb9f3a"
             ],
             [
              0.8888888888888888,
              "#fdca26"
             ],
             [
              1,
              "#f0f921"
             ]
            ],
            "type": "heatmap"
           }
          ],
          "histogram": [
           {
            "marker": {
             "pattern": {
              "fillmode": "overlay",
              "size": 10,
              "solidity": 0.2
             }
            },
            "type": "histogram"
           }
          ],
          "histogram2d": [
           {
            "colorbar": {
             "outlinewidth": 0,
             "ticks": ""
            },
            "colorscale": [
             [
              0,
              "#0d0887"
             ],
             [
              0.1111111111111111,
              "#46039f"
             ],
             [
              0.2222222222222222,
              "#7201a8"
             ],
             [
              0.3333333333333333,
              "#9c179e"
             ],
             [
              0.4444444444444444,
              "#bd3786"
             ],
             [
              0.5555555555555556,
              "#d8576b"
             ],
             [
              0.6666666666666666,
              "#ed7953"
             ],
             [
              0.7777777777777778,
              "#fb9f3a"
             ],
             [
              0.8888888888888888,
              "#fdca26"
             ],
             [
              1,
              "#f0f921"
             ]
            ],
            "type": "histogram2d"
           }
          ],
          "histogram2dcontour": [
           {
            "colorbar": {
             "outlinewidth": 0,
             "ticks": ""
            },
            "colorscale": [
             [
              0,
              "#0d0887"
             ],
             [
              0.1111111111111111,
              "#46039f"
             ],
             [
              0.2222222222222222,
              "#7201a8"
             ],
             [
              0.3333333333333333,
              "#9c179e"
             ],
             [
              0.4444444444444444,
              "#bd3786"
             ],
             [
              0.5555555555555556,
              "#d8576b"
             ],
             [
              0.6666666666666666,
              "#ed7953"
             ],
             [
              0.7777777777777778,
              "#fb9f3a"
             ],
             [
              0.8888888888888888,
              "#fdca26"
             ],
             [
              1,
              "#f0f921"
             ]
            ],
            "type": "histogram2dcontour"
           }
          ],
          "mesh3d": [
           {
            "colorbar": {
             "outlinewidth": 0,
             "ticks": ""
            },
            "type": "mesh3d"
           }
          ],
          "parcoords": [
           {
            "line": {
             "colorbar": {
              "outlinewidth": 0,
              "ticks": ""
             }
            },
            "type": "parcoords"
           }
          ],
          "pie": [
           {
            "automargin": true,
            "type": "pie"
           }
          ],
          "scatter": [
           {
            "fillpattern": {
             "fillmode": "overlay",
             "size": 10,
             "solidity": 0.2
            },
            "type": "scatter"
           }
          ],
          "scatter3d": [
           {
            "line": {
             "colorbar": {
              "outlinewidth": 0,
              "ticks": ""
             }
            },
            "marker": {
             "colorbar": {
              "outlinewidth": 0,
              "ticks": ""
             }
            },
            "type": "scatter3d"
           }
          ],
          "scattercarpet": [
           {
            "marker": {
             "colorbar": {
              "outlinewidth": 0,
              "ticks": ""
             }
            },
            "type": "scattercarpet"
           }
          ],
          "scattergeo": [
           {
            "marker": {
             "colorbar": {
              "outlinewidth": 0,
              "ticks": ""
             }
            },
            "type": "scattergeo"
           }
          ],
          "scattergl": [
           {
            "marker": {
             "colorbar": {
              "outlinewidth": 0,
              "ticks": ""
             }
            },
            "type": "scattergl"
           }
          ],
          "scattermap": [
           {
            "marker": {
             "colorbar": {
              "outlinewidth": 0,
              "ticks": ""
             }
            },
            "type": "scattermap"
           }
          ],
          "scattermapbox": [
           {
            "marker": {
             "colorbar": {
              "outlinewidth": 0,
              "ticks": ""
             }
            },
            "type": "scattermapbox"
           }
          ],
          "scatterpolar": [
           {
            "marker": {
             "colorbar": {
              "outlinewidth": 0,
              "ticks": ""
             }
            },
            "type": "scatterpolar"
           }
          ],
          "scatterpolargl": [
           {
            "marker": {
             "colorbar": {
              "outlinewidth": 0,
              "ticks": ""
             }
            },
            "type": "scatterpolargl"
           }
          ],
          "scatterternary": [
           {
            "marker": {
             "colorbar": {
              "outlinewidth": 0,
              "ticks": ""
             }
            },
            "type": "scatterternary"
           }
          ],
          "surface": [
           {
            "colorbar": {
             "outlinewidth": 0,
             "ticks": ""
            },
            "colorscale": [
             [
              0,
              "#0d0887"
             ],
             [
              0.1111111111111111,
              "#46039f"
             ],
             [
              0.2222222222222222,
              "#7201a8"
             ],
             [
              0.3333333333333333,
              "#9c179e"
             ],
             [
              0.4444444444444444,
              "#bd3786"
             ],
             [
              0.5555555555555556,
              "#d8576b"
             ],
             [
              0.6666666666666666,
              "#ed7953"
             ],
             [
              0.7777777777777778,
              "#fb9f3a"
             ],
             [
              0.8888888888888888,
              "#fdca26"
             ],
             [
              1,
              "#f0f921"
             ]
            ],
            "type": "surface"
           }
          ],
          "table": [
           {
            "cells": {
             "fill": {
              "color": "#EBF0F8"
             },
             "line": {
              "color": "white"
             }
            },
            "header": {
             "fill": {
              "color": "#C8D4E3"
             },
             "line": {
              "color": "white"
             }
            },
            "type": "table"
           }
          ]
         },
         "layout": {
          "annotationdefaults": {
           "arrowcolor": "#2a3f5f",
           "arrowhead": 0,
           "arrowwidth": 1
          },
          "autotypenumbers": "strict",
          "coloraxis": {
           "colorbar": {
            "outlinewidth": 0,
            "ticks": ""
           }
          },
          "colorscale": {
           "diverging": [
            [
             0,
             "#8e0152"
            ],
            [
             0.1,
             "#c51b7d"
            ],
            [
             0.2,
             "#de77ae"
            ],
            [
             0.3,
             "#f1b6da"
            ],
            [
             0.4,
             "#fde0ef"
            ],
            [
             0.5,
             "#f7f7f7"
            ],
            [
             0.6,
             "#e6f5d0"
            ],
            [
             0.7,
             "#b8e186"
            ],
            [
             0.8,
             "#7fbc41"
            ],
            [
             0.9,
             "#4d9221"
            ],
            [
             1,
             "#276419"
            ]
           ],
           "sequential": [
            [
             0,
             "#0d0887"
            ],
            [
             0.1111111111111111,
             "#46039f"
            ],
            [
             0.2222222222222222,
             "#7201a8"
            ],
            [
             0.3333333333333333,
             "#9c179e"
            ],
            [
             0.4444444444444444,
             "#bd3786"
            ],
            [
             0.5555555555555556,
             "#d8576b"
            ],
            [
             0.6666666666666666,
             "#ed7953"
            ],
            [
             0.7777777777777778,
             "#fb9f3a"
            ],
            [
             0.8888888888888888,
             "#fdca26"
            ],
            [
             1,
             "#f0f921"
            ]
           ],
           "sequentialminus": [
            [
             0,
             "#0d0887"
            ],
            [
             0.1111111111111111,
             "#46039f"
            ],
            [
             0.2222222222222222,
             "#7201a8"
            ],
            [
             0.3333333333333333,
             "#9c179e"
            ],
            [
             0.4444444444444444,
             "#bd3786"
            ],
            [
             0.5555555555555556,
             "#d8576b"
            ],
            [
             0.6666666666666666,
             "#ed7953"
            ],
            [
             0.7777777777777778,
             "#fb9f3a"
            ],
            [
             0.8888888888888888,
             "#fdca26"
            ],
            [
             1,
             "#f0f921"
            ]
           ]
          },
          "colorway": [
           "#636efa",
           "#EF553B",
           "#00cc96",
           "#ab63fa",
           "#FFA15A",
           "#19d3f3",
           "#FF6692",
           "#B6E880",
           "#FF97FF",
           "#FECB52"
          ],
          "font": {
           "color": "#2a3f5f"
          },
          "geo": {
           "bgcolor": "white",
           "lakecolor": "white",
           "landcolor": "#E5ECF6",
           "showlakes": true,
           "showland": true,
           "subunitcolor": "white"
          },
          "hoverlabel": {
           "align": "left"
          },
          "hovermode": "closest",
          "mapbox": {
           "style": "light"
          },
          "paper_bgcolor": "white",
          "plot_bgcolor": "#E5ECF6",
          "polar": {
           "angularaxis": {
            "gridcolor": "white",
            "linecolor": "white",
            "ticks": ""
           },
           "bgcolor": "#E5ECF6",
           "radialaxis": {
            "gridcolor": "white",
            "linecolor": "white",
            "ticks": ""
           }
          },
          "scene": {
           "xaxis": {
            "backgroundcolor": "#E5ECF6",
            "gridcolor": "white",
            "gridwidth": 2,
            "linecolor": "white",
            "showbackground": true,
            "ticks": "",
            "zerolinecolor": "white"
           },
           "yaxis": {
            "backgroundcolor": "#E5ECF6",
            "gridcolor": "white",
            "gridwidth": 2,
            "linecolor": "white",
            "showbackground": true,
            "ticks": "",
            "zerolinecolor": "white"
           },
           "zaxis": {
            "backgroundcolor": "#E5ECF6",
            "gridcolor": "white",
            "gridwidth": 2,
            "linecolor": "white",
            "showbackground": true,
            "ticks": "",
            "zerolinecolor": "white"
           }
          },
          "shapedefaults": {
           "line": {
            "color": "#2a3f5f"
           }
          },
          "ternary": {
           "aaxis": {
            "gridcolor": "white",
            "linecolor": "white",
            "ticks": ""
           },
           "baxis": {
            "gridcolor": "white",
            "linecolor": "white",
            "ticks": ""
           },
           "bgcolor": "#E5ECF6",
           "caxis": {
            "gridcolor": "white",
            "linecolor": "white",
            "ticks": ""
           }
          },
          "title": {
           "x": 0.05
          },
          "xaxis": {
           "automargin": true,
           "gridcolor": "white",
           "linecolor": "white",
           "ticks": "",
           "title": {
            "standoff": 15
           },
           "zerolinecolor": "white",
           "zerolinewidth": 2
          },
          "yaxis": {
           "automargin": true,
           "gridcolor": "white",
           "linecolor": "white",
           "ticks": "",
           "title": {
            "standoff": 15
           },
           "zerolinecolor": "white",
           "zerolinewidth": 2
          }
         }
        },
        "width": 800,
        "xaxis": {
         "anchor": "y",
         "domain": [
          0,
          1
         ],
         "title": {
          "text": "Coercivity"
         }
        },
        "yaxis": {
         "anchor": "x",
         "domain": [
          0,
          1
         ],
         "title": {
          "text": "c/a"
         }
        }
       }
      }
     },
     "metadata": {},
     "output_type": "display_data"
    }
   ],
   "source": [
    "# More manipulations\n",
    "import plotly.express as px\n",
    "\n",
    "lattice_a = data[\"Nd2Fe14B Lattice Parameter A\"].values.reshape(-1)\n",
    "lattice_c = data[\"Nd2Fe14B Lattice Parameter C\"].values.reshape(-1)\n",
    "coercivity = data[\"coercivity_m0\"].values.reshape(-1)\n",
    "df = pd.DataFrame({\"c/a\": lattice_c/lattice_a, \"Coercivity\": coercivity})\n",
    "\n",
    "# Setting the labels for the plot from xarray attributs\n",
    "fig_scatter = px.scatter(df, x= \"Coercivity\", y=\"c/a\", width=800, height=800)\n",
    "\n",
    "fig_scatter.show()"
   ]
  },
  {
   "cell_type": "code",
   "execution_count": 14,
   "id": "be9df1b3",
   "metadata": {},
   "outputs": [
    {
     "data": {
      "text/plain": [
       "<matplotlib.image.AxesImage at 0x128180950>"
      ]
     },
     "execution_count": 14,
     "metadata": {},
     "output_type": "execute_result"
    },
    {
     "data": {
      "image/png": "[encoded data removed]",
      "text/plain": [
       "<Figure size 1500x600 with 1 Axes>"
      ]
     },
     "metadata": {},
     "output_type": "display_data"
    }
   ],
   "source": [
    "# Waterfall pattern\n",
    "\n",
    "from matplotlib import pyplot as plt\n",
    "# Getting the angle and the intensity of the XRD pattern\n",
    "angle = all_scans[\"XRD\"][\"angle\"].sel(x=-15, y=-30)\n",
    "intensity = all_scans[\"XRD\"][\"intensity\"].sel(y=-15)\n",
    "\n",
    "plt.figure(figsize=(15,6))\n",
    "plt.imshow(intensity, aspect=100)"
   ]
  },
  {
   "cell_type": "code",
   "execution_count": null,
   "id": "71777c38",
   "metadata": {},
   "outputs": [
    {
     "name": "stdout",
     "output_type": "stream",
     "text": [
      "Datatype: edx\n",
      "Datatype: xrd\n",
      "Datatype: moke\n"
     ]
    }
   ],
   "source": [
    "import packages.readers.read_hdf5 as read_hdf5\n",
    "import pathlib\n",
    "\n",
    "HDF5_path = pathlib.Path(\"/Users/williamrigaut/Desktop/combinatorials/combinatorials-data/NdCeFeB_2-5.hdf5\")\n",
    "HDF5_simplified_path = pathlib.Path(\"/Users/williamrigaut/Desktop/combinatorials/combinatorials-data/NdCeFeB_2-5.hdf5_simplified.hdf5\")\n",
    "\n",
    "read_hdf5.create_simplified_dataset(HDF5_path, HDF5_simplified_path)\n"
   ]
  },
  {
   "cell_type": "code",
   "execution_count": null,
   "id": "1cb7017c",
   "metadata": {},
   "outputs": [],
   "source": [
    "# import h5py\n",
    "\n",
    "# filepath = \"/Users/williamrigaut/Desktop/combinatorials/combinatorials-data/CeCoZn_4-3.hdf5\"\n",
    "\n",
    "# with h5py.File(filepath, \"a\") as h5f:\n",
    "#     group = h5f[\"CeCoZn_4-3_ESRF\"]\n",
    "\n",
    "#     for key in group.keys():\n",
    "#         for subkey in group[key].keys():\n",
    "#             if subkey == \"results\":\n",
    "#                 print(f\"Deleted {group[key][subkey]}\")\n",
    "#                 del group[key][subkey]\n",
    "                \n"
   ]
  },
  {
   "cell_type": "markdown",
   "id": "a9e708bf",
   "metadata": {},
   "source": [
    "### **Appendix A. CHADA Tables and Diagrams for High Throughput Experiments at Néel Institut**"
   ]
  },
  {
   "cell_type": "markdown",
   "id": "482eb15d",
   "metadata": {},
   "source": [
    "#### **A.1 CHADA Diagrams**"
   ]
  },
  {
   "cell_type": "markdown",
   "id": "19bee141",
   "metadata": {},
   "source": [
    "CHADA Diagrams are used in MaMMoS to describe the flowchart of an experiment with a simple skematic. Each step is described with a short explanation and a color:\n",
    "\n",
    "- RED: Indicates what type of sample was used to start the experiment.\n",
    "\n",
    "- BLUE: Shows what needs to be done during the experiment to obtain the measured data.\n",
    "\n",
    "- DARK GREEN: Raw data measured directly from the experiment.\n",
    "\n",
    "- LIGHT GREEN: Treated data, usually extracted for the raw data using a software or a python code.\n",
    "\n",
    "- DARK BLUE CONTOUR: Final treated data, is the content that you obtain from the `get_full_dataset()` command."
   ]
  },
  {
   "cell_type": "markdown",
   "id": "c8ce7c98",
   "metadata": {},
   "source": [
    "##### **CHADA Diagram for EDX (click left to display):**"
   ]
  },
  {
   "cell_type": "markdown",
   "id": "45742b20",
   "metadata": {},
   "source": [
    "![EDX Diagram](examples/EDX.svg)"
   ]
  },
  {
   "cell_type": "markdown",
   "id": "2311c753",
   "metadata": {},
   "source": [
    "##### **CHADA Diagram for MOKE:**"
   ]
  },
  {
   "cell_type": "markdown",
   "id": "f8b2788b",
   "metadata": {},
   "source": [
    "![MOKE Diagram](examples/MOKE.svg)"
   ]
  },
  {
   "cell_type": "markdown",
   "id": "d0a65645",
   "metadata": {},
   "source": [
    "##### **CHADA Diagram for XRD:**"
   ]
  },
  {
   "cell_type": "markdown",
   "id": "f8e35690",
   "metadata": {},
   "source": [
    "![XRD Diagram](examples/XRD.svg)"
   ]
  },
  {
   "cell_type": "markdown",
   "id": "f9043457",
   "metadata": {},
   "source": [
    "#### **A.2 CHADA Tables**\n",
    "CHADA Tables are used in MaMMoS to describe in details each experiment with a longer description that diagrams. Each important point about the experiment is described in a few lines. The color code is the same as for CHADA Tables."
   ]
  },
  {
   "cell_type": "markdown",
   "id": "a308e404",
   "metadata": {},
   "source": [
    "##### **CHADA Table for EDX:**"
   ]
  },
  {
   "cell_type": "markdown",
   "id": "c64ee627",
   "metadata": {},
   "source": [
    "![EDX Table](examples/CHADA_TABLES_EDX.svg)"
   ]
  },
  {
   "cell_type": "markdown",
   "id": "bc2300da",
   "metadata": {},
   "source": [
    "##### **CHADA Table for MOKE:**"
   ]
  },
  {
   "cell_type": "markdown",
   "id": "6b94bc08",
   "metadata": {},
   "source": [
    "![MOKE Table](examples/CHADA_TABLES_MOKE.svg)"
   ]
  },
  {
   "cell_type": "markdown",
   "id": "3d5f74c9",
   "metadata": {},
   "source": [
    "##### **CHADA Table for XRD:**"
   ]
  },
  {
   "cell_type": "markdown",
   "id": "6bfef6c5",
   "metadata": {},
   "source": [
    "![XRD Table](examples/CHADA_TABLES_XRD.svg)"
   ]
  },
  {
   "cell_type": "markdown",
   "id": "cddc3fbc-21f7-4e89-bf49-1bb99c134c76",
   "metadata": {},
   "source": [
    "### **@end-of-notebook**"
   ]
  }
 ],
 "metadata": {
  "kernelspec": {
   "display_name": "Python 3 (ipykernel)",
   "language": "python",
   "name": "python3"
  },
  "language_info": {
   "codemirror_mode": {
    "name": "ipython",
    "version": 3
   },
   "file_extension": ".py",
   "mimetype": "text/x-python",
   "name": "python",
   "nbconvert_exporter": "python",
   "pygments_lexer": "ipython3",
   "version": "3.12.3"
  }
 },
 "nbformat": 4,
 "nbformat_minor": 5
}
